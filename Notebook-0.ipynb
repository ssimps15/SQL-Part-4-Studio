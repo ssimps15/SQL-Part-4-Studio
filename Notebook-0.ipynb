{
    "metadata": {
        "kernelspec": {
            "name": "SQL",
            "display_name": "SQL",
            "language": "sql"
        },
        "language_info": {
            "name": "sql",
            "version": ""
        },
        "extensions": {
            "azuredatastudio": {
                "version": 1,
                "views": []
            }
        }
    },
    "nbformat_minor": 2,
    "nbformat": 4,
    "cells": [
        {
            "cell_type": "markdown",
            "source": [
                "# SQL Part 4 Studio\n",
                "\n",
                "For this studio, you will be working in small groups and using the BooksDB.  One group member should screen share while fellow group members code along in their own notebooks.  Each group member will submit a link to their studio notebook.\n",
                "\n",
                "You are back at the bookstore helping employees with their inventory of books.   Four employees need your help with finding books to create in-store displays.  Read their requests and decide if you want to use a correlated subquery, nested subquery, UNION operator, EXCEPT operator, or INTERSECT operator.  You may not use any joins or add multiple statements to the WHERE clause unless explicitly asked."
            ],
            "metadata": {
                "azdata_cell_guid": "3ea3f8a2-b444-4354-be8b-eebc139b3c13"
            },
            "attachments": {}
        },
        {
            "cell_type": "markdown",
            "source": [
                "## QUESTION 1:  Willow\n",
                "\n",
                "Willow wants a list of book titles that have multiple authors attributed to them.  Write a query to return her desired results."
            ],
            "metadata": {
                "azdata_cell_guid": "5c8b1c77-0878-4dc6-8e79-7f64e5e1df0d"
            },
            "attachments": {}
        },
        {
            "cell_type": "code",
            "source": [
                "SELECT TOP 10 title, authors\n",
                "FROM BooksDB.dbo.books \n",
                "WHERE authors LIKE '%,%'\n",
                "\n",
                "\n",
                "SELECT *\n",
                "FROM (SELECT title FROM BooksDB.dbo.books \n",
                "WHERE authors LIKE '%,%') as b"
            ],
            "metadata": {
                "azdata_cell_guid": "46c76d2f-acbc-4fd2-9c2a-367044fda616",
                "tags": [],
                "language": "sql"
            },
            "outputs": [
                {
                    "output_type": "display_data",
                    "data": {
                        "text/html": "(10 rows affected)"
                    },
                    "metadata": {}
                },
                {
                    "output_type": "display_data",
                    "data": {
                        "text/html": "(2079 rows affected)"
                    },
                    "metadata": {}
                },
                {
                    "output_type": "display_data",
                    "data": {
                        "text/html": "Total execution time: 00:00:00.470"
                    },
                    "metadata": {}
                },
                {
                    "output_type": "execute_result",
                    "metadata": {},
                    "execution_count": 1,
                    "data": {
                        "application/vnd.dataresource+json": {
                            "schema": {
                                "fields": [
                                    {
                                        "name": "title"
                                    },
                                    {
                                        "name": "authors"
                                    }
                                ]
                            },
                            "data": [
                                {
                                    "0": "Harry Potter and the Sorcerer's Stone (Harry Potter, #1)",
                                    "1": "J.K. Rowling, Mary GrandPré"
                                },
                                {
                                    "0": "1984",
                                    "1": "George Orwell, Erich Fromm, Celâl Üster"
                                },
                                {
                                    "0": "The Diary of a Young Girl",
                                    "1": "Anne Frank, Eleanor Roosevelt, B.M. Mooyaart-Doubleday"
                                },
                                {
                                    "0": "The Girl with the Dragon Tattoo (Millennium, #1)",
                                    "1": "Stieg Larsson, Reg Keeland"
                                },
                                {
                                    "0": "Harry Potter and the Prisoner of Azkaban (Harry Potter, #3)",
                                    "1": "J.K. Rowling, Mary GrandPré, Rufus Beck"
                                },
                                {
                                    "0": "Harry Potter and the Order of the Phoenix (Harry Potter, #5)",
                                    "1": "J.K. Rowling, Mary GrandPré"
                                },
                                {
                                    "0": "Harry Potter and the Chamber of Secrets (Harry Potter, #2)",
                                    "1": "J.K. Rowling, Mary GrandPré"
                                },
                                {
                                    "0": "Harry Potter and the Goblet of Fire (Harry Potter, #4)",
                                    "1": "J.K. Rowling, Mary GrandPré"
                                },
                                {
                                    "0": "Harry Potter and the Deathly Hallows (Harry Potter, #7)",
                                    "1": "J.K. Rowling, Mary GrandPré"
                                },
                                {
                                    "0": "Harry Potter and the Half-Blood Prince (Harry Potter, #6)",
                                    "1": "J.K. Rowling, Mary GrandPré"
                                }
                            ]
                        },
                        "text/html": [
                            "<table>",
                            "<tr><th>title</th><th>authors</th></tr>",
                            "<tr><td>Harry Potter and the Sorcerer's Stone (Harry Potter, #1)</td><td>J.K. Rowling, Mary GrandPré</td></tr>",
                            "<tr><td>1984</td><td>George Orwell, Erich Fromm, Celâl Üster</td></tr>",
                            "<tr><td>The Diary of a Young Girl</td><td>Anne Frank, Eleanor Roosevelt, B.M. Mooyaart-Doubleday</td></tr>",
                            "<tr><td>The Girl with the Dragon Tattoo (Millennium, #1)</td><td>Stieg Larsson, Reg Keeland</td></tr>",
                            "<tr><td>Harry Potter and the Prisoner of Azkaban (Harry Potter, #3)</td><td>J.K. Rowling, Mary GrandPré, Rufus Beck</td></tr>",
                            "<tr><td>Harry Potter and the Order of the Phoenix (Harry Potter, #5)</td><td>J.K. Rowling, Mary GrandPré</td></tr>",
                            "<tr><td>Harry Potter and the Chamber of Secrets (Harry Potter, #2)</td><td>J.K. Rowling, Mary GrandPré</td></tr>",
                            "<tr><td>Harry Potter and the Goblet of Fire (Harry Potter, #4)</td><td>J.K. Rowling, Mary GrandPré</td></tr>",
                            "<tr><td>Harry Potter and the Deathly Hallows (Harry Potter, #7)</td><td>J.K. Rowling, Mary GrandPré</td></tr>",
                            "<tr><td>Harry Potter and the Half-Blood Prince (Harry Potter, #6)</td><td>J.K. Rowling, Mary GrandPré</td></tr>",
                            "</table>"
                        ]
                    }
                },
                {
                    "output_type": "execute_result",
                    "metadata": {},
                    "execution_count": 1,
                    "data": {
                        "application/vnd.dataresource+json": {
                            "schema": {
                                "fields": [
                                    {
                                        "name": "title"
                                    }
                                ]
                            },
                            "data": [
                                {
                                    "0": "Harry Potter and the Sorcerer's Stone (Harry Potter, #1)"
                                },
                                {
                                    "0": "1984"
                                },
                                {
                                    "0": "The Diary of a Young Girl"
                                },
                                {
                                    "0": "The Girl with the Dragon Tattoo (Millennium, #1)"
                                },
                                {
                                    "0": "Harry Potter and the Prisoner of Azkaban (Harry Potter, #3)"
                                },
                                {
                                    "0": "Harry Potter and the Order of the Phoenix (Harry Potter, #5)"
                                },
                                {
                                    "0": "Harry Potter and the Chamber of Secrets (Harry Potter, #2)"
                                },
                                {
                                    "0": "Harry Potter and the Goblet of Fire (Harry Potter, #4)"
                                },
                                {
                                    "0": "Harry Potter and the Deathly Hallows (Harry Potter, #7)"
                                },
                                {
                                    "0": "Harry Potter and the Half-Blood Prince (Harry Potter, #6)"
                                },
                                {
                                    "0": "Romeo and Juliet"
                                },
                                {
                                    "0": "The Alchemist"
                                },
                                {
                                    "0": "Jane Eyre"
                                },
                                {
                                    "0": "The Adventures of Huckleberry Finn"
                                },
                                {
                                    "0": "Charlotte's Web"
                                },
                                {
                                    "0": "Wuthering Heights"
                                },
                                {
                                    "0": "Frankenstein"
                                },
                                {
                                    "0": "Sense and Sensibility"
                                },
                                {
                                    "0": "Holes (Holes, #1)"
                                },
                                {
                                    "0": "The Odyssey"
                                },
                                {
                                    "0": "The Little Prince"
                                },
                                {
                                    "0": "A Tale of Two Cities"
                                },
                                {
                                    "0": "Night (The Night Trilogy #1)"
                                },
                                {
                                    "0": "Freakonomics: A Rogue Economist Explores the Hidden Side of Everything (Freakonomics, #1)"
                                },
                                {
                                    "0": "One Hundred Years of Solitude"
                                },
                                {
                                    "0": "The Picture of Dorian Gray"
                                },
                                {
                                    "0": "Dracula"
                                },
                                {
                                    "0": "The Girl Who Played with Fire (Millennium, #2)"
                                },
                                {
                                    "0": "The Count of Monte Cristo"
                                },
                                {
                                    "0": "Les Misérables"
                                },
                                {
                                    "0": "Tuesdays with Morrie"
                                },
                                {
                                    "0": "The Adventures of Tom Sawyer"
                                },
                                {
                                    "0": "Lolita"
                                },
                                {
                                    "0": "Wicked: The Life and Times of the Wicked Witch of the West (The Wicked Years, #1)"
                                },
                                {
                                    "0": "Hamlet"
                                },
                                {
                                    "0": "The Scarlet Letter"
                                },
                                {
                                    "0": "The Girl Who Kicked the Hornet's Nest (Millennium, #3)"
                                },
                                {
                                    "0": "Green Eggs and Ham"
                                },
                                {
                                    "0": "Charlie and the Chocolate Factory (Charlie Bucket, #1)"
                                },
                                {
                                    "0": "The Stranger"
                                },
                                {
                                    "0": "The Stand"
                                },
                                {
                                    "0": "Emma"
                                },
                                {
                                    "0": "Anna Karenina"
                                },
                                {
                                    "0": "Crime and Punishment"
                                },
                                {
                                    "0": "Siddhartha"
                                },
                                {
                                    "0": "Beautiful Creatures (Caster Chronicles, #1)"
                                },
                                {
                                    "0": "Matilda"
                                },
                                {
                                    "0": "Watchmen"
                                },
                                {
                                    "0": "Moby-Dick or, The Whale"
                                },
                                {
                                    "0": "The Guernsey Literary and Potato Peel Pie Society"
                                },
                                {
                                    "0": "The Metamorphosis"
                                },
                                {
                                    "0": "The Devil in the White City: Murder, Magic, and Madness at the Fair That Changed America"
                                },
                                {
                                    "0": "The Chronicles of Narnia (Chronicles of Narnia, #1-7)"
                                },
                                {
                                    "0": "The Nanny Diaries (Nanny, #1)"
                                },
                                {
                                    "0": "Alice's Adventures in Wonderland & Through the Looking-Glass"
                                },
                                {
                                    "0": "Persuasion"
                                },
                                {
                                    "0": "Love in the Time of Cholera"
                                },
                                {
                                    "0": "Marked (House of Night, #1)"
                                },
                                {
                                    "0": "A Midsummer Night's Dream"
                                },
                                {
                                    "0": "The Cuckoo's Calling (Cormoran Strike, #1)"
                                },
                                {
                                    "0": "Atlas Shrugged"
                                },
                                {
                                    "0": "Three Cups of Tea: One Man's Mission to Promote Peace ... One School at a Time"
                                },
                                {
                                    "0": "Alice in Wonderland"
                                },
                                {
                                    "0": "The Shadow of the Wind (The Cemetery of Forgotten Books,  #1)"
                                },
                                {
                                    "0": "Rebecca"
                                },
                                {
                                    "0": "Like Water for Chocolate"
                                },
                                {
                                    "0": "The Godfather"
                                },
                                {
                                    "0": "Harry Potter and the Cursed Child - Parts One and Two (Harry Potter, #8)"
                                },
                                {
                                    "0": "Good Omens: The Nice and Accurate Prophecies of Agnes Nutter, Witch"
                                },
                                {
                                    "0": "The Fountainhead"
                                },
                                {
                                    "0": "The Voyage of the Dawn Treader (Chronicles of Narnia, #3)"
                                },
                                {
                                    "0": "The Time Machine"
                                },
                                {
                                    "0": "Heaven is for Real: A Little Boy's Astounding Story of His Trip to Heaven and Back"
                                },
                                {
                                    "0": "The Graveyard Book"
                                },
                                {
                                    "0": "Inkheart (Inkworld, #1)"
                                },
                                {
                                    "0": "Who Moved My Cheese?"
                                },
                                {
                                    "0": "The Unbearable Lightness of Being"
                                },
                                {
                                    "0": "The Last Lecture"
                                },
                                {
                                    "0": "James and the Giant Peach"
                                },
                                {
                                    "0": "Goodnight Moon"
                                },
                                {
                                    "0": "The Iliad"
                                },
                                {
                                    "0": "The Wonderful Wizard of Oz (Oz, #1)"
                                },
                                {
                                    "0": "Fear and Loathing in Las Vegas"
                                },
                                {
                                    "0": "The Bad Beginning (A Series of Unfortunate Events, #1)"
                                },
                                {
                                    "0": "All Quiet on the Western Front"
                                },
                                {
                                    "0": "Do Androids Dream of Electric Sheep?"
                                },
                                {
                                    "0": "Oliver Twist"
                                },
                                {
                                    "0": "V for Vendetta"
                                },
                                {
                                    "0": "The BFG"
                                },
                                {
                                    "0": "Norwegian Wood"
                                },
                                {
                                    "0": "Will Grayson, Will Grayson"
                                },
                                {
                                    "0": "The Crucible"
                                },
                                {
                                    "0": "The Strange Case of Dr. Jekyll and Mr. Hyde"
                                },
                                {
                                    "0": "Perfume: The Story of a Murderer"
                                },
                                {
                                    "0": "The Art of War"
                                },
                                {
                                    "0": "The Witches"
                                },
                                {
                                    "0": "The Name of the Rose"
                                },
                                {
                                    "0": "Go Ask Alice"
                                },
                                {
                                    "0": "A Confederacy of Dunces"
                                },
                                {
                                    "0": "Kafka on the Shore"
                                },
                                {
                                    "0": "A Brief History of Time"
                                },
                                {
                                    "0": "Winnie-the-Pooh (Winnie-the-Pooh, #1)"
                                },
                                {
                                    "0": "Betrayed (House of Night, #2)"
                                },
                                {
                                    "0": "Northanger Abbey"
                                },
                                {
                                    "0": "If You Give a Mouse a Cookie"
                                },
                                {
                                    "0": "A Man Called Ove"
                                },
                                {
                                    "0": "The Hobbit: Graphic Novel"
                                },
                                {
                                    "0": "Fantastic Beasts and Where to Find Them"
                                },
                                {
                                    "0": "I Am Malala: The Story of the Girl Who Stood Up for Education and Was Shot by the Taliban"
                                },
                                {
                                    "0": "Mansfield Park"
                                },
                                {
                                    "0": "Robinson Crusoe"
                                },
                                {
                                    "0": "The Prince"
                                },
                                {
                                    "0": "The Brothers Karamazov"
                                },
                                {
                                    "0": "Untamed (House of Night, #4)"
                                },
                                {
                                    "0": "War and Peace"
                                },
                                {
                                    "0": "The Walking Dead, Vol. 01: Days Gone Bye"
                                },
                                {
                                    "0": "Left Behind (Left Behind, #1)"
                                },
                                {
                                    "0": "The Hiding Place: The Triumphant True Story of Corrie Ten Boom"
                                },
                                {
                                    "0": "Peter Pan"
                                },
                                {
                                    "0": "The Wind-Up Bird Chronicle"
                                },
                                {
                                    "0": "Gulliver's Travels"
                                },
                                {
                                    "0": "Much Ado About Nothing"
                                },
                                {
                                    "0": "Beowulf"
                                },
                                {
                                    "0": "Batman: Year One"
                                },
                                {
                                    "0": "A Little Princess"
                                },
                                {
                                    "0": "Little House on the Prairie (Little House, #2)"
                                },
                                {
                                    "0": "The Velveteen Rabbit"
                                },
                                {
                                    "0": "The War of the Worlds"
                                },
                                {
                                    "0": "Hamlet: Screenplay, Introduction And Film Diary"
                                },
                                {
                                    "0": "Tess of the D'Urbervilles"
                                },
                                {
                                    "0": "Madame Bovary"
                                },
                                {
                                    "0": "The Phantom Tollbooth"
                                },
                                {
                                    "0": "Batman: The Dark Knight Returns (The Dark Knight Saga, #1)"
                                },
                                {
                                    "0": "Christine"
                                },
                                {
                                    "0": "Death Note, Vol. 1: Boredom (Death Note, #1)"
                                },
                                {
                                    "0": "David Copperfield"
                                },
                                {
                                    "0": "The Absolutely True Diary of a Part-Time Indian"
                                },
                                {
                                    "0": "The Master and Margarita"
                                },
                                {
                                    "0": "Because of Winn-Dixie"
                                },
                                {
                                    "0": "Don Quixote"
                                },
                                {
                                    "0": "The Silver Chair (Chronicles of Narnia, #4)"
                                },
                                {
                                    "0": "Jonathan Livingston Seagull"
                                },
                                {
                                    "0": "Love You Forever"
                                },
                                {
                                    "0": "The Silmarillion (Middle-Earth Universe)"
                                },
                                {
                                    "0": "The Trial"
                                },
                                {
                                    "0": "The Hound of the Baskervilles"
                                },
                                {
                                    "0": "The True Story of the 3 Little Pigs"
                                },
                                {
                                    "0": "Veronika Decides to Die"
                                },
                                {
                                    "0": "Lean In: Women, Work, and the Will to Lead"
                                },
                                {
                                    "0": "Sophie's World"
                                },
                                {
                                    "0": "Heidi"
                                },
                                {
                                    "0": "Chosen (House of Night, #3)"
                                },
                                {
                                    "0": "The Canterbury Tales"
                                },
                                {
                                    "0": "1Q84"
                                },
                                {
                                    "0": "The Phantom of the Opera"
                                },
                                {
                                    "0": "Blindness"
                                },
                                {
                                    "0": "Alexander and the Terrible, Horrible, No Good, Very Bad Day"
                                },
                                {
                                    "0": "The House of the Spirits"
                                },
                                {
                                    "0": "The Mysterious Affair at Styles (Hercule Poirot, #1)"
                                },
                                {
                                    "0": "Little House in the Big Woods (Little House, #1)"
                                },
                                {
                                    "0": "The Silkworm (Cormoran Strike, #2)"
                                },
                                {
                                    "0": "Twenty Thousand Leagues Under the Sea"
                                },
                                {
                                    "0": "Mrs. Dalloway"
                                },
                                {
                                    "0": "The Hundred-Year-Old Man Who Climbed Out of the Window and Disappeared"
                                },
                                {
                                    "0": "Thinner"
                                },
                                {
                                    "0": "Around the World in Eighty Days"
                                },
                                {
                                    "0": "Eleven Minutes"
                                },
                                {
                                    "0": "The Waste Lands (The Dark Tower, #3)"
                                },
                                {
                                    "0": "The Reader"
                                },
                                {
                                    "0": "Brown Bear, Brown Bear, What Do You See?"
                                },
                                {
                                    "0": "Batman: The Killing Joke"
                                },
                                {
                                    "0": "The Little House Collection (Little House, #1-9)"
                                },
                                {
                                    "0": "The Autobiography of Malcolm X"
                                },
                                {
                                    "0": "Preludes & Nocturnes (The Sandman #1)"
                                },
                                {
                                    "0": "Julius Caesar"
                                },
                                {
                                    "0": "The Republic"
                                },
                                {
                                    "0": "The Hunchback of Notre-Dame"
                                },
                                {
                                    "0": "Calvin and Hobbes"
                                },
                                {
                                    "0": "Hunted (House of Night, #5)"
                                },
                                {
                                    "0": "Trainspotting"
                                },
                                {
                                    "0": "The Complete Grimm's Fairy Tales"
                                },
                                {
                                    "0": "Crazy Love: Overwhelmed by a Relentless God"
                                },
                                {
                                    "0": "Fruits Basket, Vol. 1"
                                },
                                {
                                    "0": "Burned (House of Night, #7)"
                                },
                                {
                                    "0": "Wizard and Glass (The Dark Tower, #4)"
                                },
                                {
                                    "0": "Brave New World / Brave New World Revisited"
                                },
                                {
                                    "0": "Tempted (House of Night, #6)"
                                },
                                {
                                    "0": "Dreamcatcher"
                                },
                                {
                                    "0": "Oedipus Rex  (The Theban Plays, #1)"
                                },
                                {
                                    "0": "The Wind in the Willows"
                                },
                                {
                                    "0": "Persepolis: The Story of a Childhood (Persepolis, #1)"
                                },
                                {
                                    "0": "Naruto, Vol. 01: The Tests of the Ninja (Naruto, #1)"
                                },
                                {
                                    "0": "The Merchant of Venice"
                                },
                                {
                                    "0": "Chicka Chicka Boom Boom"
                                },
                                {
                                    "0": "Animal Farm / 1984"
                                },
                                {
                                    "0": "When Breath Becomes Air"
                                },
                                {
                                    "0": "Guess How Much I Love You"
                                },
                                {
                                    "0": "Night Shift"
                                },
                                {
                                    "0": "Pippi Longstocking"
                                },
                                {
                                    "0": "The Elegance of the Hedgehog"
                                },
                                {
                                    "0": "Team of Rivals: The Political Genius of Abraham Lincoln"
                                },
                                {
                                    "0": "The Plague"
                                },
                                {
                                    "0": "The Reptile Room (A Series of Unfortunate Events, #2)"
                                },
                                {
                                    "0": "The Neverending Story"
                                },
                                {
                                    "0": "The Jungle"
                                },
                                {
                                    "0": "Fullmetal Alchemist, Vol. 1 (Fullmetal Alchemist, #1)"
                                },
                                {
                                    "0": "The Age of Innocence"
                                },
                                {
                                    "0": "Cloudy With a Chance of Meatballs"
                                },
                                {
                                    "0": "The Joy of Cooking"
                                },
                                {
                                    "0": "Insomnia"
                                },
                                {
                                    "0": "The Life-Changing Magic of Tidying Up: The Japanese Art of Decluttering and Organizing"
                                },
                                {
                                    "0": "All the Bright Places"
                                },
                                {
                                    "0": "Daughter of Fortune"
                                },
                                {
                                    "0": "Not That Kind of Girl: A Young Woman Tells You What She's \"Learned\""
                                },
                                {
                                    "0": "Wolves of the Calla (The Dark Tower, #5)"
                                },
                                {
                                    "0": "A Portrait of the Artist as a Young Man"
                                },
                                {
                                    "0": "The Gathering Storm (Wheel of Time, #12)"
                                },
                                {
                                    "0": "Middlemarch"
                                },
                                {
                                    "0": "The Rainbow Fish"
                                },
                                {
                                    "0": "Helter Skelter: The True Story of the Manson Murders"
                                },
                                {
                                    "0": "Dr. Seuss's Green Eggs and Ham: For Soprano, Boy Soprano, and Orchestra"
                                },
                                {
                                    "0": "Inferno (The Divine Comedy #1)"
                                },
                                {
                                    "0": "Paradise Lost"
                                },
                                {
                                    "0": "A Monster Calls"
                                },
                                {
                                    "0": "Towers of Midnight (Wheel of Time, #13)"
                                },
                                {
                                    "0": "Rework"
                                },
                                {
                                    "0": "The Twilight Saga (Twilight, #1-4)"
                                },
                                {
                                    "0": "The Monster at the End of this Book"
                                },
                                {
                                    "0": "The Dinner"
                                },
                                {
                                    "0": "American Sniper: The Autobiography of the Most Lethal Sniper in U.S. Military History"
                                },
                                {
                                    "0": "Steppenwolf"
                                },
                                {
                                    "0": "The Tale of Despereaux"
                                },
                                {
                                    "0": "Animal, Vegetable, Miracle: A Year of Food Life"
                                },
                                {
                                    "0": "Saga, Vol. 1 (Saga, #1)"
                                },
                                {
                                    "0": "The Wide Window (A Series of Unfortunate Events, #3)"
                                },
                                {
                                    "0": "Pride and Prejudice and Zombies (Pride and Prejudice and Zombies, #1)"
                                },
                                {
                                    "0": "The Idiot"
                                },
                                {
                                    "0": "Modern Romance"
                                },
                                {
                                    "0": "The One and Only Ivan"
                                },
                                {
                                    "0": "Song of Susannah (The Dark Tower, #6)"
                                },
                                {
                                    "0": "The Woman in White"
                                },
                                {
                                    "0": "Career of Evil (Cormoran Strike, #3)"
                                },
                                {
                                    "0": "SuperFreakonomics: Global Cooling, Patriotic Prostitutes And Why Suicide Bombers Should Buy Life Insurance"
                                },
                                {
                                    "0": "Vanity Fair"
                                },
                                {
                                    "0": "Dolores Claiborne"
                                },
                                {
                                    "0": "Fables, Vol. 1: Legends in Exile"
                                },
                                {
                                    "0": "Colorless Tsukuru Tazaki and His Years of Pilgrimage"
                                },
                                {
                                    "0": "Far from the Madding Crowd"
                                },
                                {
                                    "0": "Awakened (House of Night, #8)"
                                },
                                {
                                    "0": "America (The Book): A Citizen's Guide to Democracy Inaction"
                                },
                                {
                                    "0": "90 Minutes in Heaven: A True Story of Death and Life"
                                },
                                {
                                    "0": "Tao Te Ching"
                                },
                                {
                                    "0": "The Complete Fairy Tales"
                                },
                                {
                                    "0": "Thus Spoke Zarathustra"
                                },
                                {
                                    "0": "North and South"
                                },
                                {
                                    "0": "Aesop's Fables"
                                },
                                {
                                    "0": "Vampire Knight, Vol. 1 (Vampire Knight, #1)"
                                },
                                {
                                    "0": "Dragonflight (Dragonriders of Pern, #1)"
                                },
                                {
                                    "0": "The History of the Hobbit, Part One: Mr. Baggins"
                                },
                                {
                                    "0": "Dubliners"
                                },
                                {
                                    "0": "Beautiful Darkness (Caster Chronicles, #2)"
                                },
                                {
                                    "0": "I Am America (And So Can You!)"
                                },
                                {
                                    "0": "The One Minute Manager"
                                },
                                {
                                    "0": "The Miserable Mill (A Series of Unfortunate Events, #4)"
                                },
                                {
                                    "0": "Wait for You (Wait for You, #1)"
                                },
                                {
                                    "0": "The Divine Comedy"
                                },
                                {
                                    "0": "The Tao of Pooh"
                                },
                                {
                                    "0": "The Girl in the Spider's Web (Millennium, #4)"
                                },
                                {
                                    "0": "The Prince and the Pauper"
                                },
                                {
                                    "0": "The Forty Rules of Love"
                                },
                                {
                                    "0": "Attack on Titan, Vol. 1 (Attack on Titan, #1)"
                                },
                                {
                                    "0": "My Brilliant Friend (The Neapolitan Novels #1)"
                                },
                                {
                                    "0": "Frindle"
                                },
                                {
                                    "0": "Y: The Last Man, Vol. 1: Unmanned"
                                },
                                {
                                    "0": "The Accidental Tourist"
                                },
                                {
                                    "0": "Hard-Boiled Wonderland and the End of the World"
                                },
                                {
                                    "0": "By the River Piedra I Sat Down and Wept"
                                },
                                {
                                    "0": "The Swiss Family Robinson  "
                                },
                                {
                                    "0": "The Little Engine That Could"
                                },
                                {
                                    "0": "Stuart Little"
                                },
                                {
                                    "0": "The Austere Academy (A Series of Unfortunate Events, #5)"
                                },
                                {
                                    "0": "Hard Eight (Stephanie Plum, #8)"
                                },
                                {
                                    "0": "The Vile Village (A Series of Unfortunate Events, #7)"
                                },
                                {
                                    "0": "Chronicle of a Death Foretold"
                                },
                                {
                                    "0": "A Scandal in Bohemia (The Adventures of Sherlock Holmes, #1)"
                                },
                                {
                                    "0": "Killing Lincoln: The Shocking Assassination that Changed America Forever"
                                },
                                {
                                    "0": "The Talisman (The Talisman, #1)"
                                },
                                {
                                    "0": "Mary Poppins (Mary Poppins, #1)"
                                },
                                {
                                    "0": "The Twits"
                                },
                                {
                                    "0": "The Beach House"
                                },
                                {
                                    "0": "Sputnik Sweetheart"
                                },
                                {
                                    "0": "The Night Before Christmas"
                                },
                                {
                                    "0": "The Aeneid"
                                },
                                {
                                    "0": "After Dark"
                                },
                                {
                                    "0": "Quidditch Through the Ages"
                                },
                                {
                                    "0": "Miss Nelson Is Missing! (Miss Nelson, #1)"
                                },
                                {
                                    "0": "The Long Walk"
                                },
                                {
                                    "0": "The Ersatz Elevator (A Series of Unfortunate Events, #6)"
                                },
                                {
                                    "0": "'Salem's Lot"
                                },
                                {
                                    "0": "The Mysterious Benedict Society (The Mysterious Benedict Society, #1)"
                                },
                                {
                                    "0": "The Boxcar Children (The Boxcar Children, #1)"
                                },
                                {
                                    "0": "The Complete Sherlock Holmes, Vol 2"
                                },
                                {
                                    "0": "One Piece, Volume 01: Romance Dawn (One Piece, #1)"
                                },
                                {
                                    "0": "Howl and Other Poems"
                                },
                                {
                                    "0": "Go the Fuck to Sleep"
                                },
                                {
                                    "0": "The Book of Mormon: Another Testament of Jesus Christ"
                                },
                                {
                                    "0": "Black Butler, Vol. 1 (Black Butler, #1)"
                                },
                                {
                                    "0": "The Strange Case of Dr. Jekyll and Mr. Hyde and Other Tales of Terror"
                                },
                                {
                                    "0": "Notes from Underground, White Nights, The Dream of a Ridiculous Man, and Selections from The House of the Dead"
                                },
                                {
                                    "0": "A Memory of Light (Wheel of Time, #14)"
                                },
                                {
                                    "0": "2nd Chance (Women's Murder Club, #2)"
                                },
                                {
                                    "0": "Anne Rice's The Vampire Lestat: A Graphic Novel"
                                },
                                {
                                    "0": "Sideways Stories from Wayside School (Wayside School #1)"
                                },
                                {
                                    "0": "The Art of Happiness"
                                },
                                {
                                    "0": "Origins (The Vampire Diaries: Stefan's Diaries, #1)"
                                },
                                {
                                    "0": "Inkspell (Inkworld, #2)"
                                },
                                {
                                    "0": "Dragons of Autumn Twilight  (Dragonlance: Chronicles, #1)"
                                },
                                {
                                    "0": "The Stinky Cheese Man and Other Fairly Stupid Tales"
                                },
                                {
                                    "0": "Lone Survivor: The Eyewitness Account of Operation Redwing and the Lost Heroes of SEAL Team 10"
                                },
                                {
                                    "0": "The Stand: Captain Trips"
                                },
                                {
                                    "0": "Out from Boneville (Bone, #1)"
                                },
                                {
                                    "0": "Beautiful Chaos (Caster Chronicles, #3)"
                                },
                                {
                                    "0": "The Communist Manifesto"
                                },
                                {
                                    "0": "My Life in France"
                                },
                                {
                                    "0": "Emotional Intelligence 2.0"
                                },
                                {
                                    "0": "Relic (Pendergast, #1)"
                                },
                                {
                                    "0": "Everything, Everything"
                                },
                                {
                                    "0": "The Complete Persepolis"
                                },
                                {
                                    "0": "The Agony and the Ecstasy"
                                },
                                {
                                    "0": "The Angel's Game (The Cemetery of Forgotten Books, #2)"
                                },
                                {
                                    "0": "Amelia Bedelia  (Amelia Bedelia #1)"
                                },
                                {
                                    "0": "الأسود يليق بك"
                                },
                                {
                                    "0": "The Slippery Slope (A Series of Unfortunate Events, #10)"
                                },
                                {
                                    "0": "Bleak House"
                                },
                                {
                                    "0": "Through the Looking-Glass, and What Alice Found There"
                                },
                                {
                                    "0": "On the Banks of Plum Creek  (Little House, #4)"
                                },
                                {
                                    "0": "The Strain (The Strain Trilogy, #1)"
                                },
                                {
                                    "0": "The Complete Poems of Emily Dickinson"
                                },
                                {
                                    "0": "The Borrowers (The Borrowers, #1)"
                                },
                                {
                                    "0": "A Wild Sheep Chase (The Rat, #3)"
                                },
                                {
                                    "0": "The Zahir"
                                },
                                {
                                    "0": "The House of Mirth"
                                },
                                {
                                    "0": "Fairy Tail, Vol. 1 (Fairy Tail, #1)"
                                },
                                {
                                    "0": "The Slow Regard of Silent Things (The Kingkiller Chronicle #2.5)"
                                },
                                {
                                    "0": "One Day in the Life of Ivan Denisovich"
                                },
                                {
                                    "0": "Antigone (The Theban Plays, #3)"
                                },
                                {
                                    "0": "The House at Pooh Corner (Winnie-the-Pooh, #2)"
                                },
                                {
                                    "0": "The Carnivorous Carnival (A Series of Unfortunate Events, #9)"
                                },
                                {
                                    "0": "Doctor Zhivago"
                                },
                                {
                                    "0": "A Map of the World"
                                },
                                {
                                    "0": "The Gift of the Magi"
                                },
                                {
                                    "0": "Naked Lunch"
                                },
                                {
                                    "0": "Dream Country (The Sandman #3)"
                                },
                                {
                                    "0": "The Left Hand of Darkness"
                                },
                                {
                                    "0": "Let It Snow: Three Holiday Romances"
                                },
                                {
                                    "0": "A Doll's House"
                                },
                                {
                                    "0": "Nick & Norah's Infinite Playlist"
                                },
                                {
                                    "0": "Rosencrantz and Guildenstern Are Dead"
                                },
                                {
                                    "0": "Saving CeeCee Honeycutt"
                                },
                                {
                                    "0": "The Story of Ferdinand"
                                },
                                {
                                    "0": "The Next Always (Inn BoonsBoro, #1)"
                                },
                                {
                                    "0": "What I Talk About When I Talk About Running"
                                },
                                {
                                    "0": "Open"
                                },
                                {
                                    "0": "Without Fail (Jack Reacher, #6)"
                                },
                                {
                                    "0": "A Voice in the Wind (Mark of the Lion, #1)"
                                },
                                {
                                    "0": "Batman: The Long Halloween"
                                },
                                {
                                    "0": "Nausea"
                                },
                                {
                                    "0": "The Sign of Four"
                                },
                                {
                                    "0": "Click, Clack, Moo: Cows That Type"
                                },
                                {
                                    "0": "Temple of the Winds (Sword of Truth, #4)"
                                },
                                {
                                    "0": "The Poky Little Puppy (A Little Golden Book)"
                                },
                                {
                                    "0": "The Sisters Brothers"
                                },
                                {
                                    "0": "Fantastic Mr. Fox"
                                },
                                {
                                    "0": "Brida"
                                },
                                {
                                    "0": "Shakespeare's Sonnets"
                                },
                                {
                                    "0": "Same Kind of Different as Me"
                                },
                                {
                                    "0": "Lady Chatterley's Lover"
                                },
                                {
                                    "0": "Belgarath the Sorcerer"
                                },
                                {
                                    "0": "My Name Is Lucy Barton"
                                },
                                {
                                    "0": "He's Just Not That Into You: The No-Excuses Truth to Understanding Guys"
                                },
                                {
                                    "0": "The Jungle Books"
                                },
                                {
                                    "0": "Captivating: Unveiling the Mystery of a Woman's Soul"
                                },
                                {
                                    "0": "The Dark Tower: The Gunslinger Born"
                                },
                                {
                                    "0": "Rule (Marked Men, #1)"
                                },
                                {
                                    "0": "South of the Border, West of the Sun"
                                },
                                {
                                    "0": "The Fall of the House of Usher and Other Tales "
                                },
                                {
                                    "0": "Essential Tales and Poems"
                                },
                                {
                                    "0": "Alice's Adventures in Wonderland"
                                },
                                {
                                    "0": "The Redbreast (Harry Hole, #3)"
                                },
                                {
                                    "0": "The Love Dare"
                                },
                                {
                                    "0": "M.C. Escher: The Graphic Work"
                                },
                                {
                                    "0": "4th of July (Women's Murder Club, #4)"
                                },
                                {
                                    "0": "The Tenant of Wildfell Hall"
                                },
                                {
                                    "0": "The Black Stallion (The Black Stallion, #1)"
                                },
                                {
                                    "0": "The Grim Grotto (A Series of Unfortunate Events, #11)"
                                },
                                {
                                    "0": "Art and Fear: Observations on the Perils (and Rewards) of Artmaking"
                                },
                                {
                                    "0": "The Portrait of a Lady"
                                },
                                {
                                    "0": "The Raven"
                                },
                                {
                                    "0": "The Running Man"
                                },
                                {
                                    "0": "Ubik"
                                },
                                {
                                    "0": "Anne Frank Remembered: The Story of the Woman Who Helped to Hide the Frank Family"
                                },
                                {
                                    "0": "A Bear Called Paddington (Paddington, #1)"
                                },
                                {
                                    "0": "The Hostile Hospital (A Series of Unfortunate Events, #8)"
                                },
                                {
                                    "0": "The Devil and Miss Prym (On the Seventh Day, #3)"
                                },
                                {
                                    "0": "The Kissing Hand"
                                },
                                {
                                    "0": "Sundays at Tiffany's"
                                },
                                {
                                    "0": "Scar Tissue"
                                },
                                {
                                    "0": "Alias Grace"
                                },
                                {
                                    "0": "Memories of My Melancholy Whores"
                                },
                                {
                                    "0": "3rd Degree (Women's Murder Club, #3)"
                                },
                                {
                                    "0": "Ruby Red (Precious Stone Trilogy, #1)"
                                },
                                {
                                    "0": "The Hangman's Daughter (The Hangman's Daughter, #1)"
                                },
                                {
                                    "0": "Dealing with Dragons (Enchanted Forest Chronicles, #1)"
                                },
                                {
                                    "0": "The Elements of Style"
                                },
                                {
                                    "0": "The Mote in God's Eye"
                                },
                                {
                                    "0": "The Snowman (Harry Hole, #7)"
                                },
                                {
                                    "0": "Stoner"
                                },
                                {
                                    "0": "Wicked: The Grimmerie"
                                },
                                {
                                    "0": "Preacher, Volume 1: Gone to Texas"
                                },
                                {
                                    "0": "Cyrano de Bergerac"
                                },
                                {
                                    "0": "The Doll's House (The Sandman #2)"
                                },
                                {
                                    "0": "The Sandman: Overture"
                                },
                                {
                                    "0": "The Arabian Nights"
                                },
                                {
                                    "0": "The Mouse and the Motorcycle (Ralph S. Mouse, #1)"
                                },
                                {
                                    "0": "Dash & Lily's Book of Dares (Dash & Lily, #1)"
                                },
                                {
                                    "0": "If You Give a Moose a Muffin"
                                },
                                {
                                    "0": "Made to Stick: Why Some Ideas Survive and Others Die"
                                },
                                {
                                    "0": "Charlie and the Great Glass Elevator (Charlie Bucket, #2)"
                                },
                                {
                                    "0": "If You Give a Pig a Pancake "
                                },
                                {
                                    "0": "Hellboy, Vol. 1: Seed of Destruction (Hellboy, #1)"
                                },
                                {
                                    "0": "The Man in the Iron Mask (The D'Artagnan Romances, #3.3)"
                                },
                                {
                                    "0": "The Haunting of Hill House"
                                },
                                {
                                    "0": "Little Town on the Prairie  (Little House, #7)"
                                },
                                {
                                    "0": "Destined (House of Night, #9)"
                                },
                                {
                                    "0": "Meditations"
                                },
                                {
                                    "0": "Peter and the Starcatchers (Peter and the Starcatchers, #1)"
                                },
                                {
                                    "0": "The Penultimate Peril (A Series of Unfortunate Events, #12)"
                                },
                                {
                                    "0": "The End (A Series of Unfortunate Events, #13)"
                                },
                                {
                                    "0": "The Runaway Bunny"
                                },
                                {
                                    "0": "The Grand Design"
                                },
                                {
                                    "0": "The Bachman Books"
                                },
                                {
                                    "0": "The Art of Hearing Heartbeats"
                                },
                                {
                                    "0": "Pinocchio"
                                },
                                {
                                    "0": "The Death of Ivan Ilych"
                                },
                                {
                                    "0": "The Fall"
                                },
                                {
                                    "0": "The Moonstone"
                                },
                                {
                                    "0": "If on a Winter's Night a Traveler"
                                },
                                {
                                    "0": "Son of a Witch (The Wicked Years, #2)"
                                },
                                {
                                    "0": "Squirrel Seeks Chipmunk: A Modest Bestiary"
                                },
                                {
                                    "0": "The Oedipus Cycle: Oedipus Rex/Oedipus at Colonus/Antigone (The Theban Plays, #1–3)"
                                },
                                {
                                    "0": "My Grandmother Asked Me to Tell You She's Sorry"
                                },
                                {
                                    "0": "The Miraculous Journey of Edward Tulane"
                                },
                                {
                                    "0": "The Epic of Gilgamesh"
                                },
                                {
                                    "0": "The Stand: Soul Survivors"
                                },
                                {
                                    "0": "Smokin' Seventeen (Stephanie Plum, #17)"
                                },
                                {
                                    "0": "Polar Bear, Polar Bear, What Do You Hear?"
                                },
                                {
                                    "0": "Skip Beat!, Vol. 01"
                                },
                                {
                                    "0": "The Harry Potter Collection 1-4 (Harry Potter, #1-4)"
                                },
                                {
                                    "0": "The Importance of Being Earnest and Other Plays"
                                },
                                {
                                    "0": "Suite Française"
                                },
                                {
                                    "0": "The Letters of Vincent van Gogh"
                                },
                                {
                                    "0": "Batman: Arkham Asylum - A Serious House on Serious Earth"
                                },
                                {
                                    "0": "A Darker Shade of Magic (Shades of Magic, #1)"
                                },
                                {
                                    "0": "George's Marvellous Medicine"
                                },
                                {
                                    "0": "Fathers and Sons"
                                },
                                {
                                    "0": "The Goal: A Process of Ongoing Improvement"
                                },
                                {
                                    "0": "The Iliad/The Odyssey"
                                },
                                {
                                    "0": "Kingdom Come"
                                },
                                {
                                    "0": "The Wishing Spell (The Land of Stories, #1)"
                                },
                                {
                                    "0": "Saga #1"
                                },
                                {
                                    "0": "The Yellow Wall-Paper"
                                },
                                {
                                    "0": "The Time Machine/The Invisible Man"
                                },
                                {
                                    "0": "What to Expect When You're Expecting"
                                },
                                {
                                    "0": "Zero to One: Notes on Startups, or How to Build the Future"
                                },
                                {
                                    "0": "A Christmas Carol, The Chimes and The Cricket on the Hearth"
                                },
                                {
                                    "0": "The Cat in the Hat and Other Dr. Seuss Favorites"
                                },
                                {
                                    "0": "Dead Souls"
                                },
                                {
                                    "0": "Tikki Tikki Tembo"
                                },
                                {
                                    "0": "We"
                                },
                                {
                                    "0": "Faeries"
                                },
                                {
                                    "0": "Lies That Chelsea Handler Told Me"
                                },
                                {
                                    "0": "Faceless Killers (Kurt Wallander, #1)"
                                },
                                {
                                    "0": "Cat and Mouse (Alex Cross, #4)"
                                },
                                {
                                    "0": "Built to Last: Successful Habits of Visionary Companies"
                                },
                                {
                                    "0": "The Demon-Haunted World: Science as a Candle in the Dark"
                                },
                                {
                                    "0": "Dragons of Spring Dawning (Dragonlance: Chronicles, #3)"
                                },
                                {
                                    "0": "Saga, Vol. 2 (Saga, #2)"
                                },
                                {
                                    "0": "The Diving Bell and the Butterfly"
                                },
                                {
                                    "0": "Killing Kennedy: The End of Camelot"
                                },
                                {
                                    "0": "Foucault's Pendulum"
                                },
                                {
                                    "0": "The 5th Horseman (Women's Murder Club, #5)"
                                },
                                {
                                    "0": "The Millennium Trilogy (Millennium Trilogy, #1-3)"
                                },
                                {
                                    "0": "The Sorrows of Young Werther"
                                },
                                {
                                    "0": "Flyte (Septimus Heap, #2)"
                                },
                                {
                                    "0": "ساق البامبو"
                                },
                                {
                                    "0": "Longitude: The True Story of a Lone Genius Who Solved the Greatest Scientific Problem of His Time"
                                },
                                {
                                    "0": "Faust: First Part"
                                },
                                {
                                    "0": "Locke & Key, Vol. 1: Welcome to Lovecraft"
                                },
                                {
                                    "0": "The Children of Húrin"
                                },
                                {
                                    "0": "Mr. Popper's Penguins"
                                },
                                {
                                    "0": "The Trumpet of the Swan"
                                },
                                {
                                    "0": "The Millionaire Next Door: The Surprising Secrets of Americas Wealthy"
                                },
                                {
                                    "0": "By the Shores of Silver Lake  (Little House, #5)"
                                },
                                {
                                    "0": "The Cricket in Times Square"
                                },
                                {
                                    "0": "Junky"
                                },
                                {
                                    "0": "Getting to Yes: Negotiating an Agreement Without Giving In"
                                },
                                {
                                    "0": "The Bhagavad Gita"
                                },
                                {
                                    "0": "The New York Trilogy"
                                },
                                {
                                    "0": "Beyond Good and Evil"
                                },
                                {
                                    "0": "No Easy Day: The Firsthand Account of the Mission That Killed Osama Bin Laden"
                                },
                                {
                                    "0": "The Regulators"
                                },
                                {
                                    "0": "Season of Mists (The Sandman #4)"
                                },
                                {
                                    "0": "Judge & Jury"
                                },
                                {
                                    "0": "Beautiful Redemption (Caster Chronicles, #4)"
                                },
                                {
                                    "0": "Metamorphoses"
                                },
                                {
                                    "0": "The Legend of Sleepy Hollow (Graphic Novel)"
                                },
                                {
                                    "0": "Never Never (Never Never, #1)"
                                },
                                {
                                    "0": "The Further Adventures of Sherlock Holmes: After Sir Arthur Conan Doyle (Classic Crime)"
                                },
                                {
                                    "0": "A Passage to India"
                                },
                                {
                                    "0": "The Wind Through the Keyhole (The Dark Tower, #4.5)"
                                },
                                {
                                    "0": "Bunnicula (Bunnicula, #1)"
                                },
                                {
                                    "0": "The Keeper of Lost Causes (Department Q, #1)"
                                },
                                {
                                    "0": "300"
                                },
                                {
                                    "0": "Flaggermusmannen (Harry Hole, #1)"
                                },
                                {
                                    "0": "Rurouni Kenshin, Vol. 1: Meiji Swordsman Romantic Story (Rurouni Kenshin, #1)"
                                },
                                {
                                    "0": "Winning"
                                },
                                {
                                    "0": "The Story of Babar"
                                },
                                {
                                    "0": "Persepolis 2: The Story of a Return (Persepolis, #2)"
                                },
                                {
                                    "0": "Mastering the Art of French Cooking"
                                },
                                {
                                    "0": "Blue Exorcist, Vol. 1  (Blue Exorcist, #1)"
                                },
                                {
                                    "0": "Little Bear"
                                },
                                {
                                    "0": "The Field Guide (The Spiderwick Chronicles, #1)"
                                },
                                {
                                    "0": "The 48 Laws of Power"
                                },
                                {
                                    "0": "The Winter Sea (Slains, #1)"
                                },
                                {
                                    "0": "Requiem for a Dream"
                                },
                                {
                                    "0": "The Pianist: The Extraordinary Story of One Man's Survival in Warsaw, 1939–45"
                                },
                                {
                                    "0": "The Picture of Dorian Gray: A Graphic Novel"
                                },
                                {
                                    "0": "The Legend of Sleepy Hollow and Other Stories"
                                },
                                {
                                    "0": "The Cross and the Switchblade"
                                },
                                {
                                    "0": "Villette"
                                },
                                {
                                    "0": "Black House (The Talisman, #2)"
                                },
                                {
                                    "0": "Marvel 1602"
                                },
                                {
                                    "0": "1Q84 BOOK 1 (1Q84, #1)"
                                },
                                {
                                    "0": "The Pilgrimage"
                                },
                                {
                                    "0": "A Wanted Man (Jack Reacher, #17)"
                                },
                                {
                                    "0": "All-Star Superman, Vol. 1"
                                },
                                {
                                    "0": "The Story of a New Name (The Neapolitan Novels #2)"
                                },
                                {
                                    "0": "Peter Pan (A Little Golden Book)"
                                },
                                {
                                    "0": "Awaken the Giant Within: How to Take Immediate Control of Your Mental, Emotional, Physical and Financial Destiny!"
                                },
                                {
                                    "0": "The Long Winter (Little House, #6)"
                                },
                                {
                                    "0": "Boundaries: When to Say Yes, How to Say No to Take Control of Your Life"
                                },
                                {
                                    "0": "Portnoy's Complaint"
                                },
                                {
                                    "0": "The 21 Irrefutable Laws of Leadership: Follow Them and People Will Follow You"
                                },
                                {
                                    "0": "The 6th Target (Women's Murder Club, #6)"
                                },
                                {
                                    "0": "A Princess of Mars (Barsoom, #1)"
                                },
                                {
                                    "0": "These Happy Golden Years (Little House, #8)"
                                },
                                {
                                    "0": "Harry the Dirty Dog"
                                },
                                {
                                    "0": "Wayside School Is Falling Down (Wayside School #2)"
                                },
                                {
                                    "0": "The Invisible Bridge"
                                },
                                {
                                    "0": "The Mayor of Casterbridge"
                                },
                                {
                                    "0": "Taltos (Lives of the Mayfair Witches, #3)"
                                },
                                {
                                    "0": "Physik (Septimus Heap, #3)"
                                },
                                {
                                    "0": "Boy: Tales of Childhood"
                                },
                                {
                                    "0": "Half the Sky: Turning Oppression into Opportunity for Women Worldwide"
                                },
                                {
                                    "0": "Why We Broke Up"
                                },
                                {
                                    "0": "We Have Always Lived in the Castle"
                                },
                                {
                                    "0": "Black Boy"
                                },
                                {
                                    "0": "Flags of Our Fathers"
                                },
                                {
                                    "0": "The World of Winnie-the-Pooh (Winnie-the-Pooh, #1-2)"
                                },
                                {
                                    "0": "It's Not About the Bike: My Journey Back to Life"
                                },
                                {
                                    "0": "Ender's Game, Volume 1: Battle School (Ender's Saga)"
                                },
                                {
                                    "0": "Kimi ni Todoke: From Me to You, Vol. 1"
                                },
                                {
                                    "0": "The Little Paris Bookshop"
                                },
                                {
                                    "0": "Where Eagles Dare "
                                },
                                {
                                    "0": "The Three-Body Problem (Remembrance of Earth’s Past, #1)"
                                },
                                {
                                    "0": "Superman: Red Son"
                                },
                                {
                                    "0": "The Autobiography of Benjamin Franklin"
                                },
                                {
                                    "0": "Blue Ocean Strategy: How To Create Uncontested Market Space And Make The Competition Irrelevant"
                                },
                                {
                                    "0": "The Napping House"
                                },
                                {
                                    "0": "Invisible Cities"
                                },
                                {
                                    "0": "The Claiming of Sleeping Beauty (Sleeping Beauty, #1)"
                                },
                                {
                                    "0": "The Red and the Black"
                                },
                                {
                                    "0": "Scary Stories to Tell in the Dark (Scary Stories, #1)"
                                },
                                {
                                    "0": "Twenty Love Poems and a Song of Despair"
                                },
                                {
                                    "0": "Utopia"
                                },
                                {
                                    "0": "The Name of This Book Is Secret (Secret, #1)"
                                },
                                {
                                    "0": "Balzac and the Little Chinese Seamstress"
                                },
                                {
                                    "0": "Danny the Champion of the World"
                                },
                                {
                                    "0": "Mrs. Piggle-Wiggle (Mrs. Piggle Wiggle, #1)"
                                },
                                {
                                    "0": "Barefoot Contessa at Home: Everyday Recipes You'll Make Over and Over Again"
                                },
                                {
                                    "0": "Tsubasa: RESERVoir CHRoNiCLE, Vol. 01"
                                },
                                {
                                    "0": "The League of Extraordinary Gentlemen, Vol. 1"
                                },
                                {
                                    "0": "Medea"
                                },
                                {
                                    "0": "Saga, Vol. 3 (Saga, #3)"
                                },
                                {
                                    "0": "7th Heaven (Women's Murder Club, #7)"
                                },
                                {
                                    "0": "Transmetropolitan, Vol. 1: Back on the Street (Transmetropolitan, #1)"
                                },
                                {
                                    "0": "Witch & Wizard (Witch & Wizard, #1)"
                                },
                                {
                                    "0": "Julie of the Wolves (Julie of the Wolves, #1)"
                                },
                                {
                                    "0": "History of Beauty"
                                },
                                {
                                    "0": "A House in the Sky"
                                },
                                {
                                    "0": "The Guns of August"
                                },
                                {
                                    "0": "The Monuments Men: Allied Heroes, Nazi Thieves, and the Greatest Treasure Hunt in History"
                                },
                                {
                                    "0": "Kick-Ass (Kick-Ass, #1)"
                                },
                                {
                                    "0": "Left to Tell: Discovering God Amidst the Rwandan Holocaust"
                                },
                                {
                                    "0": "Chobits, Vol. 1"
                                },
                                {
                                    "0": "Battle Royale"
                                },
                                {
                                    "0": "The Long Earth (The Long Earth, #1)"
                                },
                                {
                                    "0": "The War of Art: Break Through the Blocks & Win Your Inner Creative Battles"
                                },
                                {
                                    "0": "Lucifer's Hammer"
                                },
                                {
                                    "0": "Of Human Bondage"
                                },
                                {
                                    "0": "The Complete Tales and Poems of Winnie-the-Pooh (Winnie-the-Pooh, #1-4)"
                                },
                                {
                                    "0": "Dewey: The Small-Town Library Cat Who Touched the World"
                                },
                                {
                                    "0": "The Complete Adventures of Curious George"
                                },
                                {
                                    "0": "Think Like a Freak"
                                },
                                {
                                    "0": "Drama"
                                },
                                {
                                    "0": "The Power of Myth"
                                },
                                {
                                    "0": "As You Wish: Inconceivable Tales from the Making of The Princess Bride"
                                },
                                {
                                    "0": "Catch Me If You Can: The True Story of a Real Fake"
                                },
                                {
                                    "0": "Batman, Volume 1: The Court of Owls"
                                },
                                {
                                    "0": "The Book of Laughter and Forgetting"
                                },
                                {
                                    "0": "Flatland: A Romance of Many Dimensions"
                                },
                                {
                                    "0": "The Art of Loving"
                                },
                                {
                                    "0": "A Game of You (The Sandman #5)"
                                },
                                {
                                    "0": "Dragons of Winter Night (Dragonlance: Chronicles, #2)"
                                },
                                {
                                    "0": "All the President's Men"
                                },
                                {
                                    "0": "The Mill on the Floss"
                                },
                                {
                                    "0": "Vampire Academy: The Ultimate Guide (Vampire Academy)"
                                },
                                {
                                    "0": "The Poetry of Robert Frost (Collected Poems, Complete & Unabridged)"
                                },
                                {
                                    "0": "The Bookseller of Kabul"
                                },
                                {
                                    "0": "Kurt Vonnegut's Cat's Cradle (Modern Critical Interpretations)"
                                },
                                {
                                    "0": "Ramona the Brave (Ramona, #3)"
                                },
                                {
                                    "0": "Eugene Onegin"
                                },
                                {
                                    "0": "These Broken Stars (Starbound, #1)"
                                },
                                {
                                    "0": "Hidden (House of Night, #10)"
                                },
                                {
                                    "0": "The Secret of the Old Clock (Nancy Drew, #1)"
                                },
                                {
                                    "0": "The Story of Doctor Dolittle (Doctor Dolittle, #1)"
                                },
                                {
                                    "0": "The Japanese Lover"
                                },
                                {
                                    "0": "Sons and Lovers"
                                },
                                {
                                    "0": "Rich Dad's Cashflow Quadrant: Rich Dad's Guide to Financial Freedom"
                                },
                                {
                                    "0": "The Ice Princess (Patrik Hedström, #1)"
                                },
                                {
                                    "0": "If You Take a Mouse to School"
                                },
                                {
                                    "0": "The Metamorphosis and Other Stories"
                                },
                                {
                                    "0": "Sir Gawain and the Green Knight "
                                },
                                {
                                    "0": "The Tell-Tale Heart"
                                },
                                {
                                    "0": "Leonardo's Notebooks"
                                },
                                {
                                    "0": "Queste (Septimus Heap, #4)"
                                },
                                {
                                    "0": "My Name is Red"
                                },
                                {
                                    "0": "Death: The High Cost of Living Collected"
                                },
                                {
                                    "0": "Nudge: Improving Decisions About Health, Wealth, and Happiness"
                                },
                                {
                                    "0": "The Door to December"
                                },
                                {
                                    "0": "Twilight: The Graphic Novel, Vol. 1 (Twilight: The Graphic Novel, #1)"
                                },
                                {
                                    "0": "The Rime of the Ancient Mariner"
                                },
                                {
                                    "0": "The Paper Bag Princess"
                                },
                                {
                                    "0": "Brief Lives (The Sandman #7)"
                                },
                                {
                                    "0": "Narcissus and Goldmund"
                                },
                                {
                                    "0": "Fables and Reflections (The Sandman #6)"
                                },
                                {
                                    "0": "Little Dorrit"
                                },
                                {
                                    "0": "ثلاثية غرناطة"
                                },
                                {
                                    "0": "We're Going on a Bear Hunt"
                                },
                                {
                                    "0": "Honeymoon (Honeymoon, #1)"
                                },
                                {
                                    "0": "The Raven and other poems"
                                },
                                {
                                    "0": "The Quiet American"
                                },
                                {
                                    "0": "Private (Private, #1)"
                                },
                                {
                                    "0": "Three Weeks With My Brother"
                                },
                                {
                                    "0": "Ficciones"
                                },
                                {
                                    "0": "Switch: How to Change Things When Change Is Hard"
                                },
                                {
                                    "0": "A Hero of Our Time"
                                },
                                {
                                    "0": "Skinny Bitch"
                                },
                                {
                                    "0": "Curious George Goes to the Hospital"
                                },
                                {
                                    "0": "Snow"
                                },
                                {
                                    "0": "The Quickie"
                                },
                                {
                                    "0": "Step on a Crack (Michael Bennett, #1)"
                                },
                                {
                                    "0": "Savor the Moment (Bride Quartet, #3)"
                                },
                                {
                                    "0": "The Essential Rumi"
                                },
                                {
                                    "0": "Art Through the Ages "
                                },
                                {
                                    "0": "Saga, Vol. 4 (Saga, #4)"
                                },
                                {
                                    "0": "Chicken Soup for the Soul"
                                },
                                {
                                    "0": "Good Faeries/Bad Faeries"
                                },
                                {
                                    "0": "Cycle of the Werewolf"
                                },
                                {
                                    "0": "Agnes Grey"
                                },
                                {
                                    "0": "Wings of Fire: An Autobiography"
                                },
                                {
                                    "0": "The Ripper (The Vampire Diaries: Stefan's Diaries, #4)"
                                },
                                {
                                    "0": "The Story About Ping"
                                },
                                {
                                    "0": "Farmer Boy (Little House, #3)"
                                },
                                {
                                    "0": "The Stars My Destination"
                                },
                                {
                                    "0": "Confessions"
                                },
                                {
                                    "0": "com نسيان"
                                },
                                {
                                    "0": "Harry Potter Boxed Set, Books 1-5 (Harry Potter, #1-5)"
                                },
                                {
                                    "0": "Inside the Human Body (The Magic School Bus, #3)"
                                },
                                {
                                    "0": "The Iron Trial (Magisterium, #1)"
                                },
                                {
                                    "0": "A Game of Thrones: The Graphic Novel, Vol. 1"
                                },
                                {
                                    "0": "Tribulation Force (Left Behind, #2)"
                                },
                                {
                                    "0": "The Exploits of Sherlock Holmes"
                                },
                                {
                                    "0": "Those Who Leave and Those Who Stay (The Neapolitan Novels #3)"
                                },
                                {
                                    "0": "Hana-Kimi, Vol. 1 (Hana-Kimi, #1)"
                                },
                                {
                                    "0": "Complications: A Surgeon's Notes on an Imperfect Science"
                                },
                                {
                                    "0": "Camera Lucida: Reflections on Photography"
                                },
                                {
                                    "0": "My Story"
                                },
                                {
                                    "0": "The Fairy-Tale Detectives (The Sisters Grimm, #1)"
                                },
                                {
                                    "0": "Mort: The Play"
                                },
                                {
                                    "0": "Skulduggery Pleasant (Skulduggery Pleasant, #1)"
                                },
                                {
                                    "0": "A Christmas Carol and Other Christmas Writings"
                                },
                                {
                                    "0": "Men at Arms: The Play"
                                },
                                {
                                    "0": "The Myth of Sisyphus and Other Essays"
                                },
                                {
                                    "0": "Wives and Daughters"
                                },
                                {
                                    "0": "Survival in Auschwitz"
                                },
                                {
                                    "0": "The Mysterious Island (Extraordinary Voyages, #12)"
                                },
                                {
                                    "0": "Escape"
                                },
                                {
                                    "0": "First, Break All the Rules: What the World's Greatest Managers Do Differently"
                                },
                                {
                                    "0": "Our Town"
                                },
                                {
                                    "0": "Owl Moon"
                                },
                                {
                                    "0": "The Gambler"
                                },
                                {
                                    "0": "Nemesis (Harry Hole, #4)"
                                },
                                {
                                    "0": "The Collected Poems"
                                },
                                {
                                    "0": "The Winter of Our Discontent"
                                },
                                {
                                    "0": "Girl Online (Girl Online, #1)"
                                },
                                {
                                    "0": "The Kindly Ones (The Sandman #9)"
                                },
                                {
                                    "0": "Worlds' End (The Sandman #8)"
                                },
                                {
                                    "0": "The Ugly Duckling"
                                },
                                {
                                    "0": "The End of the Affair"
                                },
                                {
                                    "0": "Bambi"
                                },
                                {
                                    "0": "The Histories"
                                },
                                {
                                    "0": "First Things First"
                                },
                                {
                                    "0": "Wonder Boys"
                                },
                                {
                                    "0": "The Solitude of Prime Numbers"
                                },
                                {
                                    "0": "Fortunately, the Milk"
                                },
                                {
                                    "0": "Ms. Marvel, Vol. 1: No Normal"
                                },
                                {
                                    "0": "The Fall (The Strain Trilogy, #2)"
                                },
                                {
                                    "0": "Bringing Up Bébé: One American Mother Discovers the Wisdom of French Parenting"
                                },
                                {
                                    "0": "Forgotten God: Reversing Our Tragic Neglect of the Holy Spirit"
                                },
                                {
                                    "0": "Letters to a Young Poet"
                                },
                                {
                                    "0": "Les Fleurs du Mal"
                                },
                                {
                                    "0": "The Heist (Fox and O'Hare, #1)"
                                },
                                {
                                    "0": "Les Liaisons dangereuses"
                                },
                                {
                                    "0": "The Vegetarian"
                                },
                                {
                                    "0": "The Castle"
                                },
                                {
                                    "0": "The Natural Way to Draw"
                                },
                                {
                                    "0": "Flora and Ulysses: The Illuminated Adventures"
                                },
                                {
                                    "0": "Swann's Way (In Search of Lost Time, #1)"
                                },
                                {
                                    "0": "The Little Mouse, the Red Ripe Strawberry, and the Big Hungry Bear"
                                },
                                {
                                    "0": "Eva Luna"
                                },
                                {
                                    "0": "The 8th Confession (Women's Murder Club, #8)"
                                },
                                {
                                    "0": "Neil Gaiman's Neverwhere"
                                },
                                {
                                    "0": "The Reason I Jump: The Inner Voice of a Thirteen-Year-Old Boy with Autism"
                                },
                                {
                                    "0": "The Collected Poems of W.B. Yeats"
                                },
                                {
                                    "0": "Rudolph the Red-Nosed Reindeer"
                                },
                                {
                                    "0": "The Elephant Vanishes"
                                },
                                {
                                    "0": "Crucial Conversations: Tools for Talking When Stakes Are High"
                                },
                                {
                                    "0": "The Walking Dead, Book One (The Walking Dead #1-12)"
                                },
                                {
                                    "0": "Leviathan"
                                },
                                {
                                    "0": "The Thousand-Dollar Tan Line (Veronica Mars, #1)"
                                },
                                {
                                    "0": "No One Here Gets Out Alive"
                                },
                                {
                                    "0": "Misty of Chincoteague (Misty, #1)"
                                },
                                {
                                    "0": "Burning Chrome (Sprawl, #0)"
                                },
                                {
                                    "0": "Sleeping Beauty (Disney Princess, 5)"
                                },
                                {
                                    "0": "The Ragamuffin Gospel: Good News for the Bedraggled, Beat-Up, and Burnt Out"
                                },
                                {
                                    "0": "The Girl Who Saved the King of Sweden"
                                },
                                {
                                    "0": "Book of a Thousand Days"
                                },
                                {
                                    "0": "Mythology: Timeless Tales of Gods and Heroes"
                                },
                                {
                                    "0": "Troublemaker: Surviving Hollywood and Scientology"
                                },
                                {
                                    "0": "Oz: The Wonderful Wizard of Oz"
                                },
                                {
                                    "0": "The Nazi Officer's Wife: How One Jewish Woman Survived the Holocaust"
                                },
                                {
                                    "0": "Nicolae (Left Behind, #3)"
                                },
                                {
                                    "0": "The 9th Judgment  (Women's Murder Club, #9)"
                                },
                                {
                                    "0": "Zoo"
                                },
                                {
                                    "0": "Vespers Rising (The 39 Clues, #11)"
                                },
                                {
                                    "0": "The 101 Dalmatians (The Hundred and One Dalmatians, #1)"
                                },
                                {
                                    "0": "Revenge of the Witch (The Last Apprentice / Wardstone Chronicles, #1)"
                                },
                                {
                                    "0": "Beauty and the Beast (Disney)"
                                },
                                {
                                    "0": "The Wake (The Sandman #10)"
                                },
                                {
                                    "0": "Lady and the Tramp"
                                },
                                {
                                    "0": "Killing Jesus: A History"
                                },
                                {
                                    "0": "Y: The Last Man, Vol. 2: Cycles (Y: The Last Man, #2)"
                                },
                                {
                                    "0": "Empty Mansions: The Mysterious Life of Huguette Clark and the Spending of a Great American Fortune"
                                },
                                {
                                    "0": "The Cabinet of Curiosities (Pendergast, #3)"
                                },
                                {
                                    "0": "The Intelligent Investor (Collins Business Essentials)"
                                },
                                {
                                    "0": "Richard III"
                                },
                                {
                                    "0": "The Bane Chronicles"
                                },
                                {
                                    "0": "Kitchen"
                                },
                                {
                                    "0": "Beach Road"
                                },
                                {
                                    "0": "Nicholas Nickleby"
                                },
                                {
                                    "0": "Dean Koontz's Frankenstein, Volume 1: Prodigal Son"
                                },
                                {
                                    "0": "The Social Contract"
                                },
                                {
                                    "0": "The Federalist Papers"
                                },
                                {
                                    "0": "The Story of the Lost Child (The Neapolitan Novels, #4)"
                                },
                                {
                                    "0": "The Postmistress"
                                },
                                {
                                    "0": "Creativity, Inc.: Overcoming the Unseen Forces That Stand in the Way of True Inspiration"
                                },
                                {
                                    "0": "The Diary of Frida Kahlo: An Intimate Self-Portrait"
                                },
                                {
                                    "0": "Creepshow"
                                },
                                {
                                    "0": "Panda Bear, Panda Bear, What Do You See?"
                                },
                                {
                                    "0": "Reliquary (Pendergast, #2)"
                                },
                                {
                                    "0": "The Hypnotist (Joona Linna, #1)"
                                },
                                {
                                    "0": "The Dirt: Confessions of the World's Most Notorious Rock Band"
                                },
                                {
                                    "0": "Ten Apples Up On Top!"
                                },
                                {
                                    "0": "An American Tragedy"
                                },
                                {
                                    "0": "Anne McCaffrey's Dragonflight #1"
                                },
                                {
                                    "0": "Illuminae (The Illuminae Files, #1)"
                                },
                                {
                                    "0": "The Woman in Black"
                                },
                                {
                                    "0": "Never Never: Part Two (Never Never, #2)"
                                },
                                {
                                    "0": "10th Anniversary (Women's Murder Club, #10)"
                                },
                                {
                                    "0": "Knots and Crosses (Inspector Rebus, #1)"
                                },
                                {
                                    "0": "The Walking Dead, Vol. 02: Miles Behind Us"
                                },
                                {
                                    "0": "Alice's Adventures in Wonderland & Other Stories"
                                },
                                {
                                    "0": "The Best of H.P. Lovecraft: Bloodcurdling Tales of Horror and the Macabre"
                                },
                                {
                                    "0": "The Call of Cthulhu and Other Weird Stories"
                                },
                                {
                                    "0": "You're Never Weird on the Internet (Almost)"
                                },
                                {
                                    "0": "Now You See Her"
                                },
                                {
                                    "0": "Hawkeye, Volume 1: My Life as a Weapon"
                                },
                                {
                                    "0": "Batman: Hush"
                                },
                                {
                                    "0": "After the Quake"
                                },
                                {
                                    "0": "Guilty Wives"
                                },
                                {
                                    "0": "Between the Lines (Between the Lines, #1)"
                                },
                                {
                                    "0": "Walden & Civil Disobedience"
                                },
                                {
                                    "0": "Black Bird, Vol. 01 (Black Bird, #1)"
                                },
                                {
                                    "0": "Paper Princess (The Royals, #1)"
                                },
                                {
                                    "0": "Searching for Dragons (Enchanted Forest Chronicles, #2)"
                                },
                                {
                                    "0": "Kiss of Death (The Morganville Vampires, #8)"
                                },
                                {
                                    "0": "Maximum Ride, Vol. 1 (Maximum Ride: The Manga, #1)"
                                },
                                {
                                    "0": "The Last Boyfriend (Inn BoonsBoro, #2)"
                                },
                                {
                                    "0": "The Boy in the Suitcase (Nina Borg, #1)"
                                },
                                {
                                    "0": "The Symposium"
                                },
                                {
                                    "0": "Cold Comfort Farm"
                                },
                                {
                                    "0": "Vincent Van Gogh: The Complete Paintings"
                                },
                                {
                                    "0": "Smilla's Sense of Snow"
                                },
                                {
                                    "0": "Batman: Dark Victory"
                                },
                                {
                                    "0": "Hand, Hand, Fingers, Thumb"
                                },
                                {
                                    "0": "Pedro Páramo"
                                },
                                {
                                    "0": "The Waste Land"
                                },
                                {
                                    "0": "The Royal We"
                                },
                                {
                                    "0": "Peter and the Shadow Thieves (Peter and the Starcatchers, #2)"
                                },
                                {
                                    "0": "Hellsing, Vol. 01 (Hellsing, #1)"
                                },
                                {
                                    "0": "Soul Harvest: The World Takes Sides (Left Behind, #4)"
                                },
                                {
                                    "0": "Prodigal Son (Dean Koontz's Frankenstein, #1)"
                                },
                                {
                                    "0": "How Do Dinosaurs Say Good Night?"
                                },
                                {
                                    "0": "A Book of Five Rings: The Classic Guide to Strategy"
                                },
                                {
                                    "0": "The Nicomachean Ethics"
                                },
                                {
                                    "0": "The Berenstain Bears and the Messy Room"
                                },
                                {
                                    "0": "Blaze"
                                },
                                {
                                    "0": "History of Art"
                                },
                                {
                                    "0": "The Mysterious Benedict Society and the Perilous Journey (The Mysterious Benedict Society, #2)"
                                },
                                {
                                    "0": "Henry V"
                                },
                                {
                                    "0": "Hunger"
                                },
                                {
                                    "0": "The Joker"
                                },
                                {
                                    "0": "Night Watch (Watch #1)"
                                },
                                {
                                    "0": "Planet of the Apes"
                                },
                                {
                                    "0": "Experiencing God: Knowing and Doing the Will of God, Workbook"
                                },
                                {
                                    "0": "D.Gray-man, Volume 01"
                                },
                                {
                                    "0": "The Rule of Four"
                                },
                                {
                                    "0": "Avatar: The Last Airbender (The Search, #1)"
                                },
                                {
                                    "0": "Please Kill Me: The Uncensored Oral History of Punk"
                                },
                                {
                                    "0": "Homage to Catalonia"
                                },
                                {
                                    "0": "A Knight of the Seven Kingdoms (The Tales of Dunk and Egg, #1-3)"
                                },
                                {
                                    "0": "Buffy the Vampire Slayer: The Long Way Home (Season 8, #1)"
                                },
                                {
                                    "0": "Heart of a Dog"
                                },
                                {
                                    "0": "Marvels"
                                },
                                {
                                    "0": "The Future of Us"
                                },
                                {
                                    "0": "Island of the Sequined Love Nun"
                                },
                                {
                                    "0": "The Barefoot Contessa Cookbook"
                                },
                                {
                                    "0": "Virals (Virals, #1)"
                                },
                                {
                                    "0": "An Invisible Thread: The True Story of an 11-Year-Old Panhandler, a Busy Sales Executive, and an Unlikely Meeting with Destiny"
                                },
                                {
                                    "0": "Marked / Betrayed / Chosen / Untamed (House of Night, #1-4)"
                                },
                                {
                                    "0": "Anne Frank: Beyond the Diary - A Photographic Remembrance"
                                },
                                {
                                    "0": "11th Hour (Women's Murder Club, #11)"
                                },
                                {
                                    "0": "Earth Unaware (The First Formic War, #1)"
                                },
                                {
                                    "0": "The Three Little Pigs (Disney Classic)"
                                },
                                {
                                    "0": "Scott Pilgrim, Volume 4: Scott Pilgrim Gets It Together"
                                },
                                {
                                    "0": "From Hell"
                                },
                                {
                                    "0": "Civilization and Its Discontents"
                                },
                                {
                                    "0": "Astonishing X-Men, Volume 1: Gifted"
                                },
                                {
                                    "0": "This One Summer"
                                },
                                {
                                    "0": "Demons"
                                },
                                {
                                    "0": "Notes from Underground"
                                },
                                {
                                    "0": "Harry Potter: A Pop-Up Book: Based on the Film Phenomenon"
                                },
                                {
                                    "0": "Portrait in Sepia"
                                },
                                {
                                    "0": "A Briefer History of Time"
                                },
                                {
                                    "0": "When I'm Gone"
                                },
                                {
                                    "0": "The Oresteia  (Ορέστεια, #1-3)"
                                },
                                {
                                    "0": "Earth (The Book): A Visitor's Guide to the Human Race"
                                },
                                {
                                    "0": "God's Smuggler"
                                },
                                {
                                    "0": "Fix-It and Forget-It Cookbook: Feasting with Your Slow Cooker"
                                },
                                {
                                    "0": "Strange Angels (Strange Angels, #1)"
                                },
                                {
                                    "0": "Stolen Lives: Twenty Years in a Desert Jail"
                                },
                                {
                                    "0": "Civil War: A Marvel Comics Event"
                                },
                                {
                                    "0": "The Vow: The Kim & Krickitt Carpenter Story"
                                },
                                {
                                    "0": "xxxHolic, Vol. 1 (xxxHOLiC, #1)"
                                },
                                {
                                    "0": "Miss Nelson Is Back (Miss Nelson, #2)"
                                },
                                {
                                    "0": "The Canterville Ghost"
                                },
                                {
                                    "0": "Seconds"
                                },
                                {
                                    "0": "The Power of Your Subconscious Mind"
                                },
                                {
                                    "0": "Johnny Tremain"
                                },
                                {
                                    "0": "The Motorcycle Diaries: Notes on a Latin American Journey"
                                },
                                {
                                    "0": "The Savage Detectives"
                                },
                                {
                                    "0": "Chess Story"
                                },
                                {
                                    "0": "The Lion King: A little Golden Book"
                                },
                                {
                                    "0": "The Son"
                                },
                                {
                                    "0": "Chew, Vol. 1: Taster's Choice"
                                },
                                {
                                    "0": "Time of the Twins (Dragonlance: Legends, #1)"
                                },
                                {
                                    "0": "Roadside Picnic"
                                },
                                {
                                    "0": "Big Sur"
                                },
                                {
                                    "0": "Preacher, Volume 2: Until the End of the World"
                                },
                                {
                                    "0": "The Lord of the Rings: Weapons and Warfare"
                                },
                                {
                                    "0": "The Club Dumas"
                                },
                                {
                                    "0": "Dear Mr. Henshaw (Leigh Botts, #1)"
                                },
                                {
                                    "0": "My Friend Flicka (Flicka, #1)"
                                },
                                {
                                    "0": "The Kingmaker's Daughter (The Plantagenet and Tudor Novels, #4)"
                                },
                                {
                                    "0": "Hedda Gabler"
                                },
                                {
                                    "0": "Phantom (Harry Hole, #9)"
                                },
                                {
                                    "0": "Marked / Betrayed / Chosen / Untamed / Hunted (House of Night #1-5)"
                                },
                                {
                                    "0": "ذاكرة الجسد"
                                },
                                {
                                    "0": "Le Morte d'Arthur: King Arthur and the Legends of the Round Table"
                                },
                                {
                                    "0": "Brimstone (Pendergast, #5; Diogenes, #1)"
                                },
                                {
                                    "0": "Selected Stories"
                                },
                                {
                                    "0": "Redemption (Redemption, #1)"
                                },
                                {
                                    "0": "Apollyon (Left Behind, #5)"
                                },
                                {
                                    "0": "Alice's Adventures in Wonderland: A Pop-Up Adaptation"
                                },
                                {
                                    "0": "Ballet Shoes (Shoes, #1)"
                                },
                                {
                                    "0": "We the Living"
                                },
                                {
                                    "0": "Bread and Jam for Frances"
                                },
                                {
                                    "0": "One Fifth Avenue"
                                },
                                {
                                    "0": "El Deafo"
                                },
                                {
                                    "0": "The Walking Dead, Vol. 03: Safety Behind Bars"
                                },
                                {
                                    "0": "The Trial and Death of Socrates"
                                },
                                {
                                    "0": "History of the Peloponnesian War"
                                },
                                {
                                    "0": "The Red Badge of Courage and Selected Short Fiction  "
                                },
                                {
                                    "0": "Labyrinths:  Selected Stories and Other Writings"
                                },
                                {
                                    "0": "The Day the Crayons Quit"
                                },
                                {
                                    "0": "Kisses from Katie: A Story of Relentless Love and Redemption"
                                },
                                {
                                    "0": "The Magic Mountain"
                                },
                                {
                                    "0": "The Success Principles: How to Get from Where You Are to Where You Want to Be"
                                },
                                {
                                    "0": "Business Model Generation"
                                },
                                {
                                    "0": "Stone Soup"
                                },
                                {
                                    "0": "شيكاجو"
                                },
                                {
                                    "0": "12th of Never (Women's Murder Club, #12)"
                                },
                                {
                                    "0": "The Murder House"
                                },
                                {
                                    "0": "A Gathering of Shadows (Shades of Magic, #2)"
                                },
                                {
                                    "0": "Blind Willow, Sleeping Woman"
                                },
                                {
                                    "0": "Barefoot Contessa Back to Basics"
                                },
                                {
                                    "0": "Calling on Dragons (Enchanted Forest Chronicles, #3)"
                                },
                                {
                                    "0": "Now, Discover Your Strengths"
                                },
                                {
                                    "0": "The Other Wes Moore: One Name, Two Fates"
                                },
                                {
                                    "0": "美少女戦士セーラームーン新装版 1 [Bishōjo Senshi Sailor Moon Shinsōban 1]"
                                },
                                {
                                    "0": "The Partly Cloudy Patriot"
                                },
                                {
                                    "0": "The Night Eternal (The Strain Trilogy, #3)"
                                },
                                {
                                    "0": "The Decameron"
                                },
                                {
                                    "0": "The Aleph and Other Stories "
                                },
                                {
                                    "0": "The Demigod Diaries"
                                },
                                {
                                    "0": "Neil Patrick Harris: Choose Your Own Autobiography"
                                },
                                {
                                    "0": "Haroun and the Sea of Stories (Khalifa Brothers, #1)"
                                },
                                {
                                    "0": "Zorba the Greek"
                                },
                                {
                                    "0": "Sounder"
                                },
                                {
                                    "0": "A Universe from Nothing: Why There Is Something Rather Than Nothing"
                                },
                                {
                                    "0": "Slash"
                                },
                                {
                                    "0": "Avatar: The Last Airbender (The Promise, #1)"
                                },
                                {
                                    "0": "Being and Nothingness"
                                },
                                {
                                    "0": "Silent Spring"
                                },
                                {
                                    "0": "Behemoth (Leviathan, #2)"
                                },
                                {
                                    "0": "Y: The Last Man, Vol. 8: Kimono Dragons (Y: The Last Man, #8)"
                                },
                                {
                                    "0": "Falling Kingdoms (Falling Kingdoms, #1)"
                                },
                                {
                                    "0": "Ask and It Is Given: Learning to Manifest Your Desires"
                                },
                                {
                                    "0": "Island Beneath the Sea"
                                },
                                {
                                    "0": "The History of Tom Jones, a Foundling"
                                },
                                {
                                    "0": "Y: The Last Man, Vol. 5: Ring of Truth (Y: The Last Man, #5)"
                                },
                                {
                                    "0": "How to Tell If Your Cat Is Plotting to Kill You"
                                },
                                {
                                    "0": "The Strange Library"
                                },
                                {
                                    "0": "Ancestors of Avalon (Avalon, #5)"
                                },
                                {
                                    "0": "Out Stealing Horses"
                                },
                                {
                                    "0": "Batman: Knightfall, Vol. 1: Broken Bat"
                                },
                                {
                                    "0": "Saga, Vol. 5 (Saga, #5)"
                                },
                                {
                                    "0": "One Past Midnight: The Langoliers"
                                },
                                {
                                    "0": "Ask the Dust (Arturo Bandini, #3)"
                                },
                                {
                                    "0": "The Key to Midnight"
                                },
                                {
                                    "0": "Fairy Tales from the Brothers Grimm: A New English Version"
                                },
                                {
                                    "0": "Lysistrata"
                                },
                                {
                                    "0": "Assassins (Left Behind, #6)"
                                },
                                {
                                    "0": "Eat and Run: My Unlikely Journey to Ultramarathon Greatness"
                                },
                                {
                                    "0": "The Mark (Left Behind, #8)"
                                },
                                {
                                    "0": "Those Left Behind (Serenity, #1)"
                                },
                                {
                                    "0": "With the Old Breed: At Peleliu and Okinawa"
                                },
                                {
                                    "0": "The Hundred Dresses"
                                },
                                {
                                    "0": "Y: The Last Man, Vol. 3: One Small Step (Y: The Last Man, #3)"
                                },
                                {
                                    "0": "Bear Snores On"
                                },
                                {
                                    "0": "Salamandastron (Redwall, #5)"
                                },
                                {
                                    "0": "The Return of the Native  "
                                },
                                {
                                    "0": "Micro"
                                },
                                {
                                    "0": "No Exit and Three Other Plays"
                                },
                                {
                                    "0": "The House of the Seven Gables"
                                },
                                {
                                    "0": "The Souls of Black Folk"
                                },
                                {
                                    "0": "I Never Promised You a Rose Garden"
                                },
                                {
                                    "0": "The Lover"
                                },
                                {
                                    "0": "The Power and the Glory"
                                },
                                {
                                    "0": "Tangerine"
                                },
                                {
                                    "0": "Barbarians at the Gate: The Fall of RJR Nabisco"
                                },
                                {
                                    "0": "Franz Kafka's The Castle (Dramatization)"
                                },
                                {
                                    "0": "The Girl Who Circumnavigated Fairyland in a Ship of Her Own Making (Fairyland, #1)"
                                },
                                {
                                    "0": "NYPD Red (NYPD Red, #1)"
                                },
                                {
                                    "0": "The Book of the Dead (Pendergast, #7; Diogenes, #3)"
                                },
                                {
                                    "0": "The Indwelling (Left Behind, #7)"
                                },
                                {
                                    "0": "The Glass Bead Game"
                                },
                                {
                                    "0": "My Family and Other Animals (Corfu Trilogy, #1)"
                                },
                                {
                                    "0": "The Body"
                                },
                                {
                                    "0": "Diary of a Worm"
                                },
                                {
                                    "0": "Pale Blue Dot: A Vision of the Human Future in Space"
                                },
                                {
                                    "0": "Journey to the End of the Night"
                                },
                                {
                                    "0": "Seize the Night (Moonlight Bay, #2)"
                                },
                                {
                                    "0": "The Seeing Stone (The Spiderwick Chronicles, #2)"
                                },
                                {
                                    "0": "Giggle, Giggle, Quack"
                                },
                                {
                                    "0": "Discourse on Method and Meditations on First Philosophy"
                                },
                                {
                                    "0": "Still Life With Crows (Pendergast, #4)"
                                },
                                {
                                    "0": "Unlimited Power : The New Science Of Personal Achievement"
                                },
                                {
                                    "0": "Fever Dream (Pendergast, #10)"
                                },
                                {
                                    "0": "The Long Hard Road Out of Hell"
                                },
                                {
                                    "0": "Death With Interruptions"
                                },
                                {
                                    "0": "Britt-Marie Was Here"
                                },
                                {
                                    "0": "Kim"
                                },
                                {
                                    "0": "Critique of Pure Reason"
                                },
                                {
                                    "0": "Gnomes"
                                },
                                {
                                    "0": "Twilight and Philosophy: Vampires, Vegetarians, and the Pursuit of Immortality"
                                },
                                {
                                    "0": "La Dame aux Camélias"
                                },
                                {
                                    "0": "Fish: A Proven Way to Boost Morale and Improve Results"
                                },
                                {
                                    "0": "Stuck-Up Suit"
                                },
                                {
                                    "0": "Rapture in Death (In Death, #4)"
                                },
                                {
                                    "0": "The Elementary Particles"
                                },
                                {
                                    "0": "Dracula (Marvel Illustrated)"
                                },
                                {
                                    "0": "The Lives of the Artists"
                                },
                                {
                                    "0": "Metro 2033 (METRO, #1)"
                                },
                                {
                                    "0": "The Art Spirit: Notes, Articles, Fragments of Letters and Talks to Students, Bearing on the Concept and Technique of Picture Making, the Study of Art (Icon Editions)"
                                },
                                {
                                    "0": "The Wrath of Mulgarath (The Spiderwick Chronicles, #5)"
                                },
                                {
                                    "0": "Be Here Now"
                                },
                                {
                                    "0": "The Little Mermaid"
                                },
                                {
                                    "0": "Lifeguard"
                                },
                                {
                                    "0": "Beauty's Release (Sleeping Beauty, #3)"
                                },
                                {
                                    "0": "Execution: The Discipline of Getting Things Done"
                                },
                                {
                                    "0": "20th Century Ghosts"
                                },
                                {
                                    "0": "Half Magic (Tales of Magic, #1)"
                                },
                                {
                                    "0": "Dawn of the Dreadfuls (Pride and Prejudice and Zombies, #0.5)"
                                },
                                {
                                    "0": "Peace Is Every Step: The Path of Mindfulness in Everyday Life"
                                },
                                {
                                    "0": "Batman: A Death in the Family"
                                },
                                {
                                    "0": "Shirley"
                                },
                                {
                                    "0": "Fables, Vol. 4: March of the Wooden Soldiers"
                                },
                                {
                                    "0": "Night School"
                                },
                                {
                                    "0": "Beyond Belief: My Secret Life Inside Scientology and My Harrowing Escape"
                                },
                                {
                                    "0": "Apology"
                                },
                                {
                                    "0": "Preacher, Volume 3: Proud Americans"
                                },
                                {
                                    "0": "The Little Red Hen (Little Golden Book)"
                                },
                                {
                                    "0": "Game Change: Obama and the Clintons, McCain and Palin, and the Race of a Lifetime"
                                },
                                {
                                    "0": "Joni: An Unforgettable Story"
                                },
                                {
                                    "0": "War of the Twins (Dragonlance: Legends, #2)"
                                },
                                {
                                    "0": "Never Never: Part Three (Never Never, #3)"
                                },
                                {
                                    "0": "Katherine"
                                },
                                {
                                    "0": "Le Petit Nicolas (Le petit Nicolas, #1)"
                                },
                                {
                                    "0": "We Were Soldiers Once... and Young: Ia Drang - The Battle that Changed the War in Vietnam"
                                },
                                {
                                    "0": "Percy Jackson and the Olympians Boxed Set (Percy Jackson and the Olympians, #1-5)"
                                },
                                {
                                    "0": "The Bourne Objective (Jason Bourne, #8)"
                                },
                                {
                                    "0": "Unlucky 13 (Women’s Murder Club, #13)"
                                },
                                {
                                    "0": "Pandora Hearts 1巻"
                                },
                                {
                                    "0": "The Complete Stories"
                                },
                                {
                                    "0": "Veganomicon: The Ultimate Vegan Cookbook"
                                },
                                {
                                    "0": "Test of the Twins (Dragonlance: Legends, #3)"
                                },
                                {
                                    "0": "Stolen Innocence: My Story of Growing Up in a Polygamous Sect, Becoming a Teenage Bride, and Breaking Free of Warren Jeffs"
                                },
                                {
                                    "0": "Batman: The Man Who Laughs"
                                },
                                {
                                    "0": "The Mysterious Benedict Society and the Prisoner's Dilemma (The Mysterious Benedict Society, #3)"
                                },
                                {
                                    "0": "The Cherry Orchard"
                                },
                                {
                                    "0": "Unfinished Tales of Númenor and Middle-Earth"
                                },
                                {
                                    "0": "فوضى الحواس"
                                },
                                {
                                    "0": "Fancy Nancy"
                                },
                                {
                                    "0": "Talking to Dragons (Enchanted Forest Chronicles, #4)"
                                },
                                {
                                    "0": "Sail"
                                },
                                {
                                    "0": "The Sleeper and the Spindle"
                                },
                                {
                                    "0": "Beauty's Punishment (Sleeping Beauty, #2)"
                                },
                                {
                                    "0": "A Lion Among Men (The Wicked Years, #3)"
                                },
                                {
                                    "0": "Tartuffe"
                                },
                                {
                                    "0": "Oblomov"
                                },
                                {
                                    "0": "NurtureShock: New Thinking About Children"
                                },
                                {
                                    "0": "Daughter of the Empire (The Empire Trilogy, #1)"
                                },
                                {
                                    "0": "Theodore Boone: Kid Lawyer (Theodore Boone, #1)"
                                },
                                {
                                    "0": "Desecration (Left Behind, #9)"
                                },
                                {
                                    "0": "Chopsticks"
                                },
                                {
                                    "0": "Cockroaches (Harry Hole, #2)"
                                },
                                {
                                    "0": "City of the Beasts (Eagle and Jaguar, #1)"
                                },
                                {
                                    "0": "أولاد حارتنا"
                                },
                                {
                                    "0": "Nightfall"
                                },
                                {
                                    "0": "How I Became a Pirate"
                                },
                                {
                                    "0": "Lassie Come-Home"
                                },
                                {
                                    "0": "The China Study: The Most Comprehensive Study of Nutrition Ever Conducted And the Startling Implications for Diet, Weight Loss, And Long-term Health"
                                },
                                {
                                    "0": "The Gruffalo"
                                },
                                {
                                    "0": "Tokyo Ghoul, tome 1 (Tokyo Ghoul, #1)"
                                },
                                {
                                    "0": "Headhunters"
                                },
                                {
                                    "0": "The Man Who Was Thursday: A Nightmare"
                                },
                                {
                                    "0": "Cheaper by the Dozen"
                                },
                                {
                                    "0": "The Monster of Florence"
                                },
                                {
                                    "0": "The Last Hero (Discworld, #27; Rincewind #7)"
                                },
                                {
                                    "0": "Raymond E. Feist's Magician Master"
                                },
                                {
                                    "0": "Locke & Key, Vol. 2: Head Games"
                                },
                                {
                                    "0": "Ramona and Her Father (Ramona, #4)"
                                },
                                {
                                    "0": "Hopscotch"
                                },
                                {
                                    "0": "Manuscript Found in Accra"
                                },
                                {
                                    "0": "The Ironwood Tree (The Spiderwick Chronicles, #4)"
                                },
                                {
                                    "0": "I Am Ozzy"
                                },
                                {
                                    "0": "14th Deadly Sin (Women’s Murder Club, #14)"
                                },
                                {
                                    "0": "Y: The Last Man, Vol. 4: Safeword (Y: The Last Man, #4)"
                                },
                                {
                                    "0": "Y: The Last Man, Vol. 7: Paper Dolls (Y: The Last Man, #7)"
                                },
                                {
                                    "0": "My True Love Gave to Me: Twelve Holiday Stories"
                                },
                                {
                                    "0": "Rage"
                                },
                                {
                                    "0": "Germinal (Les Rougon-Macquart, #13)"
                                },
                                {
                                    "0": "Frigid (Frigid, #1)"
                                },
                                {
                                    "0": "Of Love and Shadows"
                                },
                                {
                                    "0": "The Walking Dead, Vol. 04: The Heart's Desire"
                                },
                                {
                                    "0": "Discipline and Punish: The Birth of the Prison"
                                },
                                {
                                    "0": "Full Moon o Sagashite, Vol. 1"
                                },
                                {
                                    "0": "Magician: Apprentice  (Raymond E. Feist's Magician: Apprentice #1)"
                                },
                                {
                                    "0": "Polgara the Sorceress (Malloreon)"
                                },
                                {
                                    "0": "The Remnant (Left Behind, #10)"
                                },
                                {
                                    "0": "The Baron in the Trees"
                                },
                                {
                                    "0": "Twilight: The Graphic Novel, Vol. 2  (Twilight: The Graphic Novel, #2)"
                                },
                                {
                                    "0": "Finding Me: A Decade of Darkness, a Life Reclaimed - A Memoir of the Cleveland Kidnappings"
                                },
                                {
                                    "0": "Jesus Freaks: Stories of Those Who Stood for Jesus, the Ultimate Jesus Freaks (Jesus Freaks, #1)"
                                },
                                {
                                    "0": "Police (Harry Hole, #10)"
                                },
                                {
                                    "0": "Fushigi Yûgi: The Mysterious Play, Vol. 1: Priestess"
                                },
                                {
                                    "0": "Anne Rice's The Tale of the Body Thief (A Graphic Novel)"
                                },
                                {
                                    "0": "The Princess and the Goblin  (Princess Irene and Curdie, #1)"
                                },
                                {
                                    "0": "The Preacher (Patrik Hedström, #2)"
                                },
                                {
                                    "0": "Lord of Light"
                                },
                                {
                                    "0": "Esio Trot"
                                },
                                {
                                    "0": "Run for Your Life (Michael Bennett, #2)"
                                },
                                {
                                    "0": "Play It as It Lays"
                                },
                                {
                                    "0": "The Valkyries"
                                },
                                {
                                    "0": "Curse of the Bane (The Last Apprentice / Wardstone Chronicles, #2)"
                                },
                                {
                                    "0": "The Second Sex"
                                },
                                {
                                    "0": "Dragon Wing (The Death Gate Cycle, #1)"
                                },
                                {
                                    "0": "Y: The Last Man, Vol. 9: Motherland (Y: The Last Man, #9)"
                                },
                                {
                                    "0": "Lumberjanes, Vol. 1: Beware the Kitten Holy"
                                },
                                {
                                    "0": "Dance of Death (Pendergast, #6; Diogenes, #2)"
                                },
                                {
                                    "0": "Hunter x Hunter, Vol. 01 (Hunter x Hunter, #1)"
                                },
                                {
                                    "0": "The Gift (Witch & Wizard, #2)"
                                },
                                {
                                    "0": "A Game of Thrones: Comic Book, Issue 1"
                                },
                                {
                                    "0": "Darke (Septimus Heap, #6)"
                                },
                                {
                                    "0": "Lucky Jim"
                                },
                                {
                                    "0": "Y: The Last Man, Vol. 10: Whys and Wherefores (Y: The Last Man, #10)"
                                },
                                {
                                    "0": "Memories, Dreams, Reflections"
                                },
                                {
                                    "0": "Laughable Loves"
                                },
                                {
                                    "0": "Dinosaurs Before Dark (Magic Tree House, #1)"
                                },
                                {
                                    "0": "Death in Venice"
                                },
                                {
                                    "0": "The Tibetan Book of Living and Dying"
                                },
                                {
                                    "0": "The Improbable Adventures of Sherlock Holmes"
                                },
                                {
                                    "0": "Fables, Vol. 2: Animal Farm"
                                },
                                {
                                    "0": "The Fire Next Time"
                                },
                                {
                                    "0": "We3"
                                },
                                {
                                    "0": "Percy Jackson's Greek Gods (A Percy Jackson and the Olympians Guide)"
                                },
                                {
                                    "0": "Darkness at Noon"
                                },
                                {
                                    "0": "Diane Arbus: Monograph"
                                },
                                {
                                    "0": "House"
                                },
                                {
                                    "0": "Vicious (Villains, #1)"
                                },
                                {
                                    "0": "Until You (Fall Away, #1.5)"
                                },
                                {
                                    "0": "It Starts with Food: Discover the Whole30 and Change Your Life in Unexpected Ways"
                                },
                                {
                                    "0": "Be with Me (Wait for You, #2)"
                                },
                                {
                                    "0": "The Absent One (Department Q, #2)"
                                },
                                {
                                    "0": "The Walking Dead, Vol. 05: The Best Defense"
                                },
                                {
                                    "0": "What Got You Here Won't Get You There: How Successful People Become Even More Successful"
                                },
                                {
                                    "0": "The Wicked + The Divine, Vol. 1: The Faust Act"
                                },
                                {
                                    "0": "The Law of Attraction: The Basics of the Teachings of Abraham"
                                },
                                {
                                    "0": "Lucinda's Secret (The Spiderwick Chronicles, #3)"
                                },
                                {
                                    "0": "Henry Huggins (Henry Huggins, #1)"
                                },
                                {
                                    "0": "Bedtime for Frances"
                                },
                                {
                                    "0": "Totto-chan: The Little Girl at the Window"
                                },
                                {
                                    "0": "The Postcard Killers"
                                },
                                {
                                    "0": "Kamisama Kiss, Vol. 1"
                                },
                                {
                                    "0": "All My Friends Are Dead"
                                },
                                {
                                    "0": "Cash"
                                },
                                {
                                    "0": "Out of Africa"
                                },
                                {
                                    "0": "Mariel of Redwall (Redwall, #4)"
                                },
                                {
                                    "0": "Antony and Cleopatra"
                                },
                                {
                                    "0": "And the Band Played On: Politics, People, and the AIDS Epidemic"
                                },
                                {
                                    "0": "It Chooses You"
                                },
                                {
                                    "0": "Last Exit to Brooklyn"
                                },
                                {
                                    "0": "The Feast of the Goat"
                                },
                                {
                                    "0": "Invisible"
                                },
                                {
                                    "0": "Thunderhead"
                                },
                                {
                                    "0": "The Monkey's Paw (Oxford Bookworms)"
                                },
                                {
                                    "0": "The Pursuit of Holiness"
                                },
                                {
                                    "0": "Confessions of a Murder Suspect (Confessions, #1)"
                                },
                                {
                                    "0": "Y: The Last Man, Vol. 6: Girl on Girl (Y: The Last Man, #6)"
                                },
                                {
                                    "0": "If You Give a Pig a Party"
                                },
                                {
                                    "0": "Quo Vadis"
                                },
                                {
                                    "0": "Servant of the Empire (The Empire Trilogy, #2)"
                                },
                                {
                                    "0": "Is Your Mama a Llama?"
                                },
                                {
                                    "0": "Dali: The Paintings"
                                },
                                {
                                    "0": "Cold Fire / Hideaway / The Key to Midnight"
                                },
                                {
                                    "0": "The Fifth Woman (Kurt Wallander, #6)"
                                },
                                {
                                    "0": "Bel-Ami"
                                },
                                {
                                    "0": "The Time in Between"
                                },
                                {
                                    "0": "The Dhammapada"
                                },
                                {
                                    "0": "Swimsuit"
                                },
                                {
                                    "0": "تاكسي: حواديت المشاوير"
                                },
                                {
                                    "0": "Goliath (Leviathan, #3)"
                                },
                                {
                                    "0": "Reborn! Vol. 01: Reborn Arrives! (Reborn!, #1)"
                                },
                                {
                                    "0": "Locke & Key, Vol. 3: Crown of Shadows"
                                },
                                {
                                    "0": "The Garden of Rama (Rama, #3)"
                                },
                                {
                                    "0": "Batman: The Black Mirror"
                                },
                                {
                                    "0": "Kill Me If You Can"
                                },
                                {
                                    "0": "If You Take a Mouse to the Movies"
                                },
                                {
                                    "0": "A Lick of Frost (Merry Gentry, #6)"
                                },
                                {
                                    "0": "The Abyss"
                                },
                                {
                                    "0": "The Readers of Broken Wheel Recommend"
                                },
                                {
                                    "0": "The Magic of Reality: How We Know What's Really True"
                                },
                                {
                                    "0": "Remember (Redemption, #2)"
                                },
                                {
                                    "0": "Beauty and the Beast"
                                },
                                {
                                    "0": "Night of the Soul Stealer (The Last Apprentice / Wardstone Chronicles, #3)"
                                },
                                {
                                    "0": "The Blind Owl"
                                },
                                {
                                    "0": "Pete the Cat: I Love My White Shoes"
                                },
                                {
                                    "0": "The Ring of Solomon (Bartimaeus, #0.5)"
                                },
                                {
                                    "0": "Barefoot Contessa Family Style: Easy Ideas and Recipes That Make Everyone Feel Like Family"
                                },
                                {
                                    "0": "At the Mountains of Madness"
                                },
                                {
                                    "0": "Preacher, Volume 9: Alamo"
                                },
                                {
                                    "0": "Collected Fictions"
                                },
                                {
                                    "0": "Mistakes Were Made (But Not by Me): Why We Justify Foolish Beliefs, Bad Decisions, and Hurtful Acts"
                                },
                                {
                                    "0": "Roadwork"
                                },
                                {
                                    "0": "Just Me in the Tub (Mercer Mayer's Little Critter)"
                                },
                                {
                                    "0": "The Walking Dead, Vol. 06: This Sorrowful Life"
                                },
                                {
                                    "0": "Inés of My Soul"
                                },
                                {
                                    "0": "Crossing the Chasm: Marketing and Selling High-Tech Products to Mainstream Customers"
                                },
                                {
                                    "0": "Identity"
                                },
                                {
                                    "0": "The Funhouse"
                                },
                                {
                                    "0": "Why Mosquitoes Buzz in People's Ears"
                                },
                                {
                                    "0": "The Prince of Mist (Niebla, #1)"
                                },
                                {
                                    "0": "The First Four Years  (Little House, #9)"
                                },
                                {
                                    "0": "Grimm's Fairy Tales"
                                },
                                {
                                    "0": "The Definitive Book of Body Language"
                                },
                                {
                                    "0": "Tick Tock (Michael Bennett, #4)"
                                },
                                {
                                    "0": "Complete Works of Oscar Wilde"
                                },
                                {
                                    "0": "The New Best Recipe"
                                },
                                {
                                    "0": "Daytripper"
                                },
                                {
                                    "0": "The Museum of Innocence"
                                },
                                {
                                    "0": "Faust"
                                },
                                {
                                    "0": "Three Little Kittens"
                                },
                                {
                                    "0": "The Valley of Fear"
                                },
                                {
                                    "0": "Preacher, Volume 6: War in the Sun"
                                },
                                {
                                    "0": "Deep Kiss of Winter (Includes: Immortals After Dark, #8; Alien Huntress, #3.5)"
                                },
                                {
                                    "0": "Doll Bones"
                                },
                                {
                                    "0": "Welcome to Night Vale"
                                },
                                {
                                    "0": "Sleeping Beauty: a Little Golden Book (Disney Princess)"
                                },
                                {
                                    "0": "The Vagina Monologues"
                                },
                                {
                                    "0": "Daniel Deronda"
                                },
                                {
                                    "0": "Life Application Study Bible: NIV"
                                },
                                {
                                    "0": "The Wheel of Darkness (Pendergast, #8)"
                                },
                                {
                                    "0": "The Sandman: Endless Nights"
                                },
                                {
                                    "0": "Adam Bede"
                                },
                                {
                                    "0": "The Housekeeper and the Professor"
                                },
                                {
                                    "0": "Purgatorio (The Divine Comedy, #2)"
                                },
                                {
                                    "0": "By the Time You Read This, I'll Be Dead"
                                },
                                {
                                    "0": "City of Night (Dean Koontz's Frankenstein, #2)"
                                },
                                {
                                    "0": "Maya's Notebook"
                                },
                                {
                                    "0": "If You're Reading This, It's Too Late (Secret, #2)"
                                },
                                {
                                    "0": "Betrayals (Strange Angels, #2)"
                                },
                                {
                                    "0": "You've Been Warned"
                                },
                                {
                                    "0": "Chasing Vermeer (Chasing Vermeer, #1)"
                                },
                                {
                                    "0": "The Adventures of Ook and Gluk, Kung-Fu Cavemen from the Future"
                                },
                                {
                                    "0": "A Child's Garden of Verses"
                                },
                                {
                                    "0": "The Walking Dead, Vol. 12: Life Among Them"
                                },
                                {
                                    "0": "Pedagogy of the Oppressed"
                                },
                                {
                                    "0": "Identity Crisis"
                                },
                                {
                                    "0": "Rama II (Rama, #2)"
                                },
                                {
                                    "0": "Who Could That Be at This Hour? (All the Wrong Questions, #1)"
                                },
                                {
                                    "0": "Avatar: The Last Airbender: The Lost Adventures"
                                },
                                {
                                    "0": "الطنطورية"
                                },
                                {
                                    "0": "Fables, Vol. 3: Storybook Love"
                                },
                                {
                                    "0": "The Five Chinese Brothers"
                                },
                                {
                                    "0": "Disney after Dark (Kingdom Keepers, #1)"
                                },
                                {
                                    "0": "Trust in Me (Wait for You, #1.5)"
                                },
                                {
                                    "0": "Naruto, Vol. 11: Impassioned Efforts (Naruto, #11)"
                                },
                                {
                                    "0": "Capital in the Twenty-First Century"
                                },
                                {
                                    "0": "Eloise "
                                },
                                {
                                    "0": "The Day of the Locust"
                                },
                                {
                                    "0": "Alex Cross's Trial (Alex Cross, #15)"
                                },
                                {
                                    "0": "Sway: The Irresistible Pull of Irrational Behavior"
                                },
                                {
                                    "0": "King of the Wind: The Story of the Godolphin Arabian"
                                },
                                {
                                    "0": "The Solitaire Mystery: A Novel About Family and Destiny"
                                },
                                {
                                    "0": "Rat Queens, Vol. 1: Sass & Sorcery"
                                },
                                {
                                    "0": "Guards! Guards!: The Play"
                                },
                                {
                                    "0": "Little Red Riding Hood"
                                },
                                {
                                    "0": "Ghost Boy"
                                },
                                {
                                    "0": "The Magic Finger (Young Puffin Developing Reader)"
                                },
                                {
                                    "0": "Meditations on First Philosophy"
                                },
                                {
                                    "0": "Cardcaptor Sakura, Vol. 1 (Cardcaptor Sakura, #1)"
                                },
                                {
                                    "0": "A Case of Need"
                                },
                                {
                                    "0": "Revealed (House of Night, #11)"
                                },
                                {
                                    "0": "The Seagull"
                                },
                                {
                                    "0": "1Q84 BOOK 3 (1Q84, #3)"
                                },
                                {
                                    "0": "New York to Dallas (In Death, #33)"
                                },
                                {
                                    "0": "Mistress of the Empire (The Empire Trilogy, #3)"
                                },
                                {
                                    "0": "The Hidden Staircase (Nancy Drew #2)"
                                },
                                {
                                    "0": "Interesting Times: The Play"
                                },
                                {
                                    "0": "Heart of Darkness and Selected Short Fiction"
                                },
                                {
                                    "0": "Why I Am Not a Christian and Other Essays on Religion and Related Subjects"
                                },
                                {
                                    "0": "عقاید یک دلقک"
                                },
                                {
                                    "0": "The I Ching or Book of Changes"
                                },
                                {
                                    "0": "American Vampire, Vol. 1"
                                },
                                {
                                    "0": "Democracy in America "
                                },
                                {
                                    "0": "The Complete Clive Barker's The Great And Secret Show"
                                },
                                {
                                    "0": "House Atreides (Prelude to Dune #1)"
                                },
                                {
                                    "0": "Amerika"
                                },
                                {
                                    "0": "30 Days of Night, Vol. 1"
                                },
                                {
                                    "0": "النبطي"
                                },
                                {
                                    "0": "The Prague Cemetery"
                                },
                                {
                                    "0": "The Portable Atheist: Essential Readings for the Nonbeliever"
                                },
                                {
                                    "0": "Utilitarianism"
                                },
                                {
                                    "0": "Killing Patton: The Strange Death of World War II's Most Audacious General"
                                },
                                {
                                    "0": "The Devotion of Suspect X"
                                },
                                {
                                    "0": "Worst Case (Michael Bennett, #3)"
                                },
                                {
                                    "0": "Pride of Baghdad"
                                },
                                {
                                    "0": "Frosty the Snow Man"
                                },
                                {
                                    "0": "Wildwood (Wildwood Chronicles, #1)"
                                },
                                {
                                    "0": "Serpent Mage (The Death Gate Cycle, #4)"
                                },
                                {
                                    "0": "Kitchen Princess, Vol. 01 (Kitchen Princess, #1)"
                                },
                                {
                                    "0": "Private Games (Private #3)"
                                },
                                {
                                    "0": "Pinkalicious"
                                },
                                {
                                    "0": "The Poetry of Pablo Neruda"
                                },
                                {
                                    "0": "Lady Susan"
                                },
                                {
                                    "0": "The Silver Palate Cookbook"
                                },
                                {
                                    "0": "Wolf Brother (Chronicles of Ancient Darkness, #1)"
                                },
                                {
                                    "0": "Bakuman, Band 1: Traum und Realität"
                                },
                                {
                                    "0": "The Anti-Christ"
                                },
                                {
                                    "0": "Shattered"
                                },
                                {
                                    "0": "Please Look After Mom"
                                },
                                {
                                    "0": "House of M"
                                },
                                {
                                    "0": "Up from Slavery"
                                },
                                {
                                    "0": "Asterix the Gaul (Asterix, #1)"
                                },
                                {
                                    "0": "Peter and the Secret of Rundoon (Peter and the Starcatchers, #3)"
                                },
                                {
                                    "0": "Boys Over Flowers: Hana Yori Dango, Vol. 1 (Boys Over Flowers, #1)"
                                },
                                {
                                    "0": "The Wallflower, Vol. 1 (The Wallflower, #1)"
                                },
                                {
                                    "0": "Rise of the Governor (The Walking Dead #1)"
                                },
                                {
                                    "0": "The Twelve Chairs"
                                },
                                {
                                    "0": "Chicken Soup for the Teenage Soul: 101 Stories of Life, Love and Learning (Chicken Soup for the Soul)"
                                },
                                {
                                    "0": "The Beatles Anthology"
                                },
                                {
                                    "0": "Sex at Dawn: The Prehistoric Origins of Modern Sexuality"
                                },
                                {
                                    "0": "Night World: The Ultimate Fan Guide"
                                },
                                {
                                    "0": "Dragonlance Chronicles (Dragonlance #1-3)"
                                },
                                {
                                    "0": "Fables, Vol. 6: Homelands"
                                },
                                {
                                    "0": "Sex Criminals, Vol. 1: One Weird Trick"
                                },
                                {
                                    "0": "The Rising: Antichrist is Born  (Before They Were Left Behind, #1)"
                                },
                                {
                                    "0": "Loving What Is: Four Questions That Can Change Your Life"
                                },
                                {
                                    "0": "The Whipping Boy"
                                },
                                {
                                    "0": "Short Stories from Hogwarts of Heroism, Hardship and Dangerous Hobbies (Pottermore Presents, #1)"
                                },
                                {
                                    "0": "Pygmalion and Three Other Plays"
                                },
                                {
                                    "0": "The Butlerian Jihad (Legends of Dune, #1)"
                                },
                                {
                                    "0": "The Complete Poetry and Prose"
                                },
                                {
                                    "0": "Death Note, Vol. 2: Confluence (Death Note, #2)"
                                },
                                {
                                    "0": "Akira, Vol. 1"
                                },
                                {
                                    "0": "Gakuen Alice, Vol. 01 (Gakuen Alice, #1)"
                                },
                                {
                                    "0": "The Strange Case of Dr. Jekyll and Mr. Hyde and Other Stories "
                                },
                                {
                                    "0": "The Umbrella Academy, Vol. 1: The Apocalypse Suite"
                                },
                                {
                                    "0": "Ms. Marvel, Vol. 2: Generation Why"
                                },
                                {
                                    "0": "Burn for Burn (Burn for Burn, #1)"
                                },
                                {
                                    "0": "The Glassblower"
                                },
                                {
                                    "0": "Big Red (Big Red, #1)"
                                },
                                {
                                    "0": "Swamp Thing, Vol. 1: Saga of the Swamp Thing"
                                },
                                {
                                    "0": "The Dogs of Riga (Kurt Wallander, #2)"
                                },
                                {
                                    "0": "The Imitation of Christ"
                                },
                                {
                                    "0": "Saga, Vol. 6 (Saga, #6)"
                                },
                                {
                                    "0": "The Enchantress Returns (The Land of Stories, #2)"
                                },
                                {
                                    "0": "Attack of the Fiend (The Last Apprentice / Wardstone Chronicles, #4)"
                                },
                                {
                                    "0": "The Jordan Rules"
                                },
                                {
                                    "0": "Willpower: Rediscovering the Greatest Human Strength"
                                },
                                {
                                    "0": "The Good Soldier"
                                },
                                {
                                    "0": "Into the Labyrinth (The Death Gate Cycle, #6)"
                                },
                                {
                                    "0": "The Berenstain Bears' Trouble at School"
                                },
                                {
                                    "0": "The Talisman (Volume 1): The Road of Trials"
                                },
                                {
                                    "0": "The League of Extraordinary Gentlemen, Vol. 2"
                                },
                                {
                                    "0": "Out"
                                },
                                {
                                    "0": "Tom's Midnight Garden"
                                },
                                {
                                    "0": "What Really Happened in Peru (The Bane Chronicles, #1)"
                                },
                                {
                                    "0": "Grain Brain: The Surprising Truth about Wheat, Carbs,  and Sugar--Your Brain's Silent Killers"
                                },
                                {
                                    "0": "Why Nations Fail: The Origins of Power, Prosperity, and Poverty"
                                },
                                {
                                    "0": "Zorro"
                                },
                                {
                                    "0": "Preacher, Volume 5: Dixie Fried"
                                },
                                {
                                    "0": "The Rainbow"
                                },
                                {
                                    "0": "Preacher, Volume 4: Ancient History"
                                },
                                {
                                    "0": "The Heavenly Man: The Remarkable True Story of Chinese Christian Brother Yun"
                                },
                                {
                                    "0": "Herzog"
                                },
                                {
                                    "0": "The Yacoubian Building"
                                },
                                {
                                    "0": "Martha Stewart's Cookies: The Very Best Treats to Bake and to Share"
                                },
                                {
                                    "0": "Twelve Angry Men"
                                },
                                {
                                    "0": "Batman: Whatever Happened to the Caped Crusader?"
                                },
                                {
                                    "0": "Locke & Key, Vol. 5: Clockworks"
                                },
                                {
                                    "0": "Alice in the Country of Hearts, Vol. 01 (Alice in the Country of Hearts, #1)"
                                },
                                {
                                    "0": "Hamilton: The Revolution"
                                },
                                {
                                    "0": "Out of Oz (The Wicked Years, #4)"
                                },
                                {
                                    "0": "Selected Stories"
                                },
                                {
                                    "0": "The Taste of Home Cookbook"
                                },
                                {
                                    "0": "When Rabbit Howls"
                                },
                                {
                                    "0": "Ghost in the Wires: My Adventures as the World's Most Wanted Hacker"
                                },
                                {
                                    "0": "Cemetery Dance (Pendergast, #9)"
                                },
                                {
                                    "0": "Baudolino"
                                },
                                {
                                    "0": "15th Affair (Women's Murder Club #15)"
                                },
                                {
                                    "0": "A Fish Out of Water"
                                },
                                {
                                    "0": "Locke & Key, Vol. 4: Keys to the Kingdom"
                                },
                                {
                                    "0": "The Jester"
                                },
                                {
                                    "0": "In Real Life"
                                },
                                {
                                    "0": "Jealousy (Strange Angels, #3)"
                                },
                                {
                                    "0": "The Hedge Knight (The Hedge Knight Graphic Novels, #1)"
                                },
                                {
                                    "0": "Inherit the Wind"
                                },
                                {
                                    "0": "This Book Is Not Good for You (Secret, #3)"
                                },
                                {
                                    "0": "Judgment in Death (In Death, #11)"
                                },
                                {
                                    "0": "S."
                                },
                                {
                                    "0": "رباعيات خيام"
                                },
                                {
                                    "0": "Runaways, Vol. 1: Pride and Joy (Runaways, #1)"
                                },
                                {
                                    "0": "Anne Frank : The Biography"
                                },
                                {
                                    "0": "Sidetracked (Kurt Wallander, #5)"
                                },
                                {
                                    "0": "America's First Daughter"
                                },
                                {
                                    "0": "The Unwritten, Vol. 1: Tommy Taylor and the Bogus Identity"
                                },
                                {
                                    "0": "The History of Sexuality, Volume 1: An Introduction"
                                },
                                {
                                    "0": "Armageddon: The Cosmic Battle of the Ages (Left Behind, #11)"
                                },
                                {
                                    "0": "Van Gogh: The Life"
                                },
                                {
                                    "0": "The Three Little Pigs"
                                },
                                {
                                    "0": "Twenty Years After (The D'Artagnan Romances, #2)"
                                },
                                {
                                    "0": "The Seventh Gate (The Death Gate Cycle, #7)"
                                },
                                {
                                    "0": "The Day Jimmy's Boa Ate the Wash"
                                },
                                {
                                    "0": "White Fire (Pendergast, #13)"
                                },
                                {
                                    "0": "Wir Kinder vom Bahnhof Zoo"
                                },
                                {
                                    "0": "March: Book One (March, #1)"
                                },
                                {
                                    "0": "Everything That Rises Must Converge: Stories"
                                },
                                {
                                    "0": "Malgudi Days"
                                },
                                {
                                    "0": "The Dark Monk (The Hangman's Daughter, #2)"
                                },
                                {
                                    "0": "Artisan Bread in Five Minutes a Day: The Discovery That Revolutionizes Home Baking"
                                },
                                {
                                    "0": "Second Treatise of Government"
                                },
                                {
                                    "0": "The Autobiography of Martin Luther King, Jr."
                                },
                                {
                                    "0": "Geisha, a Life"
                                },
                                {
                                    "0": "Day Watch (Watch #2)"
                                },
                                {
                                    "0": "Batman, Volume 2: The City of Owls"
                                },
                                {
                                    "0": "SEAL Team Six: Memoirs of an Elite Navy SEAL Sniper"
                                },
                                {
                                    "0": "Five Dialogues: Euthyphro, Apology, Crito, Meno, Phaedo"
                                },
                                {
                                    "0": "Notorious RBG: The Life and Times of Ruth Bader Ginsburg"
                                },
                                {
                                    "0": "The Chase (Fox and O'Hare, #2)"
                                },
                                {
                                    "0": "The Orange Girl"
                                },
                                {
                                    "0": "The House of Thunder"
                                },
                                {
                                    "0": "Witness in Death (In Death, #10)"
                                },
                                {
                                    "0": "Avatar: The Last Airbender (The Rift, #1)"
                                },
                                {
                                    "0": "Superman: Earth One, Volume 1"
                                },
                                {
                                    "0": "Foxe's Book of Martyrs"
                                },
                                {
                                    "0": "Soccernomics: Why England Loses, Why Germany and Brazil Win, and Why the U.S., Japan, Australia, Turkey--and Even Iraq--Are Destined to Become the Kings of the World's Most Popular Sport"
                                },
                                {
                                    "0": "The Feminine Mystique"
                                },
                                {
                                    "0": "Brighton Rock"
                                },
                                {
                                    "0": "Stones Into Schools: Promoting Peace With Books, Not Bombs, in Afghanistan and Pakistan"
                                },
                                {
                                    "0": "Private #1 Suspect (Private, #2)"
                                },
                                {
                                    "0": "The Walking Dead, Vol. 07: The Calm Before"
                                },
                                {
                                    "0": "Preacher, Volume 8: All Hell's a-Coming"
                                },
                                {
                                    "0": "The Little Sisters of Eluria (The Dark Tower, #0.5)"
                                },
                                {
                                    "0": "Inside, Outside, Upside Down (Berenstain Bears Bright and Early Board Book)"
                                },
                                {
                                    "0": "Ignorance"
                                },
                                {
                                    "0": "The Difference Engine "
                                },
                                {
                                    "0": "Preacher, Volume 7: Salvation"
                                },
                                {
                                    "0": "How Will You Measure Your Life?"
                                },
                                {
                                    "0": "The Brothers Lionheart"
                                },
                                {
                                    "0": "Loyalty in Death (In Death, #9)"
                                },
                                {
                                    "0": "نادي السيارات"
                                },
                                {
                                    "0": "The Story of Tracy Beaker"
                                },
                                {
                                    "0": "The Servants of Twilight"
                                },
                                {
                                    "0": "Martin Eden"
                                },
                                {
                                    "0": "Wonder Woman, Volume 1: Blood"
                                },
                                {
                                    "0": "King Henry IV, Part 1 (Wars of the Roses, #2)"
                                },
                                {
                                    "0": "Deadman Wonderland, Volume 1 (Deadman Wonderland, #1)"
                                },
                                {
                                    "0": "Icebound"
                                },
                                {
                                    "0": "Snowmen at Night"
                                },
                                {
                                    "0": "Common Sense, The Rights of Man and Other Essential Writings"
                                },
                                {
                                    "0": "Welcome to Shadowhunter Academy (Tales from the Shadowhunter Academy, #1)"
                                },
                                {
                                    "0": "Going Solo"
                                },
                                {
                                    "0": "Clementine (Clementine, #1)"
                                },
                                {
                                    "0": "Old Possum's Book of Practical Cats"
                                },
                                {
                                    "0": "The Man Who Smiled (Kurt Wallander, #4)"
                                },
                                {
                                    "0": "عابر سرير"
                                },
                                {
                                    "0": "The Complete Phantom of the Opera"
                                },
                                {
                                    "0": "The Unusual Suspects (The Sisters Grimm, #2)"
                                },
                                {
                                    "0": "The Dark Forest (Remembrance of Earth’s Past, #2)"
                                },
                                {
                                    "0": "Cold Vengeance (Pendergast, #11)"
                                },
                                {
                                    "0": "The Eyes of Darkness"
                                },
                                {
                                    "0": "Treachery in Death (In Death, #32)"
                                },
                                {
                                    "0": "The Adventures of Augie March"
                                },
                                {
                                    "0": "Middle School: The Worst Years of My Life (Midde School, #1)"
                                },
                                {
                                    "0": "Every Man Dies Alone"
                                },
                                {
                                    "0": "Betrayal in Death (In Death, #12)"
                                },
                                {
                                    "0": "Man and His Symbols"
                                },
                                {
                                    "0": "Tempt Me at Twilight (The Hathaways, #3)"
                                },
                                {
                                    "0": "The Ice Limit (Ice Limit #1)"
                                },
                                {
                                    "0": "Pnin"
                                },
                                {
                                    "0": "Musashi"
                                },
                                {
                                    "0": "Jar City (Inspector Erlendur, #3)"
                                },
                                {
                                    "0": "Fresh Wind, Fresh Fire: What Happens When God's Spirit Invades the Heart of His People"
                                },
                                {
                                    "0": "Second Honeymoon (Honeymoon, #2)"
                                },
                                {
                                    "0": "Last Chance to See"
                                },
                                {
                                    "0": "Existentialism Is a Humanism"
                                },
                                {
                                    "0": "The Little Match Girl"
                                },
                                {
                                    "0": "Death Note, Vol. 3: Hard Run (Death Note, #3)"
                                },
                                {
                                    "0": "How to Talk So Kids Will Listen & Listen So Kids Will Talk"
                                },
                                {
                                    "0": "Fiddler on the Roof"
                                },
                                {
                                    "0": "Full House (Full #1)"
                                },
                                {
                                    "0": "The Broken Wings"
                                },
                                {
                                    "0": "Two Graves (Pendergast, #12)"
                                },
                                {
                                    "0": "I Am Nujood, Age 10 and Divorced"
                                },
                                {
                                    "0": "The Past Through Tomorrow (Future History, #1-21)"
                                },
                                {
                                    "0": "The Death of Superman"
                                },
                                {
                                    "0": "Fire Sea (The Death Gate Cycle, #3)"
                                },
                                {
                                    "0": "Junie B. Jones and the  Stupid Smelly Bus (Junie B. Jones, #1)"
                                },
                                {
                                    "0": "The Autumn of the Patriarch"
                                },
                                {
                                    "0": "Betsy-Tacy (Betsy-Tacy, #1)"
                                },
                                {
                                    "0": "محال"
                                },
                                {
                                    "0": "Rikki-Tikki-Tavi"
                                },
                                {
                                    "0": "All-Star Superman, Vol. 2"
                                },
                                {
                                    "0": "The World of Ice & Fire: The Untold History of Westeros and the Game of Thrones"
                                },
                                {
                                    "0": "Miracle in the Andes"
                                },
                                {
                                    "0": "The War that Saved My Life (The War That Saved My Life #1)"
                                },
                                {
                                    "0": "Death in Venice and Other Tales"
                                },
                                {
                                    "0": "Cardcaptor Sakura: Master of the Clow, Vol. 1 (Cardcaptor Sakura, #7)"
                                },
                                {
                                    "0": "Samarkand"
                                },
                                {
                                    "0": "All My Sons"
                                },
                                {
                                    "0": "The Littles"
                                },
                                {
                                    "0": "Amelia Bedelia and the Surprise Shower"
                                },
                                {
                                    "0": "The Hand of Chaos (The Death Gate Cycle, #5)"
                                },
                                {
                                    "0": "Measure for Measure"
                                },
                                {
                                    "0": "The Mask"
                                },
                                {
                                    "0": "Tempting the Best Man (Gamble Brothers, #1)"
                                },
                                {
                                    "0": "Transmetropolitan, Vol. 2: Lust for Life (Transmetropolitan, #2)"
                                },
                                {
                                    "0": "Giada's Family Dinners"
                                },
                                {
                                    "0": "Fear and Trembling"
                                },
                                {
                                    "0": "Come Back, Amelia Bedelia"
                                },
                                {
                                    "0": "Relativity: The Special and the General Theory"
                                },
                                {
                                    "0": "The Meaning of Marriage: Facing the Complexities of Commitment with the Wisdom of God"
                                },
                                {
                                    "0": "Batman & Robin: Batman Reborn"
                                },
                                {
                                    "0": "The Flanders Panel"
                                },
                                {
                                    "0": "The Princess and the Pea"
                                },
                                {
                                    "0": "The Short Stories"
                                },
                                {
                                    "0": "Rome (Marked Men, #3)"
                                },
                                {
                                    "0": "The Life and Opinions of Tristram Shandy, Gentleman"
                                },
                                {
                                    "0": "Giraffes Can't Dance"
                                },
                                {
                                    "0": "Tokyo Mew Mew, Vol. 1 (Tokyo Mew Mew, #1)"
                                },
                                {
                                    "0": "Coraline (Illustrated/Graphic Novel Edition)"
                                },
                                {
                                    "0": "Two Treatises of Government"
                                },
                                {
                                    "0": "100 Love Sonnets"
                                },
                                {
                                    "0": "Short Stories from Hogwarts of Power, Politics and Pesky Poltergeists (Pottermore Presents, #2)"
                                },
                                {
                                    "0": "Phenomenology of Spirit"
                                },
                                {
                                    "0": "The Dresden Files:  Storm Front, Volume 1-  The Gathering Storm"
                                },
                                {
                                    "0": "The Long Patrol (Redwall, #10)"
                                },
                                {
                                    "0": "When We Were Very Young (Winnie-the-Pooh, #3)"
                                },
                                {
                                    "0": "سینوهه"
                                },
                                {
                                    "0": "Odd and the Frost Giants"
                                },
                                {
                                    "0": "Season of Migration to the North"
                                },
                                {
                                    "0": "Pacific Vortex! (Dirk Pitt, #1)"
                                },
                                {
                                    "0": "Marching Powder: A True Story of Friendship, Cocaine, and South America's Strangest Jail"
                                },
                                {
                                    "0": "Crisis on Infinite Earths"
                                },
                                {
                                    "0": "Ronia, the Robber's Daughter"
                                },
                                {
                                    "0": "Blood on Snow (Blood on Snow, #1)"
                                },
                                {
                                    "0": "The Magic Thief (Magic Thief, #1)"
                                },
                                {
                                    "0": "Bone: Quest for the Spark, Vol. 1"
                                },
                                {
                                    "0": "Choosing to SEE"
                                },
                                {
                                    "0": "The Unabridged Journals of Sylvia Plath"
                                },
                                {
                                    "0": "Defiance (Strange Angels, #4)"
                                },
                                {
                                    "0": "Batman: Hush, Vol. 2"
                                },
                                {
                                    "0": "Dragon's Oath (House of Night Novellas, #1)"
                                },
                                {
                                    "0": "Ethan Frome and Other Short Fiction"
                                },
                                {
                                    "0": "On the Genealogy of Morals/Ecce Homo"
                                },
                                {
                                    "0": "Onward: How Starbucks Fought for Its Life without Losing Its Soul"
                                },
                                {
                                    "0": "Born in Death (In Death, #23)"
                                },
                                {
                                    "0": "Of Course I Love You...! Till I Find Someone Better..."
                                },
                                {
                                    "0": "درخت زیبای من"
                                },
                                {
                                    "0": "Rebel Spring (Falling Kingdoms, #2)"
                                },
                                {
                                    "0": "NYPD Red 2 (NYPD Red, #2)"
                                },
                                {
                                    "0": "Shakespeare's Romeo and Juliet"
                                },
                                {
                                    "0": "All the Names"
                                },
                                {
                                    "0": "Return (Redemption, #3)"
                                },
                                {
                                    "0": "Fables, Vol. 5: The Mean Seasons"
                                },
                                {
                                    "0": "The Illuminatus! Trilogy"
                                },
                                {
                                    "0": "The Final Solution"
                                },
                                {
                                    "0": "Chew, Vol. 2: International Flavor"
                                },
                                {
                                    "0": "Baking: From My Home to Yours"
                                },
                                {
                                    "0": "Love★Com, Vol. 1"
                                },
                                {
                                    "0": "What to Expect the First Year (What to Expect)"
                                },
                                {
                                    "0": "Finding Nemo"
                                },
                                {
                                    "0": "Calling Doctor Amelia Bedelia"
                                },
                                {
                                    "0": "How Google Works"
                                },
                                {
                                    "0": "Now We Are Six (Winnie-the-Pooh, #4)"
                                },
                                {
                                    "0": "Os Maias"
                                },
                                {
                                    "0": "Fahrenheit 451: The Authorized Adaptation"
                                },
                                {
                                    "0": "All You Need Is Kill"
                                },
                                {
                                    "0": "Mistress"
                                },
                                {
                                    "0": "Discourse on Method"
                                },
                                {
                                    "0": "A Sick Day for Amos McGee"
                                },
                                {
                                    "0": "Tobacco Road (Brown Thrasher Books)"
                                },
                                {
                                    "0": "Stay with Me (Wait for You, #3)"
                                },
                                {
                                    "0": "When the Game Was Ours"
                                },
                                {
                                    "0": "The General in His Labyrinth"
                                },
                                {
                                    "0": "The Pale King"
                                },
                                {
                                    "0": "The Analects"
                                },
                                {
                                    "0": "I'm with the Band: Confessions of a Groupie"
                                },
                                {
                                    "0": "The Walking Dead, Vol. 09: Here We Remain"
                                },
                                {
                                    "0": "The Leopard"
                                },
                                {
                                    "0": "Wolverine: Origin"
                                },
                                {
                                    "0": "On the Prowl (Alpha & Omega, #0.5)"
                                },
                                {
                                    "0": "The Dirty Girls Social Club (Dirty Girls, #1)"
                                },
                                {
                                    "0": "Black Butler, Vol. 2 (Black Butler, #2)"
                                },
                                {
                                    "0": "Addicted to You (Addicted, #1)"
                                },
                                {
                                    "0": "The Fire (Witch & Wizard, #3)"
                                },
                                {
                                    "0": "Sadako and the Thousand Paper Cranes"
                                },
                                {
                                    "0": "Death Note, Vol. 4: Love (Death Note, #4)"
                                },
                                {
                                    "0": "Slowness"
                                },
                                {
                                    "0": "The Walking Dead, Vol. 11: Fear the Hunters"
                                },
                                {
                                    "0": "Twilight Watch (Watch #3)"
                                },
                                {
                                    "0": "Low Pressure"
                                },
                                {
                                    "0": "Riptide"
                                },
                                {
                                    "0": "King Arthur and His Knights: Selected Tales"
                                },
                                {
                                    "0": "رباعيات صلاح جاهين"
                                },
                                {
                                    "0": "The Wings of the Dove"
                                },
                                {
                                    "0": "The Hidden Messages in Water"
                                },
                                {
                                    "0": "Seeing"
                                },
                                {
                                    "0": "Gifted Hands: The Ben Carson Story"
                                },
                                {
                                    "0": "The Little Old Lady Who Was Not Afraid of Anything"
                                },
                                {
                                    "0": "Sheep in a Jeep"
                                },
                                {
                                    "0": "The Kreutzer Sonata"
                                },
                                {
                                    "0": "The Magic Mirror of M.C. Escher"
                                },
                                {
                                    "0": "Vampire Knight, Vol. 9"
                                },
                                {
                                    "0": "The Walking Dead, Compendium 2"
                                },
                                {
                                    "0": "The 22 Immutable Laws of Marketing: Violate Them at Your Own Risk"
                                },
                                {
                                    "0": "The One Thing: The Surprisingly Simple Truth Behind Extraordinary Results"
                                },
                                {
                                    "0": "Double Act"
                                },
                                {
                                    "0": "The Sandman: King of Dreams"
                                },
                                {
                                    "0": "Stephen King's N."
                                },
                                {
                                    "0": "The Light of the Fireflies"
                                },
                                {
                                    "0": "The Long War (The Long Earth, #2)"
                                },
                                {
                                    "0": "The America's Test Kitchen Family Cookbook"
                                },
                                {
                                    "0": "The Boy Who Harnessed the Wind: Creating Currents of Electricity and Hope"
                                },
                                {
                                    "0": "Mr. Kiss and Tell (Veronica Mars, #2)"
                                },
                                {
                                    "0": "A Higher Call: An Incredible True Story of Combat and Chivalry in the War-Torn Skies of World War II"
                                },
                                {
                                    "0": "The Sandman: The Dream Hunters"
                                },
                                {
                                    "0": "Phantoms in the Brain: Probing the Mysteries of the Human Mind"
                                },
                                {
                                    "0": "Live from New York: An Uncensored History of Saturday Night Live"
                                },
                                {
                                    "0": "Great by Choice: Uncertainty, Chaos, and Luck--Why Some Thrive Despite Them All"
                                },
                                {
                                    "0": "Vampire Academy: The Graphic Novel (Vampire Academy: The Graphic Novel, #1)"
                                },
                                {
                                    "0": "Time for Bed"
                                },
                                {
                                    "0": "Very Good Lives: The Fringe Benefits of Failure and the Importance of Imagination"
                                },
                                {
                                    "0": "I, Michael Bennett (Michael Bennett, #5)"
                                },
                                {
                                    "0": "Vegan Cupcakes Take Over the World: 75 Dairy-Free Recipes for Cupcakes that Rule"
                                },
                                {
                                    "0": "Ender's Game, Volume 2: Command School"
                                },
                                {
                                    "0": "ESV Study Bible"
                                },
                                {
                                    "0": "Auschwitz: A Doctor's Eyewitness Account"
                                },
                                {
                                    "0": "The Saggy Baggy Elephant (A Little Golden Book)"
                                },
                                {
                                    "0": "Sentimental Education"
                                },
                                {
                                    "0": "Happy, Happy, Happy"
                                },
                                {
                                    "0": "Priestess of Avalon (Avalon, #4)"
                                },
                                {
                                    "0": "Fruits Basket, Vol. 7"
                                },
                                {
                                    "0": "What Every Body is Saying: An Ex-FBI Agent's Guide to Speed-Reading People"
                                },
                                {
                                    "0": "Sweeney Todd: The Demon Barber of Fleet Street"
                                },
                                {
                                    "0": "Silence"
                                },
                                {
                                    "0": "The Five Love Languages of Children"
                                },
                                {
                                    "0": "Washington Square"
                                },
                                {
                                    "0": "On Becoming a Person: A Therapist's View of Psychotherapy"
                                },
                                {
                                    "0": "Kare Kano: His and Her Circumstances, Vol. 1"
                                },
                                {
                                    "0": "NYPD Red 3 (NYPD Red, #3)"
                                },
                                {
                                    "0": "Paper Girls, Vol. 1 (Paper Girls, #1)"
                                },
                                {
                                    "0": "The Wretched of the Earth"
                                },
                                {
                                    "0": "Secrets of the Vine: Breaking Through to Abundance"
                                },
                                {
                                    "0": "Anne Frank's Tales from the Secret Annex"
                                },
                                {
                                    "0": "Girls' Night In"
                                },
                                {
                                    "0": "The Gift of Therapy: An Open Letter to a New Generation of Therapists and Their Patients"
                                },
                                {
                                    "0": "House Harkonnen (Prelude to Dune #2)"
                                },
                                {
                                    "0": "FRUiTS"
                                },
                                {
                                    "0": "1Q84 #1-2 (1Q84, #1-2)"
                                },
                                {
                                    "0": "Absent In The Spring"
                                },
                                {
                                    "0": "The Smartest Guys in the Room: The Amazing Rise and Scandalous Fall of Enron"
                                },
                                {
                                    "0": "Mount Dragon"
                                },
                                {
                                    "0": "The Face of Fear"
                                },
                                {
                                    "0": "Gone (Michael Bennett, #6)"
                                },
                                {
                                    "0": "Fables, Vol. 8: Wolves"
                                },
                                {
                                    "0": "The Walking Dead, Vol. 14: No Way Out"
                                },
                                {
                                    "0": "The Walking Dead, Book Two (The Walking Dead #13-24)"
                                },
                                {
                                    "0": "Cosmicomics"
                                },
                                {
                                    "0": "Nothing"
                                },
                                {
                                    "0": "Sleeping Beauty Box Set"
                                },
                                {
                                    "0": "100 Bullets, Vol. 1: First Shot, Last Call"
                                },
                                {
                                    "0": "The Tail of Emily Windsnap (Emily Windsnap, #1)"
                                },
                                {
                                    "0": "The Absolute Sandman, Volume One"
                                },
                                {
                                    "0": "The Walking Dead, Book Three (The Walking Dead #25-36)"
                                },
                                {
                                    "0": "The Woman in the Dunes"
                                },
                                {
                                    "0": "Aunt Julia and the Scriptwriter"
                                },
                                {
                                    "0": "Transmetropolitan, Vol. 3: Year of the Bastard (Transmetropolitan, #3)"
                                },
                                {
                                    "0": "A Severe Mercy: A Story of Faith, Tragedy and Triumph"
                                },
                                {
                                    "0": "The Forest House (Avalon, #2)"
                                },
                                {
                                    "0": "This Star Won't Go Out: The Life and Words of Esther Grace Earl"
                                },
                                {
                                    "0": "Story of O (Story of O #1)"
                                },
                                {
                                    "0": "Pygmalion & My Fair Lady"
                                },
                                {
                                    "0": "Wanted"
                                },
                                {
                                    "0": "Death Note, Vol. 8: Target (Death Note, #8)"
                                },
                                {
                                    "0": "X-Men: The Dark Phoenix Saga"
                                },
                                {
                                    "0": "Manufacturing Consent: The Political Economy of the Mass Media"
                                },
                                {
                                    "0": "Pippi in the South Seas"
                                },
                                {
                                    "0": "The Complete Poems"
                                },
                                {
                                    "0": "The Problem Child (The Sisters Grimm, #3)"
                                },
                                {
                                    "0": "Desert Flower"
                                },
                                {
                                    "0": "In Search of Excellence: Lessons from America's Best-Run Companies"
                                },
                                {
                                    "0": "First Love"
                                },
                                {
                                    "0": "The Batman Chronicles, Vol. 1"
                                },
                                {
                                    "0": "The Last Question"
                                },
                                {
                                    "0": "Henderson the Rain King"
                                },
                                {
                                    "0": "Red Riding Hood"
                                },
                                {
                                    "0": "The Giraffe and the Pelly and Me"
                                },
                                {
                                    "0": "I Wrote This For You"
                                },
                                {
                                    "0": "Barefoot in Paris"
                                },
                                {
                                    "0": "The Little Mermaid"
                                },
                                {
                                    "0": "The Tale of Three Trees"
                                },
                                {
                                    "0": "The Sacred Romance Drawing Closer To The Heart Of God"
                                },
                                {
                                    "0": "Selected Poems"
                                },
                                {
                                    "0": "The Woodlanders"
                                },
                                {
                                    "0": "The Book of Disquiet"
                                },
                                {
                                    "0": "Batman: Earth One, Volume 1"
                                },
                                {
                                    "0": "Some Assembly Required: A Journal of My Son's First Son"
                                },
                                {
                                    "0": "Blue Labyrinth (Pendergast, #14)"
                                },
                                {
                                    "0": "Once Upon a Crime (The Sisters Grimm, #4)"
                                },
                                {
                                    "0": "Fables, Vol. 9: Sons of Empire"
                                },
                                {
                                    "0": "The Fannie Farmer Cookbook: Anniversary"
                                },
                                {
                                    "0": "Tintin in the Land of the Soviets (Tintin #1)"
                                },
                                {
                                    "0": "Graffiti World: Street Art from Five Continents"
                                },
                                {
                                    "0": "Bloodlust (The Vampire Diaries: Stefan's Diaries, #2)"
                                },
                                {
                                    "0": "Exit to Eden"
                                },
                                {
                                    "0": "Percy Jackson & the Olympians:  The Ultimate Guide"
                                },
                                {
                                    "0": "The Complete Guide to Middle-Earth"
                                },
                                {
                                    "0": "The Awakening and Selected Stories"
                                },
                                {
                                    "0": "One Step Behind  (Kurt Wallander, #7)"
                                },
                                {
                                    "0": "Batman and Son"
                                },
                                {
                                    "0": "Magic and Other Misdemeanors (The Sisters Grimm, #5)"
                                },
                                {
                                    "0": "Run Baby Run"
                                },
                                {
                                    "0": "The Talent Code: Unlocking the Secret of Skill in Sports, Art, Music, Math, and Just About Everything Else"
                                },
                                {
                                    "0": "Dragons of Summer Flame (Dragonlance: The Second Generation, #2)"
                                },
                                {
                                    "0": "Death Note, Vol. 5: Whiteout (Death Note, #5)"
                                },
                                {
                                    "0": "Mrs. Mike (Mrs. Mike, #1)"
                                },
                                {
                                    "0": "The Secret Race: Inside the Hidden World of the Tour de France: Doping, Cover-ups, and Winning at All Costs"
                                },
                                {
                                    "0": "Ripper"
                                },
                                {
                                    "0": "Hello, Cupcake"
                                },
                                {
                                    "0": "The New Bedside, Bathtub and Armchair Companion to Agatha Christie"
                                },
                                {
                                    "0": "A Night to Remember"
                                },
                                {
                                    "0": "That Old Cape Magic"
                                },
                                {
                                    "0": "The Second Assistant: A Tale from the Bottom of the Hollywood Ladder"
                                },
                                {
                                    "0": "Martin Chuzzlewit"
                                },
                                {
                                    "0": "Embroideries"
                                },
                                {
                                    "0": "Harry, a History: The True Story of a Boy Wizard, His Fans, and Life Inside the Harry Potter Phenomenon"
                                },
                                {
                                    "0": "A Wrinkle in Time: The Graphic Novel"
                                },
                                {
                                    "0": "The White Lioness (Kurt Wallander, #3)"
                                },
                                {
                                    "0": "Elven Star (The Death Gate Cycle, #2)"
                                },
                                {
                                    "0": "Philosophical Investigations"
                                },
                                {
                                    "0": "Our Dumb Century: The Onion Presents 100 Years of Headlines from America's Finest News Source"
                                },
                                {
                                    "0": "The Survivor (Mitch Rapp, #14)"
                                },
                                {
                                    "0": "Yotsuba&!, Vol. 01 (Yotsuba&! #1)"
                                },
                                {
                                    "0": "Black Elk Speaks: Being the Life Story of a Holy Man of the Oglala Sioux"
                                },
                                {
                                    "0": "Batman: Hush, Vol. 1"
                                },
                                {
                                    "0": "Courageous"
                                },
                                {
                                    "0": "The Magician's Elephant"
                                },
                                {
                                    "0": "قمر على سمرقند"
                                },
                                {
                                    "0": "Jack: Straight from the Gut"
                                },
                                {
                                    "0": "Life is Elsewhere"
                                },
                                {
                                    "0": "Glorious Appearing: The End of Days (Left Behind, #12)"
                                },
                                {
                                    "0": "Metaphysics"
                                },
                                {
                                    "0": "The Relatives Came"
                                },
                                {
                                    "0": "The Element: How Finding Your Passion Changes Everything"
                                },
                                {
                                    "0": "Agnes and the Hitman"
                                },
                                {
                                    "0": "Logicomix: An epic search for truth"
                                },
                                {
                                    "0": "Buddenbrooks: The Decline of a Family"
                                },
                                {
                                    "0": "The Christmas Wedding"
                                },
                                {
                                    "0": "The Sea, the Sea"
                                },
                                {
                                    "0": "The House of God"
                                },
                                {
                                    "0": "Last Train to Istanbul"
                                },
                                {
                                    "0": "The Gulag Archipelago 1918-1956"
                                },
                                {
                                    "0": "Baltasar and Blimunda"
                                },
                                {
                                    "0": "The Cake Bible"
                                },
                                {
                                    "0": "A New Hope  (Star Wars: Novelizations #4)"
                                },
                                {
                                    "0": "The Invisible Gorilla: And Other Ways Our Intuitions Deceive Us"
                                },
                                {
                                    "0": "Rejoice (Redemption, #4)"
                                },
                                {
                                    "0": "Tintin in Tibet (Tintin, #20)"
                                },
                                {
                                    "0": "Firewall (Wallander, #8)"
                                },
                                {
                                    "0": "Tales From the Hood (The Sisters Grimm, #6)"
                                },
                                {
                                    "0": "Mutiny on the Bounty (The Bounty Trilogy, #1)"
                                },
                                {
                                    "0": "What the Bleep Do We Know!?: Discovering the Endless Possibilities for Altering Your Everyday Reality"
                                },
                                {
                                    "0": "Mary Barton"
                                },
                                {
                                    "0": "Death Note, Vol. 7: Zero (Death Note, #7)"
                                },
                                {
                                    "0": "Eugénie Grandet"
                                },
                                {
                                    "0": "Essentials of Classic Italian Cooking"
                                },
                                {
                                    "0": "Silence of the Grave (Inspector Erlendur #4)"
                                },
                                {
                                    "0": "Killing Reagan: The Violent Assault That Changed a Presidency"
                                },
                                {
                                    "0": "The Girl Who Was on Fire: Your Favorite Authors on Suzanne Collins' Hunger Games Trilogy"
                                },
                                {
                                    "0": "A Bargain for Frances"
                                },
                                {
                                    "0": "Gonzo: The Life of Hunter S. Thompson"
                                },
                                {
                                    "0": "Vampire Knight, Vol. 4 (Vampire Knight, #4)"
                                },
                                {
                                    "0": "Train Dreams"
                                },
                                {
                                    "0": "Art in Theory 1900 - 2000: An Anthology of Changing Ideas"
                                },
                                {
                                    "0": "Press Here"
                                },
                                {
                                    "0": "The Lady of Shalott"
                                },
                                {
                                    "0": "On the Genealogy of Morals"
                                },
                                {
                                    "0": "Hellblazer: Original Sins"
                                },
                                {
                                    "0": "Happy Accidents: A Memoir"
                                },
                                {
                                    "0": "The 13½ Lives of Captain Bluebear (Zamonia, #1)"
                                },
                                {
                                    "0": "Billions & Billions: Thoughts on Life and Death at the Brink of the Millennium"
                                },
                                {
                                    "0": "The Twelve Caesars"
                                },
                                {
                                    "0": "حوجن [Ḥawjan]"
                                },
                                {
                                    "0": "Rival (Fall Away, #2)"
                                },
                                {
                                    "0": "Private London (Private #4)"
                                },
                                {
                                    "0": "I Love You Through and Through"
                                },
                                {
                                    "0": "Justice, Volume 1"
                                },
                                {
                                    "0": "The Wind Singer (Wind on Fire, #1)"
                                },
                                {
                                    "0": "Gentlemen of the Road"
                                },
                                {
                                    "0": "Those Guys Have All the Fun: Inside the World of ESPN"
                                },
                                {
                                    "0": "Through My Eyes"
                                },
                                {
                                    "0": "Locke & Key, Vol. 6: Alpha & Omega"
                                },
                                {
                                    "0": "The Country Mouse and the City Mouse; The Fox and the Crow; The Dog and His Bone"
                                },
                                {
                                    "0": "If You Give a Cat a Cupcake"
                                },
                                {
                                    "0": "The Rainbow Comes and Goes: A Mother and Son On Life, Love, and Loss"
                                },
                                {
                                    "0": "Having Our Say: The Delany Sisters' First 100 Years"
                                },
                                {
                                    "0": "Reunion (Redemption, #5)"
                                },
                                {
                                    "0": "Thérèse Raquin"
                                },
                                {
                                    "0": "The King in Yellow and Other Horror Stories"
                                },
                                {
                                    "0": "The Virtue of Selfishness: A New Concept of Egoism"
                                },
                                {
                                    "0": "Resurrection"
                                },
                                {
                                    "0": "The Job (Fox and O'Hare, #3)"
                                },
                                {
                                    "0": "Night Train to Lisbon"
                                },
                                {
                                    "0": "Waiter Rant: Thanks for the Tip-Confessions of a Cynical Waiter"
                                },
                                {
                                    "0": "Dead or Alive (Jack Ryan Universe, #13)"
                                },
                                {
                                    "0": "Lies Women Believe: And the Truth that Sets Them Free"
                                },
                                {
                                    "0": "Palestine"
                                },
                                {
                                    "0": "Dear Theo"
                                },
                                {
                                    "0": "Star Wars - Episode I: The Phantom Menace"
                                },
                                {
                                    "0": "Avatar: The Last Airbender (The Promise, #2)"
                                },
                                {
                                    "0": "Little Bear's Friend"
                                },
                                {
                                    "0": "رأيت رام الله"
                                },
                                {
                                    "0": "Lady of Avalon (Avalon, #3)"
                                },
                                {
                                    "0": "Threat Vector (Jack Ryan Universe, #15)"
                                },
                                {
                                    "0": "Miles: The Autobiography"
                                },
                                {
                                    "0": "Full Tilt (Full #2)"
                                },
                                {
                                    "0": "The Machine Crusade (Legends of Dune, #2)"
                                },
                                {
                                    "0": "The Annotated Sherlock Holmes: The Four Novels and the Fifty-Six Short Stories Complete (2 Volume Set)"
                                },
                                {
                                    "0": "Cocky Bastard"
                                },
                                {
                                    "0": "The Dangerous Days of Daniel X (Daniel X, #1)"
                                },
                                {
                                    "0": "The Hidden Child (Patrik Hedström, #5)"
                                },
                                {
                                    "0": "Snow Country"
                                },
                                {
                                    "0": "The House of the Dead"
                                },
                                {
                                    "0": "Story of the Eye"
                                },
                                {
                                    "0": "The Selected Poetry of Rainer Maria Rilke"
                                },
                                {
                                    "0": "The Story of a Shipwrecked Sailor"
                                },
                                {
                                    "0": "Planetary, Volume 1: All Over the World and Other Stories"
                                },
                                {
                                    "0": "Assata: An Autobiography"
                                },
                                {
                                    "0": "The Three Billy Goats Gruff"
                                },
                                {
                                    "0": "The Moonlit Garden"
                                },
                                {
                                    "0": "Passing"
                                },
                                {
                                    "0": "InterWorld (InterWorld, #1)"
                                },
                                {
                                    "0": "Last Words"
                                },
                                {
                                    "0": "Mrs. Piggle-Wiggle's Magic (Mrs. Piggle Wiggle, #2)"
                                },
                                {
                                    "0": "Revolting Rhymes"
                                },
                                {
                                    "0": "The Great Brain (Great Brain #1)"
                                },
                                {
                                    "0": "The Lady & Sons Savannah Country Cookbook"
                                },
                                {
                                    "0": "No One Writes to the Colonel and Other Stories"
                                },
                                {
                                    "0": "Transmetropolitan, Vol. 5: Lonely City (Transmetropolitan, #5)"
                                },
                                {
                                    "0": "The Climb: Tragic Ambitions on Everest"
                                },
                                {
                                    "0": "Fruits Basket, Vol. 2"
                                },
                                {
                                    "0": "The Paris Vendetta (Cotton Malone, #5)"
                                },
                                {
                                    "0": "Richard II"
                                },
                                {
                                    "0": "Selected Poems"
                                },
                                {
                                    "0": "Hunting and Gathering"
                                },
                                {
                                    "0": "One Up On Wall Street: How To Use What You Already Know To Make Money In The Market"
                                },
                                {
                                    "0": "Mother Courage and Her Children"
                                },
                                {
                                    "0": "Extra Yarn (E. B. White Read-Aloud Award. Picture Books)"
                                },
                                {
                                    "0": "The Faerie Queene "
                                },
                                {
                                    "0": "Each Peach Pear Plum"
                                },
                                {
                                    "0": "The Phoenix Project: A Novel About IT, DevOps, and Helping Your Business Win"
                                },
                                {
                                    "0": "The Chronicles of Harris Burdick: 14 Amazing Authors Tell the Tales"
                                },
                                {
                                    "0": "The Freedom Writers Diary"
                                },
                                {
                                    "0": "The Ladies of Grace Adieu and Other Stories"
                                },
                                {
                                    "0": "Lady Cottington's Pressed Fairy Book"
                                },
                                {
                                    "0": "Paradiso (The Divine Comedy, #3)"
                                },
                                {
                                    "0": "Take This Regret (Take This Regret, #1)"
                                },
                                {
                                    "0": "Footfall"
                                },
                                {
                                    "0": "Four Great Tragedies: Hamlet / Othello / King Lear / Macbeth"
                                },
                                {
                                    "0": "I've Got You Under My Skin (Under Suspicion, #1)"
                                },
                                {
                                    "0": "Fables, Vol. 10: The Good Prince"
                                },
                                {
                                    "0": "Red Phoenix (Red Phoenix #1)"
                                },
                                {
                                    "0": "Shadow Fires"
                                },
                                {
                                    "0": "The Blood Gospel (The Order of the Sanguines, #1)"
                                },
                                {
                                    "0": "The Troubled Man (Kurt Wallander, #10)"
                                },
                                {
                                    "0": "The Work of Art in the Age of Its Technological Reproducibility, and Other Writings on Media"
                                },
                                {
                                    "0": "Going Rogue: An American Life"
                                },
                                {
                                    "0": "The Cake Mix Doctor"
                                },
                                {
                                    "0": "My Life with the Walter Boys (My Life with the Walter Boys #1)"
                                },
                                {
                                    "0": "Positioning: The Battle for Your Mind: How to Be Seen and Heard in the Overcrowded Marketplace"
                                },
                                {
                                    "0": "Lost"
                                },
                                {
                                    "0": "A Grimm Warning (The Land of Stories, #3)"
                                },
                                {
                                    "0": "The Pragmatic Programmer: From Journeyman to Master"
                                },
                                {
                                    "0": "Drop City"
                                },
                                {
                                    "0": "Y: The Last Man - The Deluxe Edition Book One"
                                },
                                {
                                    "0": "Alert (Michael Bennett, #8)"
                                },
                                {
                                    "0": "Vampire Chronicles: Interview with the Vampire, The Vampire Lestat, The Queen of the Damned (Anne Rice)"
                                },
                                {
                                    "0": "The Berenstain Bears Forget Their Manners"
                                },
                                {
                                    "0": "The Infernal Devices: Clockwork Angel (The Infernal Devices: Manga, #1)"
                                },
                                {
                                    "0": "The Lord of the Rings Sketchbook"
                                },
                                {
                                    "0": "Don't Blink"
                                },
                                {
                                    "0": "Shadows over Innsmouth"
                                },
                                {
                                    "0": "Flat Stanley (Flat Stanley, #1)"
                                },
                                {
                                    "0": "The Knight at Dawn (Magic Tree House, #2)"
                                },
                                {
                                    "0": "Death Note, Vol. 6: Give-and-Take (Death Note, #6)"
                                },
                                {
                                    "0": "The Lightning Thief: The Graphic Novel (Percy Jackson and the Olympians, #1)"
                                },
                                {
                                    "0": "Mrs. Kennedy and Me: An Intimate Memoir"
                                },
                                {
                                    "0": "The Bad Seed"
                                },
                                {
                                    "0": "Gideon's Sword (Gideon Crew, #1)"
                                },
                                {
                                    "0": "George Washington's Secret Six: The Spy Ring That Saved the American Revolution"
                                },
                                {
                                    "0": "Pinocchio"
                                },
                                {
                                    "0": "The Complete Short Novels"
                                },
                                {
                                    "0": "The Berenstain Bears Go to School"
                                },
                                {
                                    "0": "Superman for All Seasons"
                                },
                                {
                                    "0": "La casa de Bernarda Alba"
                                },
                                {
                                    "0": "Streams in the Desert"
                                },
                                {
                                    "0": "The Shadowhunter's Codex"
                                },
                                {
                                    "0": "How to Make Love Like a Porn Star: A Cautionary Tale"
                                },
                                {
                                    "0": "Lyra's Oxford (His Dark Materials, #3.5)"
                                },
                                {
                                    "0": "Private Berlin (Private #5)"
                                },
                                {
                                    "0": "Amazing Grace"
                                },
                                {
                                    "0": "The Redemption of Althalus"
                                },
                                {
                                    "0": "Skin Deep (Legion, #2)"
                                },
                                {
                                    "0": "Hector and the Search for Happiness"
                                },
                                {
                                    "0": "Underground: The Tokyo Gas Attack and the Japanese Psyche"
                                },
                                {
                                    "0": "The Voice of the Night"
                                },
                                {
                                    "0": "The Double"
                                },
                                {
                                    "0": "Batman: No Man's Land, Vol. 1"
                                },
                                {
                                    "0": "The End of Poverty"
                                },
                                {
                                    "0": "Fables, Vol. 7: Arabian Nights [and Days] (Fables, #7)"
                                },
                                {
                                    "0": "Bone: Tall Tales"
                                },
                                {
                                    "0": "The Fourteenth Goldfish"
                                },
                                {
                                    "0": "Tawny Scrawny Lion"
                                },
                                {
                                    "0": "Superman: Birthright"
                                },
                                {
                                    "0": "Curious George Visits the Library"
                                },
                                {
                                    "0": "A Little History of the World"
                                },
                                {
                                    "0": "Fruits Basket, Vol. 4"
                                },
                                {
                                    "0": "Palace Walk (The Cairo Trilogy #1)"
                                },
                                {
                                    "0": "Wicked - Piano/Vocal Arrangement"
                                },
                                {
                                    "0": "Too Busy Not to Pray: Slowing Down to Be With God"
                                },
                                {
                                    "0": "See You at the Top"
                                },
                                {
                                    "0": "Agamemnon (Oresteia, #1)"
                                },
                                {
                                    "0": "Harry Potter and Philosophy: If Aristotle Ran Hogwarts"
                                },
                                {
                                    "0": "Redeemed (House of Night, #12)"
                                },
                                {
                                    "0": "Batman: The Dark Knight Strikes Again (The Dark Knight Saga, #2)"
                                },
                                {
                                    "0": "The Drama of the Gifted Child: The Search for the True Self"
                                },
                                {
                                    "0": "Mythologies"
                                },
                                {
                                    "0": "Poetics"
                                },
                                {
                                    "0": "Groundwork of the Metaphysics of Morals"
                                },
                                {
                                    "0": "Crimson Shore (Pendergast, #15)"
                                },
                                {
                                    "0": "Burn (Michael Bennett, #7)"
                                },
                                {
                                    "0": "Naïve. Super"
                                },
                                {
                                    "0": "キスよりも早く1 [Kisu Yorimo Hayaku 1] (Faster than a Kiss #1)"
                                },
                                {
                                    "0": "Lenobia's Vow (House of Night Novellas, #2)"
                                },
                                {
                                    "0": "Diary ng Panget"
                                },
                                {
                                    "0": "Si-cology 1: Tales and Wisdom from Duck Dynasty’s Favorite Uncle"
                                },
                                {
                                    "0": "My Brother Sam Is Dead"
                                },
                                {
                                    "0": "Belinda"
                                },
                                {
                                    "0": "Babe: The Gallant Pig"
                                },
                                {
                                    "0": "Influencer: The Power to Change Anything"
                                },
                                {
                                    "0": "The Dragonslayer (Bone, #4)"
                                },
                                {
                                    "0": "Meet Samantha: An American Girl (American Girls: Samantha, #1)"
                                },
                                {
                                    "0": "Batwoman: Elegy"
                                },
                                {
                                    "0": "Avatar Volume 1: The Last Airbender (Avatar #1)"
                                },
                                {
                                    "0": "Rogues"
                                },
                                {
                                    "0": "The Boy Who Came Back from Heaven: A Remarkable Account of Miracles, Angels, and Life beyond This World"
                                },
                                {
                                    "0": "The Sound of Things Falling"
                                },
                                {
                                    "0": "Johnny Mnemonic"
                                },
                                {
                                    "0": "Amusing Ourselves to Death: Public Discourse in the Age of Show Business"
                                },
                                {
                                    "0": "Wonderful Tonight"
                                },
                                {
                                    "0": "Tunnels (Tunnels, #1)"
                                },
                                {
                                    "0": "The Incredible Hulk: Planet Hulk"
                                },
                                {
                                    "0": "Rama Revealed (Rama, #4)"
                                },
                                {
                                    "0": "The Old Curiosity Shop"
                                },
                                {
                                    "0": "Fruits Basket, Vol. 14"
                                },
                                {
                                    "0": "Hawkeye, Volume 2: Little Hits"
                                },
                                {
                                    "0": "Hands Of Light"
                                },
                                {
                                    "0": "A Series of Unfortunate Events Box: The Complete Wreck (Books 1-13)"
                                },
                                {
                                    "0": "Ultimate Spider-Man, Volume 1: Power and Responsibility"
                                },
                                {
                                    "0": "One, Two, Buckle My Shoe (Hercule Poirot, #22)"
                                },
                                {
                                    "0": "Gemina (The Illuminae Files, #2)"
                                },
                                {
                                    "0": "Lorna Doone"
                                },
                                {
                                    "0": "The Clocks (Hercule Poirot, #34)"
                                },
                                {
                                    "0": "Manga Classics: Les Misérables"
                                },
                                {
                                    "0": "The Beggar King (The Hangman's Daughter, #3)"
                                },
                                {
                                    "0": "The Nightmare (Joona Linna, #2)"
                                },
                                {
                                    "0": "The Secret Art of Dr. Seuss"
                                },
                                {
                                    "0": "Among the Mad (Maisie Dobbs, #6)"
                                },
                                {
                                    "0": "In the Miso Soup"
                                },
                                {
                                    "0": "Beyond Band of Brothers: The War Memoirs of Major Dick Winters"
                                },
                                {
                                    "0": "The Marvelous Land of Oz (Oz, #2)"
                                },
                                {
                                    "0": "Fruits Basket, Vol. 15"
                                },
                                {
                                    "0": "The Wave"
                                },
                                {
                                    "0": "The Cinderella Murder (Under Suspicion, #2)"
                                },
                                {
                                    "0": "Gargantua and Pantagruel"
                                },
                                {
                                    "0": "Attack on Titan: No Regrets, Volume 01"
                                },
                                {
                                    "0": "The Carrot Seed"
                                },
                                {
                                    "0": "Riding the Bullet"
                                },
                                {
                                    "0": "The Nose"
                                },
                                {
                                    "0": "The Society of the Spectacle"
                                },
                                {
                                    "0": "The Medium is the Massage"
                                },
                                {
                                    "0": "Berserk, Vol. 1 (Berserk, #1)"
                                },
                                {
                                    "0": "The Seven Storey Mountain"
                                },
                                {
                                    "0": "Gathering Darkness (Falling Kingdoms, #3)"
                                },
                                {
                                    "0": "The Force Awakens (Star Wars)"
                                },
                                {
                                    "0": "Superman: Whatever Happened to the Man of Tomorrow?"
                                },
                                {
                                    "0": "Essays and Poems"
                                },
                                {
                                    "0": "Innocent Erendira and Other Stories"
                                },
                                {
                                    "0": "The Charterhouse of Parma"
                                },
                                {
                                    "0": "Snowflake Bentley"
                                },
                                {
                                    "0": "Cradle to Cradle: Remaking the Way We Make Things"
                                },
                                {
                                    "0": "Transmetropolitan, Vol. 4: The New Scum (Transmetropolitan, #4)"
                                },
                                {
                                    "0": "The Man Who Listens to Horses"
                                },
                                {
                                    "0": "Holy Blood, Holy Grail"
                                },
                                {
                                    "0": "Falling Man"
                                },
                                {
                                    "0": "The Calling (Endgame, #1)"
                                },
                                {
                                    "0": "The Man from Beijing"
                                },
                                {
                                    "0": "Against All Enemies (Max Moore, #1)"
                                },
                                {
                                    "0": "My Lady Jane (The Lady Janies, #1)"
                                },
                                {
                                    "0": "Ethics"
                                },
                                {
                                    "0": "The Elvenbane (Halfblood Chronicles, #1)"
                                },
                                {
                                    "0": "The Midnight Palace (Niebla, #2)"
                                },
                                {
                                    "0": "DC: The New Frontier, Volume 1"
                                },
                                {
                                    "0": "Hello, Mrs. Piggle-Wiggle (Mrs. Piggle Wiggle, #4)"
                                },
                                {
                                    "0": "Judy Moody (Judy Moody, # 1)"
                                },
                                {
                                    "0": "The Gay Science"
                                },
                                {
                                    "0": "Trump: The Art of the Deal"
                                },
                                {
                                    "0": "Fruits Basket, Vol. 3"
                                },
                                {
                                    "0": "House Corrino (Prelude to Dune #3)"
                                },
                                {
                                    "0": "Tempting the Player (Gamble Brothers, #2)"
                                },
                                {
                                    "0": "The Upanishads: Translations from the Sanskrit"
                                },
                                {
                                    "0": "Happier at Home: Kiss More, Jump More, Abandon a Project, Read Samuel Johnson, and My Other Experiments in the Practice of Everyday Life"
                                },
                                {
                                    "0": "The Invention of Morel"
                                },
                                {
                                    "0": "The Walking Dead, Vol. 13: Too Far Gone"
                                },
                                {
                                    "0": "Little House on Rocky Ridge (Little House: The Rocky Ridge Years, #1)"
                                },
                                {
                                    "0": "In a People House"
                                },
                                {
                                    "0": "Hunters of Dune (Dune Chronicles #7)"
                                },
                                {
                                    "0": "The Story of Ruby Bridges"
                                },
                                {
                                    "0": "Stand Tall, Molly Lou Melon"
                                },
                                {
                                    "0": "Rich Dad's Guide to Investing: What the Rich Invest in That the Poor and Middle Class Do Not!"
                                },
                                {
                                    "0": "The Power of Full Engagement: Managing Energy, Not Time, Is the Key to High Performance and Personal Renewal"
                                },
                                {
                                    "0": "The Decline and Fall of the Roman Empire"
                                },
                                {
                                    "0": "Ox-Cart Man (Picture Puffin)"
                                },
                                {
                                    "0": "The Voyages of Doctor Dolittle (Doctor Dolittle, #2)"
                                },
                                {
                                    "0": "Sweet Tooth, Volume 1: Out of the Deep Woods"
                                },
                                {
                                    "0": "Iron Man: Extremis"
                                },
                                {
                                    "0": "Necronomicon: The Best Weird Tales"
                                },
                                {
                                    "0": "Batman, Volume 3: Death of the Family"
                                },
                                {
                                    "0": "Selected Poems"
                                },
                                {
                                    "0": "Hope: A Memoir of Survival in Cleveland"
                                },
                                {
                                    "0": "The Knockoff"
                                },
                                {
                                    "0": "A Kiss for Little Bear (An I Can Read Book) by Minarik, Else Holmelund [1984]"
                                },
                                {
                                    "0": "Command Authority (Jack Ryan Universe, #16)"
                                },
                                {
                                    "0": "Cinderella"
                                },
                                {
                                    "0": "The Berenstain Bears and Too Much TV"
                                },
                                {
                                    "0": "Corrupt (Devil's Night, #1)"
                                },
                                {
                                    "0": "The Bite Before Christmas (Argeneau, #15.5; Night Huntress, #6.5)"
                                },
                                {
                                    "0": "The Art of Amy Brown"
                                },
                                {
                                    "0": "Owl Babies"
                                },
                                {
                                    "0": "Animal-Speak: The Spiritual & Magical Powers of Creatures Great & Small"
                                },
                                {
                                    "0": "The Chronicles of Narnia - The Lion, the Witch, and the Wardrobe Official Illustrated Movie Companion"
                                },
                                {
                                    "0": "The Wolves of Willoughby Chase (The Wolves Chronicles, #1)"
                                },
                                {
                                    "0": "Vampire Knight, Vol. 3 (Vampire Knight, #3)"
                                },
                                {
                                    "0": "Mummies in the Morning (Magic Tree House, #3)"
                                },
                                {
                                    "0": "Desolation Angels"
                                },
                                {
                                    "0": "Austerlitz"
                                },
                                {
                                    "0": "Money, and the Law of Attraction: Learning to Attract Wealth, Health, and Happiness"
                                },
                                {
                                    "0": "Locked On (Jack Ryan Universe, #14)"
                                },
                                {
                                    "0": "The Illustrated Mum"
                                },
                                {
                                    "0": "Горе от ума"
                                },
                                {
                                    "0": "My Lobotomy"
                                },
                                {
                                    "0": "Henry's Freedom Box: A True Story from the Underground Railroad"
                                },
                                {
                                    "0": "Dream Dark (Caster Chronicles, #2.5)"
                                },
                                {
                                    "0": "Dangerous Girls"
                                },
                                {
                                    "0": "Sherlock Holmes and the Case of the Hound of the Baskervilles (Illustrated Classic Editions)"
                                },
                                {
                                    "0": "Vampire Knight, Vol. 2 (Vampire Knight, #2)"
                                },
                                {
                                    "0": "Horrorstör"
                                },
                                {
                                    "0": "Astonishing X-Men, Volume 2: Dangerous"
                                },
                                {
                                    "0": "Cunt: A Declaration of Independence"
                                },
                                {
                                    "0": "الحرافيش"
                                },
                                {
                                    "0": "Gut: The Inside Story of Our Body’s Most Underrated Organ"
                                },
                                {
                                    "0": "The Seven Principles for Making Marriage Work: A Practical Guide from the Country's Foremost Relationship Expert"
                                },
                                {
                                    "0": "The Sailor Who Fell from Grace with the Sea"
                                },
                                {
                                    "0": "Breaking Point (Tom Clancy's Net Force, #4)"
                                },
                                {
                                    "0": "The Everafter War (The Sisters Grimm, #7)"
                                }
                            ]
                        },
                        "text/html": [
                            "<table>",
                            "<tr><th>title</th></tr>",
                            "<tr><td>Harry Potter and the Sorcerer's Stone (Harry Potter, #1)</td></tr>",
                            "<tr><td>1984</td></tr>",
                            "<tr><td>The Diary of a Young Girl</td></tr>",
                            "<tr><td>The Girl with the Dragon Tattoo (Millennium, #1)</td></tr>",
                            "<tr><td>Harry Potter and the Prisoner of Azkaban (Harry Potter, #3)</td></tr>",
                            "<tr><td>Harry Potter and the Order of the Phoenix (Harry Potter, #5)</td></tr>",
                            "<tr><td>Harry Potter and the Chamber of Secrets (Harry Potter, #2)</td></tr>",
                            "<tr><td>Harry Potter and the Goblet of Fire (Harry Potter, #4)</td></tr>",
                            "<tr><td>Harry Potter and the Deathly Hallows (Harry Potter, #7)</td></tr>",
                            "<tr><td>Harry Potter and the Half-Blood Prince (Harry Potter, #6)</td></tr>",
                            "<tr><td>Romeo and Juliet</td></tr>",
                            "<tr><td>The Alchemist</td></tr>",
                            "<tr><td>Jane Eyre</td></tr>",
                            "<tr><td>The Adventures of Huckleberry Finn</td></tr>",
                            "<tr><td>Charlotte's Web</td></tr>",
                            "<tr><td>Wuthering Heights</td></tr>",
                            "<tr><td>Frankenstein</td></tr>",
                            "<tr><td>Sense and Sensibility</td></tr>",
                            "<tr><td>Holes (Holes, #1)</td></tr>",
                            "<tr><td>The Odyssey</td></tr>",
                            "<tr><td>The Little Prince</td></tr>",
                            "<tr><td>A Tale of Two Cities</td></tr>",
                            "<tr><td>Night (The Night Trilogy #1)</td></tr>",
                            "<tr><td>Freakonomics: A Rogue Economist Explores the Hidden Side of Everything (Freakonomics, #1)</td></tr>",
                            "<tr><td>One Hundred Years of Solitude</td></tr>",
                            "<tr><td>The Picture of Dorian Gray</td></tr>",
                            "<tr><td>Dracula</td></tr>",
                            "<tr><td>The Girl Who Played with Fire (Millennium, #2)</td></tr>",
                            "<tr><td>The Count of Monte Cristo</td></tr>",
                            "<tr><td>Les Misérables</td></tr>",
                            "<tr><td>Tuesdays with Morrie</td></tr>",
                            "<tr><td>The Adventures of Tom Sawyer</td></tr>",
                            "<tr><td>Lolita</td></tr>",
                            "<tr><td>Wicked: The Life and Times of the Wicked Witch of the West (The Wicked Years, #1)</td></tr>",
                            "<tr><td>Hamlet</td></tr>",
                            "<tr><td>The Scarlet Letter</td></tr>",
                            "<tr><td>The Girl Who Kicked the Hornet's Nest (Millennium, #3)</td></tr>",
                            "<tr><td>Green Eggs and Ham</td></tr>",
                            "<tr><td>Charlie and the Chocolate Factory (Charlie Bucket, #1)</td></tr>",
                            "<tr><td>The Stranger</td></tr>",
                            "<tr><td>The Stand</td></tr>",
                            "<tr><td>Emma</td></tr>",
                            "<tr><td>Anna Karenina</td></tr>",
                            "<tr><td>Crime and Punishment</td></tr>",
                            "<tr><td>Siddhartha</td></tr>",
                            "<tr><td>Beautiful Creatures (Caster Chronicles, #1)</td></tr>",
                            "<tr><td>Matilda</td></tr>",
                            "<tr><td>Watchmen</td></tr>",
                            "<tr><td>Moby-Dick or, The Whale</td></tr>",
                            "<tr><td>The Guernsey Literary and Potato Peel Pie Society</td></tr>",
                            "<tr><td>The Metamorphosis</td></tr>",
                            "<tr><td>The Devil in the White City: Murder, Magic, and Madness at the Fair That Changed America</td></tr>",
                            "<tr><td>The Chronicles of Narnia (Chronicles of Narnia, #1-7)</td></tr>",
                            "<tr><td>The Nanny Diaries (Nanny, #1)</td></tr>",
                            "<tr><td>Alice's Adventures in Wonderland &amp; Through the Looking-Glass</td></tr>",
                            "<tr><td>Persuasion</td></tr>",
                            "<tr><td>Love in the Time of Cholera</td></tr>",
                            "<tr><td>Marked (House of Night, #1)</td></tr>",
                            "<tr><td>A Midsummer Night's Dream</td></tr>",
                            "<tr><td>The Cuckoo's Calling (Cormoran Strike, #1)</td></tr>",
                            "<tr><td>Atlas Shrugged</td></tr>",
                            "<tr><td>Three Cups of Tea: One Man's Mission to Promote Peace ... One School at a Time</td></tr>",
                            "<tr><td>Alice in Wonderland</td></tr>",
                            "<tr><td>The Shadow of the Wind (The Cemetery of Forgotten Books,  #1)</td></tr>",
                            "<tr><td>Rebecca</td></tr>",
                            "<tr><td>Like Water for Chocolate</td></tr>",
                            "<tr><td>The Godfather</td></tr>",
                            "<tr><td>Harry Potter and the Cursed Child - Parts One and Two (Harry Potter, #8)</td></tr>",
                            "<tr><td>Good Omens: The Nice and Accurate Prophecies of Agnes Nutter, Witch</td></tr>",
                            "<tr><td>The Fountainhead</td></tr>",
                            "<tr><td>The Voyage of the Dawn Treader (Chronicles of Narnia, #3)</td></tr>",
                            "<tr><td>The Time Machine</td></tr>",
                            "<tr><td>Heaven is for Real: A Little Boy's Astounding Story of His Trip to Heaven and Back</td></tr>",
                            "<tr><td>The Graveyard Book</td></tr>",
                            "<tr><td>Inkheart (Inkworld, #1)</td></tr>",
                            "<tr><td>Who Moved My Cheese?</td></tr>",
                            "<tr><td>The Unbearable Lightness of Being</td></tr>",
                            "<tr><td>The Last Lecture</td></tr>",
                            "<tr><td>James and the Giant Peach</td></tr>",
                            "<tr><td>Goodnight Moon</td></tr>",
                            "<tr><td>The Iliad</td></tr>",
                            "<tr><td>The Wonderful Wizard of Oz (Oz, #1)</td></tr>",
                            "<tr><td>Fear and Loathing in Las Vegas</td></tr>",
                            "<tr><td>The Bad Beginning (A Series of Unfortunate Events, #1)</td></tr>",
                            "<tr><td>All Quiet on the Western Front</td></tr>",
                            "<tr><td>Do Androids Dream of Electric Sheep?</td></tr>",
                            "<tr><td>Oliver Twist</td></tr>",
                            "<tr><td>V for Vendetta</td></tr>",
                            "<tr><td>The BFG</td></tr>",
                            "<tr><td>Norwegian Wood</td></tr>",
                            "<tr><td>Will Grayson, Will Grayson</td></tr>",
                            "<tr><td>The Crucible</td></tr>",
                            "<tr><td>The Strange Case of Dr. Jekyll and Mr. Hyde</td></tr>",
                            "<tr><td>Perfume: The Story of a Murderer</td></tr>",
                            "<tr><td>The Art of War</td></tr>",
                            "<tr><td>The Witches</td></tr>",
                            "<tr><td>The Name of the Rose</td></tr>",
                            "<tr><td>Go Ask Alice</td></tr>",
                            "<tr><td>A Confederacy of Dunces</td></tr>",
                            "<tr><td>Kafka on the Shore</td></tr>",
                            "<tr><td>A Brief History of Time</td></tr>",
                            "<tr><td>Winnie-the-Pooh (Winnie-the-Pooh, #1)</td></tr>",
                            "<tr><td>Betrayed (House of Night, #2)</td></tr>",
                            "<tr><td>Northanger Abbey</td></tr>",
                            "<tr><td>If You Give a Mouse a Cookie</td></tr>",
                            "<tr><td>A Man Called Ove</td></tr>",
                            "<tr><td>The Hobbit: Graphic Novel</td></tr>",
                            "<tr><td>Fantastic Beasts and Where to Find Them</td></tr>",
                            "<tr><td>I Am Malala: The Story of the Girl Who Stood Up for Education and Was Shot by the Taliban</td></tr>",
                            "<tr><td>Mansfield Park</td></tr>",
                            "<tr><td>Robinson Crusoe</td></tr>",
                            "<tr><td>The Prince</td></tr>",
                            "<tr><td>The Brothers Karamazov</td></tr>",
                            "<tr><td>Untamed (House of Night, #4)</td></tr>",
                            "<tr><td>War and Peace</td></tr>",
                            "<tr><td>The Walking Dead, Vol. 01: Days Gone Bye</td></tr>",
                            "<tr><td>Left Behind (Left Behind, #1)</td></tr>",
                            "<tr><td>The Hiding Place: The Triumphant True Story of Corrie Ten Boom</td></tr>",
                            "<tr><td>Peter Pan</td></tr>",
                            "<tr><td>The Wind-Up Bird Chronicle</td></tr>",
                            "<tr><td>Gulliver's Travels</td></tr>",
                            "<tr><td>Much Ado About Nothing</td></tr>",
                            "<tr><td>Beowulf</td></tr>",
                            "<tr><td>Batman: Year One</td></tr>",
                            "<tr><td>A Little Princess</td></tr>",
                            "<tr><td>Little House on the Prairie (Little House, #2)</td></tr>",
                            "<tr><td>The Velveteen Rabbit</td></tr>",
                            "<tr><td>The War of the Worlds</td></tr>",
                            "<tr><td>Hamlet: Screenplay, Introduction And Film Diary</td></tr>",
                            "<tr><td>Tess of the D'Urbervilles</td></tr>",
                            "<tr><td>Madame Bovary</td></tr>",
                            "<tr><td>The Phantom Tollbooth</td></tr>",
                            "<tr><td>Batman: The Dark Knight Returns (The Dark Knight Saga, #1)</td></tr>",
                            "<tr><td>Christine</td></tr>",
                            "<tr><td>Death Note, Vol. 1: Boredom (Death Note, #1)</td></tr>",
                            "<tr><td>David Copperfield</td></tr>",
                            "<tr><td>The Absolutely True Diary of a Part-Time Indian</td></tr>",
                            "<tr><td>The Master and Margarita</td></tr>",
                            "<tr><td>Because of Winn-Dixie</td></tr>",
                            "<tr><td>Don Quixote</td></tr>",
                            "<tr><td>The Silver Chair (Chronicles of Narnia, #4)</td></tr>",
                            "<tr><td>Jonathan Livingston Seagull</td></tr>",
                            "<tr><td>Love You Forever</td></tr>",
                            "<tr><td>The Silmarillion (Middle-Earth Universe)</td></tr>",
                            "<tr><td>The Trial</td></tr>",
                            "<tr><td>The Hound of the Baskervilles</td></tr>",
                            "<tr><td>The True Story of the 3 Little Pigs</td></tr>",
                            "<tr><td>Veronika Decides to Die</td></tr>",
                            "<tr><td>Lean In: Women, Work, and the Will to Lead</td></tr>",
                            "<tr><td>Sophie's World</td></tr>",
                            "<tr><td>Heidi</td></tr>",
                            "<tr><td>Chosen (House of Night, #3)</td></tr>",
                            "<tr><td>The Canterbury Tales</td></tr>",
                            "<tr><td>1Q84</td></tr>",
                            "<tr><td>The Phantom of the Opera</td></tr>",
                            "<tr><td>Blindness</td></tr>",
                            "<tr><td>Alexander and the Terrible, Horrible, No Good, Very Bad Day</td></tr>",
                            "<tr><td>The House of the Spirits</td></tr>",
                            "<tr><td>The Mysterious Affair at Styles (Hercule Poirot, #1)</td></tr>",
                            "<tr><td>Little House in the Big Woods (Little House, #1)</td></tr>",
                            "<tr><td>The Silkworm (Cormoran Strike, #2)</td></tr>",
                            "<tr><td>Twenty Thousand Leagues Under the Sea</td></tr>",
                            "<tr><td>Mrs. Dalloway</td></tr>",
                            "<tr><td>The Hundred-Year-Old Man Who Climbed Out of the Window and Disappeared</td></tr>",
                            "<tr><td>Thinner</td></tr>",
                            "<tr><td>Around the World in Eighty Days</td></tr>",
                            "<tr><td>Eleven Minutes</td></tr>",
                            "<tr><td>The Waste Lands (The Dark Tower, #3)</td></tr>",
                            "<tr><td>The Reader</td></tr>",
                            "<tr><td>Brown Bear, Brown Bear, What Do You See?</td></tr>",
                            "<tr><td>Batman: The Killing Joke</td></tr>",
                            "<tr><td>The Little House Collection (Little House, #1-9)</td></tr>",
                            "<tr><td>The Autobiography of Malcolm X</td></tr>",
                            "<tr><td>Preludes &amp; Nocturnes (The Sandman #1)</td></tr>",
                            "<tr><td>Julius Caesar</td></tr>",
                            "<tr><td>The Republic</td></tr>",
                            "<tr><td>The Hunchback of Notre-Dame</td></tr>",
                            "<tr><td>Calvin and Hobbes</td></tr>",
                            "<tr><td>Hunted (House of Night, #5)</td></tr>",
                            "<tr><td>Trainspotting</td></tr>",
                            "<tr><td>The Complete Grimm's Fairy Tales</td></tr>",
                            "<tr><td>Crazy Love: Overwhelmed by a Relentless God</td></tr>",
                            "<tr><td>Fruits Basket, Vol. 1</td></tr>",
                            "<tr><td>Burned (House of Night, #7)</td></tr>",
                            "<tr><td>Wizard and Glass (The Dark Tower, #4)</td></tr>",
                            "<tr><td>Brave New World / Brave New World Revisited</td></tr>",
                            "<tr><td>Tempted (House of Night, #6)</td></tr>",
                            "<tr><td>Dreamcatcher</td></tr>",
                            "<tr><td>Oedipus Rex  (The Theban Plays, #1)</td></tr>",
                            "<tr><td>The Wind in the Willows</td></tr>",
                            "<tr><td>Persepolis: The Story of a Childhood (Persepolis, #1)</td></tr>",
                            "<tr><td>Naruto, Vol. 01: The Tests of the Ninja (Naruto, #1)</td></tr>",
                            "<tr><td>The Merchant of Venice</td></tr>",
                            "<tr><td>Chicka Chicka Boom Boom</td></tr>",
                            "<tr><td>Animal Farm / 1984</td></tr>",
                            "<tr><td>When Breath Becomes Air</td></tr>",
                            "<tr><td>Guess How Much I Love You</td></tr>",
                            "<tr><td>Night Shift</td></tr>",
                            "<tr><td>Pippi Longstocking</td></tr>",
                            "<tr><td>The Elegance of the Hedgehog</td></tr>",
                            "<tr><td>Team of Rivals: The Political Genius of Abraham Lincoln</td></tr>",
                            "<tr><td>The Plague</td></tr>",
                            "<tr><td>The Reptile Room (A Series of Unfortunate Events, #2)</td></tr>",
                            "<tr><td>The Neverending Story</td></tr>",
                            "<tr><td>The Jungle</td></tr>",
                            "<tr><td>Fullmetal Alchemist, Vol. 1 (Fullmetal Alchemist, #1)</td></tr>",
                            "<tr><td>The Age of Innocence</td></tr>",
                            "<tr><td>Cloudy With a Chance of Meatballs</td></tr>",
                            "<tr><td>The Joy of Cooking</td></tr>",
                            "<tr><td>Insomnia</td></tr>",
                            "<tr><td>The Life-Changing Magic of Tidying Up: The Japanese Art of Decluttering and Organizing</td></tr>",
                            "<tr><td>All the Bright Places</td></tr>",
                            "<tr><td>Daughter of Fortune</td></tr>",
                            "<tr><td>Not That Kind of Girl: A Young Woman Tells You What She's &quot;Learned&quot;</td></tr>",
                            "<tr><td>Wolves of the Calla (The Dark Tower, #5)</td></tr>",
                            "<tr><td>A Portrait of the Artist as a Young Man</td></tr>",
                            "<tr><td>The Gathering Storm (Wheel of Time, #12)</td></tr>",
                            "<tr><td>Middlemarch</td></tr>",
                            "<tr><td>The Rainbow Fish</td></tr>",
                            "<tr><td>Helter Skelter: The True Story of the Manson Murders</td></tr>",
                            "<tr><td>Dr. Seuss's Green Eggs and Ham: For Soprano, Boy Soprano, and Orchestra</td></tr>",
                            "<tr><td>Inferno (The Divine Comedy #1)</td></tr>",
                            "<tr><td>Paradise Lost</td></tr>",
                            "<tr><td>A Monster Calls</td></tr>",
                            "<tr><td>Towers of Midnight (Wheel of Time, #13)</td></tr>",
                            "<tr><td>Rework</td></tr>",
                            "<tr><td>The Twilight Saga (Twilight, #1-4)</td></tr>",
                            "<tr><td>The Monster at the End of this Book</td></tr>",
                            "<tr><td>The Dinner</td></tr>",
                            "<tr><td>American Sniper: The Autobiography of the Most Lethal Sniper in U.S. Military History</td></tr>",
                            "<tr><td>Steppenwolf</td></tr>",
                            "<tr><td>The Tale of Despereaux</td></tr>",
                            "<tr><td>Animal, Vegetable, Miracle: A Year of Food Life</td></tr>",
                            "<tr><td>Saga, Vol. 1 (Saga, #1)</td></tr>",
                            "<tr><td>The Wide Window (A Series of Unfortunate Events, #3)</td></tr>",
                            "<tr><td>Pride and Prejudice and Zombies (Pride and Prejudice and Zombies, #1)</td></tr>",
                            "<tr><td>The Idiot</td></tr>",
                            "<tr><td>Modern Romance</td></tr>",
                            "<tr><td>The One and Only Ivan</td></tr>",
                            "<tr><td>Song of Susannah (The Dark Tower, #6)</td></tr>",
                            "<tr><td>The Woman in White</td></tr>",
                            "<tr><td>Career of Evil (Cormoran Strike, #3)</td></tr>",
                            "<tr><td>SuperFreakonomics: Global Cooling, Patriotic Prostitutes And Why Suicide Bombers Should Buy Life Insurance</td></tr>",
                            "<tr><td>Vanity Fair</td></tr>",
                            "<tr><td>Dolores Claiborne</td></tr>",
                            "<tr><td>Fables, Vol. 1: Legends in Exile</td></tr>",
                            "<tr><td>Colorless Tsukuru Tazaki and His Years of Pilgrimage</td></tr>",
                            "<tr><td>Far from the Madding Crowd</td></tr>",
                            "<tr><td>Awakened (House of Night, #8)</td></tr>",
                            "<tr><td>America (The Book): A Citizen's Guide to Democracy Inaction</td></tr>",
                            "<tr><td>90 Minutes in Heaven: A True Story of Death and Life</td></tr>",
                            "<tr><td>Tao Te Ching</td></tr>",
                            "<tr><td>The Complete Fairy Tales</td></tr>",
                            "<tr><td>Thus Spoke Zarathustra</td></tr>",
                            "<tr><td>North and South</td></tr>",
                            "<tr><td>Aesop's Fables</td></tr>",
                            "<tr><td>Vampire Knight, Vol. 1 (Vampire Knight, #1)</td></tr>",
                            "<tr><td>Dragonflight (Dragonriders of Pern, #1)</td></tr>",
                            "<tr><td>The History of the Hobbit, Part One: Mr. Baggins</td></tr>",
                            "<tr><td>Dubliners</td></tr>",
                            "<tr><td>Beautiful Darkness (Caster Chronicles, #2)</td></tr>",
                            "<tr><td>I Am America (And So Can You!)</td></tr>",
                            "<tr><td>The One Minute Manager</td></tr>",
                            "<tr><td>The Miserable Mill (A Series of Unfortunate Events, #4)</td></tr>",
                            "<tr><td>Wait for You (Wait for You, #1)</td></tr>",
                            "<tr><td>The Divine Comedy</td></tr>",
                            "<tr><td>The Tao of Pooh</td></tr>",
                            "<tr><td>The Girl in the Spider's Web (Millennium, #4)</td></tr>",
                            "<tr><td>The Prince and the Pauper</td></tr>",
                            "<tr><td>The Forty Rules of Love</td></tr>",
                            "<tr><td>Attack on Titan, Vol. 1 (Attack on Titan, #1)</td></tr>",
                            "<tr><td>My Brilliant Friend (The Neapolitan Novels #1)</td></tr>",
                            "<tr><td>Frindle</td></tr>",
                            "<tr><td>Y: The Last Man, Vol. 1: Unmanned</td></tr>",
                            "<tr><td>The Accidental Tourist</td></tr>",
                            "<tr><td>Hard-Boiled Wonderland and the End of the World</td></tr>",
                            "<tr><td>By the River Piedra I Sat Down and Wept</td></tr>",
                            "<tr><td>The Swiss Family Robinson  </td></tr>",
                            "<tr><td>The Little Engine That Could</td></tr>",
                            "<tr><td>Stuart Little</td></tr>",
                            "<tr><td>The Austere Academy (A Series of Unfortunate Events, #5)</td></tr>",
                            "<tr><td>Hard Eight (Stephanie Plum, #8)</td></tr>",
                            "<tr><td>The Vile Village (A Series of Unfortunate Events, #7)</td></tr>",
                            "<tr><td>Chronicle of a Death Foretold</td></tr>",
                            "<tr><td>A Scandal in Bohemia (The Adventures of Sherlock Holmes, #1)</td></tr>",
                            "<tr><td>Killing Lincoln: The Shocking Assassination that Changed America Forever</td></tr>",
                            "<tr><td>The Talisman (The Talisman, #1)</td></tr>",
                            "<tr><td>Mary Poppins (Mary Poppins, #1)</td></tr>",
                            "<tr><td>The Twits</td></tr>",
                            "<tr><td>The Beach House</td></tr>",
                            "<tr><td>Sputnik Sweetheart</td></tr>",
                            "<tr><td>The Night Before Christmas</td></tr>",
                            "<tr><td>The Aeneid</td></tr>",
                            "<tr><td>After Dark</td></tr>",
                            "<tr><td>Quidditch Through the Ages</td></tr>",
                            "<tr><td>Miss Nelson Is Missing! (Miss Nelson, #1)</td></tr>",
                            "<tr><td>The Long Walk</td></tr>",
                            "<tr><td>The Ersatz Elevator (A Series of Unfortunate Events, #6)</td></tr>",
                            "<tr><td>'Salem's Lot</td></tr>",
                            "<tr><td>The Mysterious Benedict Society (The Mysterious Benedict Society, #1)</td></tr>",
                            "<tr><td>The Boxcar Children (The Boxcar Children, #1)</td></tr>",
                            "<tr><td>The Complete Sherlock Holmes, Vol 2</td></tr>",
                            "<tr><td>One Piece, Volume 01: Romance Dawn (One Piece, #1)</td></tr>",
                            "<tr><td>Howl and Other Poems</td></tr>",
                            "<tr><td>Go the Fuck to Sleep</td></tr>",
                            "<tr><td>The Book of Mormon: Another Testament of Jesus Christ</td></tr>",
                            "<tr><td>Black Butler, Vol. 1 (Black Butler, #1)</td></tr>",
                            "<tr><td>The Strange Case of Dr. Jekyll and Mr. Hyde and Other Tales of Terror</td></tr>",
                            "<tr><td>Notes from Underground, White Nights, The Dream of a Ridiculous Man, and Selections from The House of the Dead</td></tr>",
                            "<tr><td>A Memory of Light (Wheel of Time, #14)</td></tr>",
                            "<tr><td>2nd Chance (Women's Murder Club, #2)</td></tr>",
                            "<tr><td>Anne Rice's The Vampire Lestat: A Graphic Novel</td></tr>",
                            "<tr><td>Sideways Stories from Wayside School (Wayside School #1)</td></tr>",
                            "<tr><td>The Art of Happiness</td></tr>",
                            "<tr><td>Origins (The Vampire Diaries: Stefan's Diaries, #1)</td></tr>",
                            "<tr><td>Inkspell (Inkworld, #2)</td></tr>",
                            "<tr><td>Dragons of Autumn Twilight  (Dragonlance: Chronicles, #1)</td></tr>",
                            "<tr><td>The Stinky Cheese Man and Other Fairly Stupid Tales</td></tr>",
                            "<tr><td>Lone Survivor: The Eyewitness Account of Operation Redwing and the Lost Heroes of SEAL Team 10</td></tr>",
                            "<tr><td>The Stand: Captain Trips</td></tr>",
                            "<tr><td>Out from Boneville (Bone, #1)</td></tr>",
                            "<tr><td>Beautiful Chaos (Caster Chronicles, #3)</td></tr>",
                            "<tr><td>The Communist Manifesto</td></tr>",
                            "<tr><td>My Life in France</td></tr>",
                            "<tr><td>Emotional Intelligence 2.0</td></tr>",
                            "<tr><td>Relic (Pendergast, #1)</td></tr>",
                            "<tr><td>Everything, Everything</td></tr>",
                            "<tr><td>The Complete Persepolis</td></tr>",
                            "<tr><td>The Agony and the Ecstasy</td></tr>",
                            "<tr><td>The Angel's Game (The Cemetery of Forgotten Books, #2)</td></tr>",
                            "<tr><td>Amelia Bedelia  (Amelia Bedelia #1)</td></tr>",
                            "<tr><td>الأسود يليق بك</td></tr>",
                            "<tr><td>The Slippery Slope (A Series of Unfortunate Events, #10)</td></tr>",
                            "<tr><td>Bleak House</td></tr>",
                            "<tr><td>Through the Looking-Glass, and What Alice Found There</td></tr>",
                            "<tr><td>On the Banks of Plum Creek  (Little House, #4)</td></tr>",
                            "<tr><td>The Strain (The Strain Trilogy, #1)</td></tr>",
                            "<tr><td>The Complete Poems of Emily Dickinson</td></tr>",
                            "<tr><td>The Borrowers (The Borrowers, #1)</td></tr>",
                            "<tr><td>A Wild Sheep Chase (The Rat, #3)</td></tr>",
                            "<tr><td>The Zahir</td></tr>",
                            "<tr><td>The House of Mirth</td></tr>",
                            "<tr><td>Fairy Tail, Vol. 1 (Fairy Tail, #1)</td></tr>",
                            "<tr><td>The Slow Regard of Silent Things (The Kingkiller Chronicle #2.5)</td></tr>",
                            "<tr><td>One Day in the Life of Ivan Denisovich</td></tr>",
                            "<tr><td>Antigone (The Theban Plays, #3)</td></tr>",
                            "<tr><td>The House at Pooh Corner (Winnie-the-Pooh, #2)</td></tr>",
                            "<tr><td>The Carnivorous Carnival (A Series of Unfortunate Events, #9)</td></tr>",
                            "<tr><td>Doctor Zhivago</td></tr>",
                            "<tr><td>A Map of the World</td></tr>",
                            "<tr><td>The Gift of the Magi</td></tr>",
                            "<tr><td>Naked Lunch</td></tr>",
                            "<tr><td>Dream Country (The Sandman #3)</td></tr>",
                            "<tr><td>The Left Hand of Darkness</td></tr>",
                            "<tr><td>Let It Snow: Three Holiday Romances</td></tr>",
                            "<tr><td>A Doll's House</td></tr>",
                            "<tr><td>Nick &amp; Norah's Infinite Playlist</td></tr>",
                            "<tr><td>Rosencrantz and Guildenstern Are Dead</td></tr>",
                            "<tr><td>Saving CeeCee Honeycutt</td></tr>",
                            "<tr><td>The Story of Ferdinand</td></tr>",
                            "<tr><td>The Next Always (Inn BoonsBoro, #1)</td></tr>",
                            "<tr><td>What I Talk About When I Talk About Running</td></tr>",
                            "<tr><td>Open</td></tr>",
                            "<tr><td>Without Fail (Jack Reacher, #6)</td></tr>",
                            "<tr><td>A Voice in the Wind (Mark of the Lion, #1)</td></tr>",
                            "<tr><td>Batman: The Long Halloween</td></tr>",
                            "<tr><td>Nausea</td></tr>",
                            "<tr><td>The Sign of Four</td></tr>",
                            "<tr><td>Click, Clack, Moo: Cows That Type</td></tr>",
                            "<tr><td>Temple of the Winds (Sword of Truth, #4)</td></tr>",
                            "<tr><td>The Poky Little Puppy (A Little Golden Book)</td></tr>",
                            "<tr><td>The Sisters Brothers</td></tr>",
                            "<tr><td>Fantastic Mr. Fox</td></tr>",
                            "<tr><td>Brida</td></tr>",
                            "<tr><td>Shakespeare's Sonnets</td></tr>",
                            "<tr><td>Same Kind of Different as Me</td></tr>",
                            "<tr><td>Lady Chatterley's Lover</td></tr>",
                            "<tr><td>Belgarath the Sorcerer</td></tr>",
                            "<tr><td>My Name Is Lucy Barton</td></tr>",
                            "<tr><td>He's Just Not That Into You: The No-Excuses Truth to Understanding Guys</td></tr>",
                            "<tr><td>The Jungle Books</td></tr>",
                            "<tr><td>Captivating: Unveiling the Mystery of a Woman's Soul</td></tr>",
                            "<tr><td>The Dark Tower: The Gunslinger Born</td></tr>",
                            "<tr><td>Rule (Marked Men, #1)</td></tr>",
                            "<tr><td>South of the Border, West of the Sun</td></tr>",
                            "<tr><td>The Fall of the House of Usher and Other Tales </td></tr>",
                            "<tr><td>Essential Tales and Poems</td></tr>",
                            "<tr><td>Alice's Adventures in Wonderland</td></tr>",
                            "<tr><td>The Redbreast (Harry Hole, #3)</td></tr>",
                            "<tr><td>The Love Dare</td></tr>",
                            "<tr><td>M.C. Escher: The Graphic Work</td></tr>",
                            "<tr><td>4th of July (Women's Murder Club, #4)</td></tr>",
                            "<tr><td>The Tenant of Wildfell Hall</td></tr>",
                            "<tr><td>The Black Stallion (The Black Stallion, #1)</td></tr>",
                            "<tr><td>The Grim Grotto (A Series of Unfortunate Events, #11)</td></tr>",
                            "<tr><td>Art and Fear: Observations on the Perils (and Rewards) of Artmaking</td></tr>",
                            "<tr><td>The Portrait of a Lady</td></tr>",
                            "<tr><td>The Raven</td></tr>",
                            "<tr><td>The Running Man</td></tr>",
                            "<tr><td>Ubik</td></tr>",
                            "<tr><td>Anne Frank Remembered: The Story of the Woman Who Helped to Hide the Frank Family</td></tr>",
                            "<tr><td>A Bear Called Paddington (Paddington, #1)</td></tr>",
                            "<tr><td>The Hostile Hospital (A Series of Unfortunate Events, #8)</td></tr>",
                            "<tr><td>The Devil and Miss Prym (On the Seventh Day, #3)</td></tr>",
                            "<tr><td>The Kissing Hand</td></tr>",
                            "<tr><td>Sundays at Tiffany's</td></tr>",
                            "<tr><td>Scar Tissue</td></tr>",
                            "<tr><td>Alias Grace</td></tr>",
                            "<tr><td>Memories of My Melancholy Whores</td></tr>",
                            "<tr><td>3rd Degree (Women's Murder Club, #3)</td></tr>",
                            "<tr><td>Ruby Red (Precious Stone Trilogy, #1)</td></tr>",
                            "<tr><td>The Hangman's Daughter (The Hangman's Daughter, #1)</td></tr>",
                            "<tr><td>Dealing with Dragons (Enchanted Forest Chronicles, #1)</td></tr>",
                            "<tr><td>The Elements of Style</td></tr>",
                            "<tr><td>The Mote in God's Eye</td></tr>",
                            "<tr><td>The Snowman (Harry Hole, #7)</td></tr>",
                            "<tr><td>Stoner</td></tr>",
                            "<tr><td>Wicked: The Grimmerie</td></tr>",
                            "<tr><td>Preacher, Volume 1: Gone to Texas</td></tr>",
                            "<tr><td>Cyrano de Bergerac</td></tr>",
                            "<tr><td>The Doll's House (The Sandman #2)</td></tr>",
                            "<tr><td>The Sandman: Overture</td></tr>",
                            "<tr><td>The Arabian Nights</td></tr>",
                            "<tr><td>The Mouse and the Motorcycle (Ralph S. Mouse, #1)</td></tr>",
                            "<tr><td>Dash &amp; Lily's Book of Dares (Dash &amp; Lily, #1)</td></tr>",
                            "<tr><td>If You Give a Moose a Muffin</td></tr>",
                            "<tr><td>Made to Stick: Why Some Ideas Survive and Others Die</td></tr>",
                            "<tr><td>Charlie and the Great Glass Elevator (Charlie Bucket, #2)</td></tr>",
                            "<tr><td>If You Give a Pig a Pancake </td></tr>",
                            "<tr><td>Hellboy, Vol. 1: Seed of Destruction (Hellboy, #1)</td></tr>",
                            "<tr><td>The Man in the Iron Mask (The D'Artagnan Romances, #3.3)</td></tr>",
                            "<tr><td>The Haunting of Hill House</td></tr>",
                            "<tr><td>Little Town on the Prairie  (Little House, #7)</td></tr>",
                            "<tr><td>Destined (House of Night, #9)</td></tr>",
                            "<tr><td>Meditations</td></tr>",
                            "<tr><td>Peter and the Starcatchers (Peter and the Starcatchers, #1)</td></tr>",
                            "<tr><td>The Penultimate Peril (A Series of Unfortunate Events, #12)</td></tr>",
                            "<tr><td>The End (A Series of Unfortunate Events, #13)</td></tr>",
                            "<tr><td>The Runaway Bunny</td></tr>",
                            "<tr><td>The Grand Design</td></tr>",
                            "<tr><td>The Bachman Books</td></tr>",
                            "<tr><td>The Art of Hearing Heartbeats</td></tr>",
                            "<tr><td>Pinocchio</td></tr>",
                            "<tr><td>The Death of Ivan Ilych</td></tr>",
                            "<tr><td>The Fall</td></tr>",
                            "<tr><td>The Moonstone</td></tr>",
                            "<tr><td>If on a Winter's Night a Traveler</td></tr>",
                            "<tr><td>Son of a Witch (The Wicked Years, #2)</td></tr>",
                            "<tr><td>Squirrel Seeks Chipmunk: A Modest Bestiary</td></tr>",
                            "<tr><td>The Oedipus Cycle: Oedipus Rex/Oedipus at Colonus/Antigone (The Theban Plays, #1–3)</td></tr>",
                            "<tr><td>My Grandmother Asked Me to Tell You She's Sorry</td></tr>",
                            "<tr><td>The Miraculous Journey of Edward Tulane</td></tr>",
                            "<tr><td>The Epic of Gilgamesh</td></tr>",
                            "<tr><td>The Stand: Soul Survivors</td></tr>",
                            "<tr><td>Smokin' Seventeen (Stephanie Plum, #17)</td></tr>",
                            "<tr><td>Polar Bear, Polar Bear, What Do You Hear?</td></tr>",
                            "<tr><td>Skip Beat!, Vol. 01</td></tr>",
                            "<tr><td>The Harry Potter Collection 1-4 (Harry Potter, #1-4)</td></tr>",
                            "<tr><td>The Importance of Being Earnest and Other Plays</td></tr>",
                            "<tr><td>Suite Française</td></tr>",
                            "<tr><td>The Letters of Vincent van Gogh</td></tr>",
                            "<tr><td>Batman: Arkham Asylum - A Serious House on Serious Earth</td></tr>",
                            "<tr><td>A Darker Shade of Magic (Shades of Magic, #1)</td></tr>",
                            "<tr><td>George's Marvellous Medicine</td></tr>",
                            "<tr><td>Fathers and Sons</td></tr>",
                            "<tr><td>The Goal: A Process of Ongoing Improvement</td></tr>",
                            "<tr><td>The Iliad/The Odyssey</td></tr>",
                            "<tr><td>Kingdom Come</td></tr>",
                            "<tr><td>The Wishing Spell (The Land of Stories, #1)</td></tr>",
                            "<tr><td>Saga #1</td></tr>",
                            "<tr><td>The Yellow Wall-Paper</td></tr>",
                            "<tr><td>The Time Machine/The Invisible Man</td></tr>",
                            "<tr><td>What to Expect When You're Expecting</td></tr>",
                            "<tr><td>Zero to One: Notes on Startups, or How to Build the Future</td></tr>",
                            "<tr><td>A Christmas Carol, The Chimes and The Cricket on the Hearth</td></tr>",
                            "<tr><td>The Cat in the Hat and Other Dr. Seuss Favorites</td></tr>",
                            "<tr><td>Dead Souls</td></tr>",
                            "<tr><td>Tikki Tikki Tembo</td></tr>",
                            "<tr><td>We</td></tr>",
                            "<tr><td>Faeries</td></tr>",
                            "<tr><td>Lies That Chelsea Handler Told Me</td></tr>",
                            "<tr><td>Faceless Killers (Kurt Wallander, #1)</td></tr>",
                            "<tr><td>Cat and Mouse (Alex Cross, #4)</td></tr>",
                            "<tr><td>Built to Last: Successful Habits of Visionary Companies</td></tr>",
                            "<tr><td>The Demon-Haunted World: Science as a Candle in the Dark</td></tr>",
                            "<tr><td>Dragons of Spring Dawning (Dragonlance: Chronicles, #3)</td></tr>",
                            "<tr><td>Saga, Vol. 2 (Saga, #2)</td></tr>",
                            "<tr><td>The Diving Bell and the Butterfly</td></tr>",
                            "<tr><td>Killing Kennedy: The End of Camelot</td></tr>",
                            "<tr><td>Foucault's Pendulum</td></tr>",
                            "<tr><td>The 5th Horseman (Women's Murder Club, #5)</td></tr>",
                            "<tr><td>The Millennium Trilogy (Millennium Trilogy, #1-3)</td></tr>",
                            "<tr><td>The Sorrows of Young Werther</td></tr>",
                            "<tr><td>Flyte (Septimus Heap, #2)</td></tr>",
                            "<tr><td>ساق البامبو</td></tr>",
                            "<tr><td>Longitude: The True Story of a Lone Genius Who Solved the Greatest Scientific Problem of His Time</td></tr>",
                            "<tr><td>Faust: First Part</td></tr>",
                            "<tr><td>Locke &amp; Key, Vol. 1: Welcome to Lovecraft</td></tr>",
                            "<tr><td>The Children of Húrin</td></tr>",
                            "<tr><td>Mr. Popper's Penguins</td></tr>",
                            "<tr><td>The Trumpet of the Swan</td></tr>",
                            "<tr><td>The Millionaire Next Door: The Surprising Secrets of Americas Wealthy</td></tr>",
                            "<tr><td>By the Shores of Silver Lake  (Little House, #5)</td></tr>",
                            "<tr><td>The Cricket in Times Square</td></tr>",
                            "<tr><td>Junky</td></tr>",
                            "<tr><td>Getting to Yes: Negotiating an Agreement Without Giving In</td></tr>",
                            "<tr><td>The Bhagavad Gita</td></tr>",
                            "<tr><td>The New York Trilogy</td></tr>",
                            "<tr><td>Beyond Good and Evil</td></tr>",
                            "<tr><td>No Easy Day: The Firsthand Account of the Mission That Killed Osama Bin Laden</td></tr>",
                            "<tr><td>The Regulators</td></tr>",
                            "<tr><td>Season of Mists (The Sandman #4)</td></tr>",
                            "<tr><td>Judge &amp; Jury</td></tr>",
                            "<tr><td>Beautiful Redemption (Caster Chronicles, #4)</td></tr>",
                            "<tr><td>Metamorphoses</td></tr>",
                            "<tr><td>The Legend of Sleepy Hollow (Graphic Novel)</td></tr>",
                            "<tr><td>Never Never (Never Never, #1)</td></tr>",
                            "<tr><td>The Further Adventures of Sherlock Holmes: After Sir Arthur Conan Doyle (Classic Crime)</td></tr>",
                            "<tr><td>A Passage to India</td></tr>",
                            "<tr><td>The Wind Through the Keyhole (The Dark Tower, #4.5)</td></tr>",
                            "<tr><td>Bunnicula (Bunnicula, #1)</td></tr>",
                            "<tr><td>The Keeper of Lost Causes (Department Q, #1)</td></tr>",
                            "<tr><td>300</td></tr>",
                            "<tr><td>Flaggermusmannen (Harry Hole, #1)</td></tr>",
                            "<tr><td>Rurouni Kenshin, Vol. 1: Meiji Swordsman Romantic Story (Rurouni Kenshin, #1)</td></tr>",
                            "<tr><td>Winning</td></tr>",
                            "<tr><td>The Story of Babar</td></tr>",
                            "<tr><td>Persepolis 2: The Story of a Return (Persepolis, #2)</td></tr>",
                            "<tr><td>Mastering the Art of French Cooking</td></tr>",
                            "<tr><td>Blue Exorcist, Vol. 1  (Blue Exorcist, #1)</td></tr>",
                            "<tr><td>Little Bear</td></tr>",
                            "<tr><td>The Field Guide (The Spiderwick Chronicles, #1)</td></tr>",
                            "<tr><td>The 48 Laws of Power</td></tr>",
                            "<tr><td>The Winter Sea (Slains, #1)</td></tr>",
                            "<tr><td>Requiem for a Dream</td></tr>",
                            "<tr><td>The Pianist: The Extraordinary Story of One Man's Survival in Warsaw, 1939–45</td></tr>",
                            "<tr><td>The Picture of Dorian Gray: A Graphic Novel</td></tr>",
                            "<tr><td>The Legend of Sleepy Hollow and Other Stories</td></tr>",
                            "<tr><td>The Cross and the Switchblade</td></tr>",
                            "<tr><td>Villette</td></tr>",
                            "<tr><td>Black House (The Talisman, #2)</td></tr>",
                            "<tr><td>Marvel 1602</td></tr>",
                            "<tr><td>1Q84 BOOK 1 (1Q84, #1)</td></tr>",
                            "<tr><td>The Pilgrimage</td></tr>",
                            "<tr><td>A Wanted Man (Jack Reacher, #17)</td></tr>",
                            "<tr><td>All-Star Superman, Vol. 1</td></tr>",
                            "<tr><td>The Story of a New Name (The Neapolitan Novels #2)</td></tr>",
                            "<tr><td>Peter Pan (A Little Golden Book)</td></tr>",
                            "<tr><td>Awaken the Giant Within: How to Take Immediate Control of Your Mental, Emotional, Physical and Financial Destiny!</td></tr>",
                            "<tr><td>The Long Winter (Little House, #6)</td></tr>",
                            "<tr><td>Boundaries: When to Say Yes, How to Say No to Take Control of Your Life</td></tr>",
                            "<tr><td>Portnoy's Complaint</td></tr>",
                            "<tr><td>The 21 Irrefutable Laws of Leadership: Follow Them and People Will Follow You</td></tr>",
                            "<tr><td>The 6th Target (Women's Murder Club, #6)</td></tr>",
                            "<tr><td>A Princess of Mars (Barsoom, #1)</td></tr>",
                            "<tr><td>These Happy Golden Years (Little House, #8)</td></tr>",
                            "<tr><td>Harry the Dirty Dog</td></tr>",
                            "<tr><td>Wayside School Is Falling Down (Wayside School #2)</td></tr>",
                            "<tr><td>The Invisible Bridge</td></tr>",
                            "<tr><td>The Mayor of Casterbridge</td></tr>",
                            "<tr><td>Taltos (Lives of the Mayfair Witches, #3)</td></tr>",
                            "<tr><td>Physik (Septimus Heap, #3)</td></tr>",
                            "<tr><td>Boy: Tales of Childhood</td></tr>",
                            "<tr><td>Half the Sky: Turning Oppression into Opportunity for Women Worldwide</td></tr>",
                            "<tr><td>Why We Broke Up</td></tr>",
                            "<tr><td>We Have Always Lived in the Castle</td></tr>",
                            "<tr><td>Black Boy</td></tr>",
                            "<tr><td>Flags of Our Fathers</td></tr>",
                            "<tr><td>The World of Winnie-the-Pooh (Winnie-the-Pooh, #1-2)</td></tr>",
                            "<tr><td>It's Not About the Bike: My Journey Back to Life</td></tr>",
                            "<tr><td>Ender's Game, Volume 1: Battle School (Ender's Saga)</td></tr>",
                            "<tr><td>Kimi ni Todoke: From Me to You, Vol. 1</td></tr>",
                            "<tr><td>The Little Paris Bookshop</td></tr>",
                            "<tr><td>Where Eagles Dare </td></tr>",
                            "<tr><td>The Three-Body Problem (Remembrance of Earth’s Past, #1)</td></tr>",
                            "<tr><td>Superman: Red Son</td></tr>",
                            "<tr><td>The Autobiography of Benjamin Franklin</td></tr>",
                            "<tr><td>Blue Ocean Strategy: How To Create Uncontested Market Space And Make The Competition Irrelevant</td></tr>",
                            "<tr><td>The Napping House</td></tr>",
                            "<tr><td>Invisible Cities</td></tr>",
                            "<tr><td>The Claiming of Sleeping Beauty (Sleeping Beauty, #1)</td></tr>",
                            "<tr><td>The Red and the Black</td></tr>",
                            "<tr><td>Scary Stories to Tell in the Dark (Scary Stories, #1)</td></tr>",
                            "<tr><td>Twenty Love Poems and a Song of Despair</td></tr>",
                            "<tr><td>Utopia</td></tr>",
                            "<tr><td>The Name of This Book Is Secret (Secret, #1)</td></tr>",
                            "<tr><td>Balzac and the Little Chinese Seamstress</td></tr>",
                            "<tr><td>Danny the Champion of the World</td></tr>",
                            "<tr><td>Mrs. Piggle-Wiggle (Mrs. Piggle Wiggle, #1)</td></tr>",
                            "<tr><td>Barefoot Contessa at Home: Everyday Recipes You'll Make Over and Over Again</td></tr>",
                            "<tr><td>Tsubasa: RESERVoir CHRoNiCLE, Vol. 01</td></tr>",
                            "<tr><td>The League of Extraordinary Gentlemen, Vol. 1</td></tr>",
                            "<tr><td>Medea</td></tr>",
                            "<tr><td>Saga, Vol. 3 (Saga, #3)</td></tr>",
                            "<tr><td>7th Heaven (Women's Murder Club, #7)</td></tr>",
                            "<tr><td>Transmetropolitan, Vol. 1: Back on the Street (Transmetropolitan, #1)</td></tr>",
                            "<tr><td>Witch &amp; Wizard (Witch &amp; Wizard, #1)</td></tr>",
                            "<tr><td>Julie of the Wolves (Julie of the Wolves, #1)</td></tr>",
                            "<tr><td>History of Beauty</td></tr>",
                            "<tr><td>A House in the Sky</td></tr>",
                            "<tr><td>The Guns of August</td></tr>",
                            "<tr><td>The Monuments Men: Allied Heroes, Nazi Thieves, and the Greatest Treasure Hunt in History</td></tr>",
                            "<tr><td>Kick-Ass (Kick-Ass, #1)</td></tr>",
                            "<tr><td>Left to Tell: Discovering God Amidst the Rwandan Holocaust</td></tr>",
                            "<tr><td>Chobits, Vol. 1</td></tr>",
                            "<tr><td>Battle Royale</td></tr>",
                            "<tr><td>The Long Earth (The Long Earth, #1)</td></tr>",
                            "<tr><td>The War of Art: Break Through the Blocks &amp; Win Your Inner Creative Battles</td></tr>",
                            "<tr><td>Lucifer's Hammer</td></tr>",
                            "<tr><td>Of Human Bondage</td></tr>",
                            "<tr><td>The Complete Tales and Poems of Winnie-the-Pooh (Winnie-the-Pooh, #1-4)</td></tr>",
                            "<tr><td>Dewey: The Small-Town Library Cat Who Touched the World</td></tr>",
                            "<tr><td>The Complete Adventures of Curious George</td></tr>",
                            "<tr><td>Think Like a Freak</td></tr>",
                            "<tr><td>Drama</td></tr>",
                            "<tr><td>The Power of Myth</td></tr>",
                            "<tr><td>As You Wish: Inconceivable Tales from the Making of The Princess Bride</td></tr>",
                            "<tr><td>Catch Me If You Can: The True Story of a Real Fake</td></tr>",
                            "<tr><td>Batman, Volume 1: The Court of Owls</td></tr>",
                            "<tr><td>The Book of Laughter and Forgetting</td></tr>",
                            "<tr><td>Flatland: A Romance of Many Dimensions</td></tr>",
                            "<tr><td>The Art of Loving</td></tr>",
                            "<tr><td>A Game of You (The Sandman #5)</td></tr>",
                            "<tr><td>Dragons of Winter Night (Dragonlance: Chronicles, #2)</td></tr>",
                            "<tr><td>All the President's Men</td></tr>",
                            "<tr><td>The Mill on the Floss</td></tr>",
                            "<tr><td>Vampire Academy: The Ultimate Guide (Vampire Academy)</td></tr>",
                            "<tr><td>The Poetry of Robert Frost (Collected Poems, Complete &amp; Unabridged)</td></tr>",
                            "<tr><td>The Bookseller of Kabul</td></tr>",
                            "<tr><td>Kurt Vonnegut's Cat's Cradle (Modern Critical Interpretations)</td></tr>",
                            "<tr><td>Ramona the Brave (Ramona, #3)</td></tr>",
                            "<tr><td>Eugene Onegin</td></tr>",
                            "<tr><td>These Broken Stars (Starbound, #1)</td></tr>",
                            "<tr><td>Hidden (House of Night, #10)</td></tr>",
                            "<tr><td>The Secret of the Old Clock (Nancy Drew, #1)</td></tr>",
                            "<tr><td>The Story of Doctor Dolittle (Doctor Dolittle, #1)</td></tr>",
                            "<tr><td>The Japanese Lover</td></tr>",
                            "<tr><td>Sons and Lovers</td></tr>",
                            "<tr><td>Rich Dad's Cashflow Quadrant: Rich Dad's Guide to Financial Freedom</td></tr>",
                            "<tr><td>The Ice Princess (Patrik Hedström, #1)</td></tr>",
                            "<tr><td>If You Take a Mouse to School</td></tr>",
                            "<tr><td>The Metamorphosis and Other Stories</td></tr>",
                            "<tr><td>Sir Gawain and the Green Knight </td></tr>",
                            "<tr><td>The Tell-Tale Heart</td></tr>",
                            "<tr><td>Leonardo's Notebooks</td></tr>",
                            "<tr><td>Queste (Septimus Heap, #4)</td></tr>",
                            "<tr><td>My Name is Red</td></tr>",
                            "<tr><td>Death: The High Cost of Living Collected</td></tr>",
                            "<tr><td>Nudge: Improving Decisions About Health, Wealth, and Happiness</td></tr>",
                            "<tr><td>The Door to December</td></tr>",
                            "<tr><td>Twilight: The Graphic Novel, Vol. 1 (Twilight: The Graphic Novel, #1)</td></tr>",
                            "<tr><td>The Rime of the Ancient Mariner</td></tr>",
                            "<tr><td>The Paper Bag Princess</td></tr>",
                            "<tr><td>Brief Lives (The Sandman #7)</td></tr>",
                            "<tr><td>Narcissus and Goldmund</td></tr>",
                            "<tr><td>Fables and Reflections (The Sandman #6)</td></tr>",
                            "<tr><td>Little Dorrit</td></tr>",
                            "<tr><td>ثلاثية غرناطة</td></tr>",
                            "<tr><td>We're Going on a Bear Hunt</td></tr>",
                            "<tr><td>Honeymoon (Honeymoon, #1)</td></tr>",
                            "<tr><td>The Raven and other poems</td></tr>",
                            "<tr><td>The Quiet American</td></tr>",
                            "<tr><td>Private (Private, #1)</td></tr>",
                            "<tr><td>Three Weeks With My Brother</td></tr>",
                            "<tr><td>Ficciones</td></tr>",
                            "<tr><td>Switch: How to Change Things When Change Is Hard</td></tr>",
                            "<tr><td>A Hero of Our Time</td></tr>",
                            "<tr><td>Skinny Bitch</td></tr>",
                            "<tr><td>Curious George Goes to the Hospital</td></tr>",
                            "<tr><td>Snow</td></tr>",
                            "<tr><td>The Quickie</td></tr>",
                            "<tr><td>Step on a Crack (Michael Bennett, #1)</td></tr>",
                            "<tr><td>Savor the Moment (Bride Quartet, #3)</td></tr>",
                            "<tr><td>The Essential Rumi</td></tr>",
                            "<tr><td>Art Through the Ages </td></tr>",
                            "<tr><td>Saga, Vol. 4 (Saga, #4)</td></tr>",
                            "<tr><td>Chicken Soup for the Soul</td></tr>",
                            "<tr><td>Good Faeries/Bad Faeries</td></tr>",
                            "<tr><td>Cycle of the Werewolf</td></tr>",
                            "<tr><td>Agnes Grey</td></tr>",
                            "<tr><td>Wings of Fire: An Autobiography</td></tr>",
                            "<tr><td>The Ripper (The Vampire Diaries: Stefan's Diaries, #4)</td></tr>",
                            "<tr><td>The Story About Ping</td></tr>",
                            "<tr><td>Farmer Boy (Little House, #3)</td></tr>",
                            "<tr><td>The Stars My Destination</td></tr>",
                            "<tr><td>Confessions</td></tr>",
                            "<tr><td>com نسيان</td></tr>",
                            "<tr><td>Harry Potter Boxed Set, Books 1-5 (Harry Potter, #1-5)</td></tr>",
                            "<tr><td>Inside the Human Body (The Magic School Bus, #3)</td></tr>",
                            "<tr><td>The Iron Trial (Magisterium, #1)</td></tr>",
                            "<tr><td>A Game of Thrones: The Graphic Novel, Vol. 1</td></tr>",
                            "<tr><td>Tribulation Force (Left Behind, #2)</td></tr>",
                            "<tr><td>The Exploits of Sherlock Holmes</td></tr>",
                            "<tr><td>Those Who Leave and Those Who Stay (The Neapolitan Novels #3)</td></tr>",
                            "<tr><td>Hana-Kimi, Vol. 1 (Hana-Kimi, #1)</td></tr>",
                            "<tr><td>Complications: A Surgeon's Notes on an Imperfect Science</td></tr>",
                            "<tr><td>Camera Lucida: Reflections on Photography</td></tr>",
                            "<tr><td>My Story</td></tr>",
                            "<tr><td>The Fairy-Tale Detectives (The Sisters Grimm, #1)</td></tr>",
                            "<tr><td>Mort: The Play</td></tr>",
                            "<tr><td>Skulduggery Pleasant (Skulduggery Pleasant, #1)</td></tr>",
                            "<tr><td>A Christmas Carol and Other Christmas Writings</td></tr>",
                            "<tr><td>Men at Arms: The Play</td></tr>",
                            "<tr><td>The Myth of Sisyphus and Other Essays</td></tr>",
                            "<tr><td>Wives and Daughters</td></tr>",
                            "<tr><td>Survival in Auschwitz</td></tr>",
                            "<tr><td>The Mysterious Island (Extraordinary Voyages, #12)</td></tr>",
                            "<tr><td>Escape</td></tr>",
                            "<tr><td>First, Break All the Rules: What the World's Greatest Managers Do Differently</td></tr>",
                            "<tr><td>Our Town</td></tr>",
                            "<tr><td>Owl Moon</td></tr>",
                            "<tr><td>The Gambler</td></tr>",
                            "<tr><td>Nemesis (Harry Hole, #4)</td></tr>",
                            "<tr><td>The Collected Poems</td></tr>",
                            "<tr><td>The Winter of Our Discontent</td></tr>",
                            "<tr><td>Girl Online (Girl Online, #1)</td></tr>",
                            "<tr><td>The Kindly Ones (The Sandman #9)</td></tr>",
                            "<tr><td>Worlds' End (The Sandman #8)</td></tr>",
                            "<tr><td>The Ugly Duckling</td></tr>",
                            "<tr><td>The End of the Affair</td></tr>",
                            "<tr><td>Bambi</td></tr>",
                            "<tr><td>The Histories</td></tr>",
                            "<tr><td>First Things First</td></tr>",
                            "<tr><td>Wonder Boys</td></tr>",
                            "<tr><td>The Solitude of Prime Numbers</td></tr>",
                            "<tr><td>Fortunately, the Milk</td></tr>",
                            "<tr><td>Ms. Marvel, Vol. 1: No Normal</td></tr>",
                            "<tr><td>The Fall (The Strain Trilogy, #2)</td></tr>",
                            "<tr><td>Bringing Up Bébé: One American Mother Discovers the Wisdom of French Parenting</td></tr>",
                            "<tr><td>Forgotten God: Reversing Our Tragic Neglect of the Holy Spirit</td></tr>",
                            "<tr><td>Letters to a Young Poet</td></tr>",
                            "<tr><td>Les Fleurs du Mal</td></tr>",
                            "<tr><td>The Heist (Fox and O'Hare, #1)</td></tr>",
                            "<tr><td>Les Liaisons dangereuses</td></tr>",
                            "<tr><td>The Vegetarian</td></tr>",
                            "<tr><td>The Castle</td></tr>",
                            "<tr><td>The Natural Way to Draw</td></tr>",
                            "<tr><td>Flora and Ulysses: The Illuminated Adventures</td></tr>",
                            "<tr><td>Swann's Way (In Search of Lost Time, #1)</td></tr>",
                            "<tr><td>The Little Mouse, the Red Ripe Strawberry, and the Big Hungry Bear</td></tr>",
                            "<tr><td>Eva Luna</td></tr>",
                            "<tr><td>The 8th Confession (Women's Murder Club, #8)</td></tr>",
                            "<tr><td>Neil Gaiman's Neverwhere</td></tr>",
                            "<tr><td>The Reason I Jump: The Inner Voice of a Thirteen-Year-Old Boy with Autism</td></tr>",
                            "<tr><td>The Collected Poems of W.B. Yeats</td></tr>",
                            "<tr><td>Rudolph the Red-Nosed Reindeer</td></tr>",
                            "<tr><td>The Elephant Vanishes</td></tr>",
                            "<tr><td>Crucial Conversations: Tools for Talking When Stakes Are High</td></tr>",
                            "<tr><td>The Walking Dead, Book One (The Walking Dead #1-12)</td></tr>",
                            "<tr><td>Leviathan</td></tr>",
                            "<tr><td>The Thousand-Dollar Tan Line (Veronica Mars, #1)</td></tr>",
                            "<tr><td>No One Here Gets Out Alive</td></tr>",
                            "<tr><td>Misty of Chincoteague (Misty, #1)</td></tr>",
                            "<tr><td>Burning Chrome (Sprawl, #0)</td></tr>",
                            "<tr><td>Sleeping Beauty (Disney Princess, 5)</td></tr>",
                            "<tr><td>The Ragamuffin Gospel: Good News for the Bedraggled, Beat-Up, and Burnt Out</td></tr>",
                            "<tr><td>The Girl Who Saved the King of Sweden</td></tr>",
                            "<tr><td>Book of a Thousand Days</td></tr>",
                            "<tr><td>Mythology: Timeless Tales of Gods and Heroes</td></tr>",
                            "<tr><td>Troublemaker: Surviving Hollywood and Scientology</td></tr>",
                            "<tr><td>Oz: The Wonderful Wizard of Oz</td></tr>",
                            "<tr><td>The Nazi Officer's Wife: How One Jewish Woman Survived the Holocaust</td></tr>",
                            "<tr><td>Nicolae (Left Behind, #3)</td></tr>",
                            "<tr><td>The 9th Judgment  (Women's Murder Club, #9)</td></tr>",
                            "<tr><td>Zoo</td></tr>",
                            "<tr><td>Vespers Rising (The 39 Clues, #11)</td></tr>",
                            "<tr><td>The 101 Dalmatians (The Hundred and One Dalmatians, #1)</td></tr>",
                            "<tr><td>Revenge of the Witch (The Last Apprentice / Wardstone Chronicles, #1)</td></tr>",
                            "<tr><td>Beauty and the Beast (Disney)</td></tr>",
                            "<tr><td>The Wake (The Sandman #10)</td></tr>",
                            "<tr><td>Lady and the Tramp</td></tr>",
                            "<tr><td>Killing Jesus: A History</td></tr>",
                            "<tr><td>Y: The Last Man, Vol. 2: Cycles (Y: The Last Man, #2)</td></tr>",
                            "<tr><td>Empty Mansions: The Mysterious Life of Huguette Clark and the Spending of a Great American Fortune</td></tr>",
                            "<tr><td>The Cabinet of Curiosities (Pendergast, #3)</td></tr>",
                            "<tr><td>The Intelligent Investor (Collins Business Essentials)</td></tr>",
                            "<tr><td>Richard III</td></tr>",
                            "<tr><td>The Bane Chronicles</td></tr>",
                            "<tr><td>Kitchen</td></tr>",
                            "<tr><td>Beach Road</td></tr>",
                            "<tr><td>Nicholas Nickleby</td></tr>",
                            "<tr><td>Dean Koontz's Frankenstein, Volume 1: Prodigal Son</td></tr>",
                            "<tr><td>The Social Contract</td></tr>",
                            "<tr><td>The Federalist Papers</td></tr>",
                            "<tr><td>The Story of the Lost Child (The Neapolitan Novels, #4)</td></tr>",
                            "<tr><td>The Postmistress</td></tr>",
                            "<tr><td>Creativity, Inc.: Overcoming the Unseen Forces That Stand in the Way of True Inspiration</td></tr>",
                            "<tr><td>The Diary of Frida Kahlo: An Intimate Self-Portrait</td></tr>",
                            "<tr><td>Creepshow</td></tr>",
                            "<tr><td>Panda Bear, Panda Bear, What Do You See?</td></tr>",
                            "<tr><td>Reliquary (Pendergast, #2)</td></tr>",
                            "<tr><td>The Hypnotist (Joona Linna, #1)</td></tr>",
                            "<tr><td>The Dirt: Confessions of the World's Most Notorious Rock Band</td></tr>",
                            "<tr><td>Ten Apples Up On Top!</td></tr>",
                            "<tr><td>An American Tragedy</td></tr>",
                            "<tr><td>Anne McCaffrey's Dragonflight #1</td></tr>",
                            "<tr><td>Illuminae (The Illuminae Files, #1)</td></tr>",
                            "<tr><td>The Woman in Black</td></tr>",
                            "<tr><td>Never Never: Part Two (Never Never, #2)</td></tr>",
                            "<tr><td>10th Anniversary (Women's Murder Club, #10)</td></tr>",
                            "<tr><td>Knots and Crosses (Inspector Rebus, #1)</td></tr>",
                            "<tr><td>The Walking Dead, Vol. 02: Miles Behind Us</td></tr>",
                            "<tr><td>Alice's Adventures in Wonderland &amp; Other Stories</td></tr>",
                            "<tr><td>The Best of H.P. Lovecraft: Bloodcurdling Tales of Horror and the Macabre</td></tr>",
                            "<tr><td>The Call of Cthulhu and Other Weird Stories</td></tr>",
                            "<tr><td>You're Never Weird on the Internet (Almost)</td></tr>",
                            "<tr><td>Now You See Her</td></tr>",
                            "<tr><td>Hawkeye, Volume 1: My Life as a Weapon</td></tr>",
                            "<tr><td>Batman: Hush</td></tr>",
                            "<tr><td>After the Quake</td></tr>",
                            "<tr><td>Guilty Wives</td></tr>",
                            "<tr><td>Between the Lines (Between the Lines, #1)</td></tr>",
                            "<tr><td>Walden &amp; Civil Disobedience</td></tr>",
                            "<tr><td>Black Bird, Vol. 01 (Black Bird, #1)</td></tr>",
                            "<tr><td>Paper Princess (The Royals, #1)</td></tr>",
                            "<tr><td>Searching for Dragons (Enchanted Forest Chronicles, #2)</td></tr>",
                            "<tr><td>Kiss of Death (The Morganville Vampires, #8)</td></tr>",
                            "<tr><td>Maximum Ride, Vol. 1 (Maximum Ride: The Manga, #1)</td></tr>",
                            "<tr><td>The Last Boyfriend (Inn BoonsBoro, #2)</td></tr>",
                            "<tr><td>The Boy in the Suitcase (Nina Borg, #1)</td></tr>",
                            "<tr><td>The Symposium</td></tr>",
                            "<tr><td>Cold Comfort Farm</td></tr>",
                            "<tr><td>Vincent Van Gogh: The Complete Paintings</td></tr>",
                            "<tr><td>Smilla's Sense of Snow</td></tr>",
                            "<tr><td>Batman: Dark Victory</td></tr>",
                            "<tr><td>Hand, Hand, Fingers, Thumb</td></tr>",
                            "<tr><td>Pedro Páramo</td></tr>",
                            "<tr><td>The Waste Land</td></tr>",
                            "<tr><td>The Royal We</td></tr>",
                            "<tr><td>Peter and the Shadow Thieves (Peter and the Starcatchers, #2)</td></tr>",
                            "<tr><td>Hellsing, Vol. 01 (Hellsing, #1)</td></tr>",
                            "<tr><td>Soul Harvest: The World Takes Sides (Left Behind, #4)</td></tr>",
                            "<tr><td>Prodigal Son (Dean Koontz's Frankenstein, #1)</td></tr>",
                            "<tr><td>How Do Dinosaurs Say Good Night?</td></tr>",
                            "<tr><td>A Book of Five Rings: The Classic Guide to Strategy</td></tr>",
                            "<tr><td>The Nicomachean Ethics</td></tr>",
                            "<tr><td>The Berenstain Bears and the Messy Room</td></tr>",
                            "<tr><td>Blaze</td></tr>",
                            "<tr><td>History of Art</td></tr>",
                            "<tr><td>The Mysterious Benedict Society and the Perilous Journey (The Mysterious Benedict Society, #2)</td></tr>",
                            "<tr><td>Henry V</td></tr>",
                            "<tr><td>Hunger</td></tr>",
                            "<tr><td>The Joker</td></tr>",
                            "<tr><td>Night Watch (Watch #1)</td></tr>",
                            "<tr><td>Planet of the Apes</td></tr>",
                            "<tr><td>Experiencing God: Knowing and Doing the Will of God, Workbook</td></tr>",
                            "<tr><td>D.Gray-man, Volume 01</td></tr>",
                            "<tr><td>The Rule of Four</td></tr>",
                            "<tr><td>Avatar: The Last Airbender (The Search, #1)</td></tr>",
                            "<tr><td>Please Kill Me: The Uncensored Oral History of Punk</td></tr>",
                            "<tr><td>Homage to Catalonia</td></tr>",
                            "<tr><td>A Knight of the Seven Kingdoms (The Tales of Dunk and Egg, #1-3)</td></tr>",
                            "<tr><td>Buffy the Vampire Slayer: The Long Way Home (Season 8, #1)</td></tr>",
                            "<tr><td>Heart of a Dog</td></tr>",
                            "<tr><td>Marvels</td></tr>",
                            "<tr><td>The Future of Us</td></tr>",
                            "<tr><td>Island of the Sequined Love Nun</td></tr>",
                            "<tr><td>The Barefoot Contessa Cookbook</td></tr>",
                            "<tr><td>Virals (Virals, #1)</td></tr>",
                            "<tr><td>An Invisible Thread: The True Story of an 11-Year-Old Panhandler, a Busy Sales Executive, and an Unlikely Meeting with Destiny</td></tr>",
                            "<tr><td>Marked / Betrayed / Chosen / Untamed (House of Night, #1-4)</td></tr>",
                            "<tr><td>Anne Frank: Beyond the Diary - A Photographic Remembrance</td></tr>",
                            "<tr><td>11th Hour (Women's Murder Club, #11)</td></tr>",
                            "<tr><td>Earth Unaware (The First Formic War, #1)</td></tr>",
                            "<tr><td>The Three Little Pigs (Disney Classic)</td></tr>",
                            "<tr><td>Scott Pilgrim, Volume 4: Scott Pilgrim Gets It Together</td></tr>",
                            "<tr><td>From Hell</td></tr>",
                            "<tr><td>Civilization and Its Discontents</td></tr>",
                            "<tr><td>Astonishing X-Men, Volume 1: Gifted</td></tr>",
                            "<tr><td>This One Summer</td></tr>",
                            "<tr><td>Demons</td></tr>",
                            "<tr><td>Notes from Underground</td></tr>",
                            "<tr><td>Harry Potter: A Pop-Up Book: Based on the Film Phenomenon</td></tr>",
                            "<tr><td>Portrait in Sepia</td></tr>",
                            "<tr><td>A Briefer History of Time</td></tr>",
                            "<tr><td>When I'm Gone</td></tr>",
                            "<tr><td>The Oresteia  (Ορέστεια, #1-3)</td></tr>",
                            "<tr><td>Earth (The Book): A Visitor's Guide to the Human Race</td></tr>",
                            "<tr><td>God's Smuggler</td></tr>",
                            "<tr><td>Fix-It and Forget-It Cookbook: Feasting with Your Slow Cooker</td></tr>",
                            "<tr><td>Strange Angels (Strange Angels, #1)</td></tr>",
                            "<tr><td>Stolen Lives: Twenty Years in a Desert Jail</td></tr>",
                            "<tr><td>Civil War: A Marvel Comics Event</td></tr>",
                            "<tr><td>The Vow: The Kim &amp; Krickitt Carpenter Story</td></tr>",
                            "<tr><td>xxxHolic, Vol. 1 (xxxHOLiC, #1)</td></tr>",
                            "<tr><td>Miss Nelson Is Back (Miss Nelson, #2)</td></tr>",
                            "<tr><td>The Canterville Ghost</td></tr>",
                            "<tr><td>Seconds</td></tr>",
                            "<tr><td>The Power of Your Subconscious Mind</td></tr>",
                            "<tr><td>Johnny Tremain</td></tr>",
                            "<tr><td>The Motorcycle Diaries: Notes on a Latin American Journey</td></tr>",
                            "<tr><td>The Savage Detectives</td></tr>",
                            "<tr><td>Chess Story</td></tr>",
                            "<tr><td>The Lion King: A little Golden Book</td></tr>",
                            "<tr><td>The Son</td></tr>",
                            "<tr><td>Chew, Vol. 1: Taster's Choice</td></tr>",
                            "<tr><td>Time of the Twins (Dragonlance: Legends, #1)</td></tr>",
                            "<tr><td>Roadside Picnic</td></tr>",
                            "<tr><td>Big Sur</td></tr>",
                            "<tr><td>Preacher, Volume 2: Until the End of the World</td></tr>",
                            "<tr><td>The Lord of the Rings: Weapons and Warfare</td></tr>",
                            "<tr><td>The Club Dumas</td></tr>",
                            "<tr><td>Dear Mr. Henshaw (Leigh Botts, #1)</td></tr>",
                            "<tr><td>My Friend Flicka (Flicka, #1)</td></tr>",
                            "<tr><td>The Kingmaker's Daughter (The Plantagenet and Tudor Novels, #4)</td></tr>",
                            "<tr><td>Hedda Gabler</td></tr>",
                            "<tr><td>Phantom (Harry Hole, #9)</td></tr>",
                            "<tr><td>Marked / Betrayed / Chosen / Untamed / Hunted (House of Night #1-5)</td></tr>",
                            "<tr><td>ذاكرة الجسد</td></tr>",
                            "<tr><td>Le Morte d'Arthur: King Arthur and the Legends of the Round Table</td></tr>",
                            "<tr><td>Brimstone (Pendergast, #5; Diogenes, #1)</td></tr>",
                            "<tr><td>Selected Stories</td></tr>",
                            "<tr><td>Redemption (Redemption, #1)</td></tr>",
                            "<tr><td>Apollyon (Left Behind, #5)</td></tr>",
                            "<tr><td>Alice's Adventures in Wonderland: A Pop-Up Adaptation</td></tr>",
                            "<tr><td>Ballet Shoes (Shoes, #1)</td></tr>",
                            "<tr><td>We the Living</td></tr>",
                            "<tr><td>Bread and Jam for Frances</td></tr>",
                            "<tr><td>One Fifth Avenue</td></tr>",
                            "<tr><td>El Deafo</td></tr>",
                            "<tr><td>The Walking Dead, Vol. 03: Safety Behind Bars</td></tr>",
                            "<tr><td>The Trial and Death of Socrates</td></tr>",
                            "<tr><td>History of the Peloponnesian War</td></tr>",
                            "<tr><td>The Red Badge of Courage and Selected Short Fiction  </td></tr>",
                            "<tr><td>Labyrinths:  Selected Stories and Other Writings</td></tr>",
                            "<tr><td>The Day the Crayons Quit</td></tr>",
                            "<tr><td>Kisses from Katie: A Story of Relentless Love and Redemption</td></tr>",
                            "<tr><td>The Magic Mountain</td></tr>",
                            "<tr><td>The Success Principles: How to Get from Where You Are to Where You Want to Be</td></tr>",
                            "<tr><td>Business Model Generation</td></tr>",
                            "<tr><td>Stone Soup</td></tr>",
                            "<tr><td>شيكاجو</td></tr>",
                            "<tr><td>12th of Never (Women's Murder Club, #12)</td></tr>",
                            "<tr><td>The Murder House</td></tr>",
                            "<tr><td>A Gathering of Shadows (Shades of Magic, #2)</td></tr>",
                            "<tr><td>Blind Willow, Sleeping Woman</td></tr>",
                            "<tr><td>Barefoot Contessa Back to Basics</td></tr>",
                            "<tr><td>Calling on Dragons (Enchanted Forest Chronicles, #3)</td></tr>",
                            "<tr><td>Now, Discover Your Strengths</td></tr>",
                            "<tr><td>The Other Wes Moore: One Name, Two Fates</td></tr>",
                            "<tr><td>美少女戦士セーラームーン新装版 1 [Bishōjo Senshi Sailor Moon Shinsōban 1]</td></tr>",
                            "<tr><td>The Partly Cloudy Patriot</td></tr>",
                            "<tr><td>The Night Eternal (The Strain Trilogy, #3)</td></tr>",
                            "<tr><td>The Decameron</td></tr>",
                            "<tr><td>The Aleph and Other Stories </td></tr>",
                            "<tr><td>The Demigod Diaries</td></tr>",
                            "<tr><td>Neil Patrick Harris: Choose Your Own Autobiography</td></tr>",
                            "<tr><td>Haroun and the Sea of Stories (Khalifa Brothers, #1)</td></tr>",
                            "<tr><td>Zorba the Greek</td></tr>",
                            "<tr><td>Sounder</td></tr>",
                            "<tr><td>A Universe from Nothing: Why There Is Something Rather Than Nothing</td></tr>",
                            "<tr><td>Slash</td></tr>",
                            "<tr><td>Avatar: The Last Airbender (The Promise, #1)</td></tr>",
                            "<tr><td>Being and Nothingness</td></tr>",
                            "<tr><td>Silent Spring</td></tr>",
                            "<tr><td>Behemoth (Leviathan, #2)</td></tr>",
                            "<tr><td>Y: The Last Man, Vol. 8: Kimono Dragons (Y: The Last Man, #8)</td></tr>",
                            "<tr><td>Falling Kingdoms (Falling Kingdoms, #1)</td></tr>",
                            "<tr><td>Ask and It Is Given: Learning to Manifest Your Desires</td></tr>",
                            "<tr><td>Island Beneath the Sea</td></tr>",
                            "<tr><td>The History of Tom Jones, a Foundling</td></tr>",
                            "<tr><td>Y: The Last Man, Vol. 5: Ring of Truth (Y: The Last Man, #5)</td></tr>",
                            "<tr><td>How to Tell If Your Cat Is Plotting to Kill You</td></tr>",
                            "<tr><td>The Strange Library</td></tr>",
                            "<tr><td>Ancestors of Avalon (Avalon, #5)</td></tr>",
                            "<tr><td>Out Stealing Horses</td></tr>",
                            "<tr><td>Batman: Knightfall, Vol. 1: Broken Bat</td></tr>",
                            "<tr><td>Saga, Vol. 5 (Saga, #5)</td></tr>",
                            "<tr><td>One Past Midnight: The Langoliers</td></tr>",
                            "<tr><td>Ask the Dust (Arturo Bandini, #3)</td></tr>",
                            "<tr><td>The Key to Midnight</td></tr>",
                            "<tr><td>Fairy Tales from the Brothers Grimm: A New English Version</td></tr>",
                            "<tr><td>Lysistrata</td></tr>",
                            "<tr><td>Assassins (Left Behind, #6)</td></tr>",
                            "<tr><td>Eat and Run: My Unlikely Journey to Ultramarathon Greatness</td></tr>",
                            "<tr><td>The Mark (Left Behind, #8)</td></tr>",
                            "<tr><td>Those Left Behind (Serenity, #1)</td></tr>",
                            "<tr><td>With the Old Breed: At Peleliu and Okinawa</td></tr>",
                            "<tr><td>The Hundred Dresses</td></tr>",
                            "<tr><td>Y: The Last Man, Vol. 3: One Small Step (Y: The Last Man, #3)</td></tr>",
                            "<tr><td>Bear Snores On</td></tr>",
                            "<tr><td>Salamandastron (Redwall, #5)</td></tr>",
                            "<tr><td>The Return of the Native  </td></tr>",
                            "<tr><td>Micro</td></tr>",
                            "<tr><td>No Exit and Three Other Plays</td></tr>",
                            "<tr><td>The House of the Seven Gables</td></tr>",
                            "<tr><td>The Souls of Black Folk</td></tr>",
                            "<tr><td>I Never Promised You a Rose Garden</td></tr>",
                            "<tr><td>The Lover</td></tr>",
                            "<tr><td>The Power and the Glory</td></tr>",
                            "<tr><td>Tangerine</td></tr>",
                            "<tr><td>Barbarians at the Gate: The Fall of RJR Nabisco</td></tr>",
                            "<tr><td>Franz Kafka's The Castle (Dramatization)</td></tr>",
                            "<tr><td>The Girl Who Circumnavigated Fairyland in a Ship of Her Own Making (Fairyland, #1)</td></tr>",
                            "<tr><td>NYPD Red (NYPD Red, #1)</td></tr>",
                            "<tr><td>The Book of the Dead (Pendergast, #7; Diogenes, #3)</td></tr>",
                            "<tr><td>The Indwelling (Left Behind, #7)</td></tr>",
                            "<tr><td>The Glass Bead Game</td></tr>",
                            "<tr><td>My Family and Other Animals (Corfu Trilogy, #1)</td></tr>",
                            "<tr><td>The Body</td></tr>",
                            "<tr><td>Diary of a Worm</td></tr>",
                            "<tr><td>Pale Blue Dot: A Vision of the Human Future in Space</td></tr>",
                            "<tr><td>Journey to the End of the Night</td></tr>",
                            "<tr><td>Seize the Night (Moonlight Bay, #2)</td></tr>",
                            "<tr><td>The Seeing Stone (The Spiderwick Chronicles, #2)</td></tr>",
                            "<tr><td>Giggle, Giggle, Quack</td></tr>",
                            "<tr><td>Discourse on Method and Meditations on First Philosophy</td></tr>",
                            "<tr><td>Still Life With Crows (Pendergast, #4)</td></tr>",
                            "<tr><td>Unlimited Power : The New Science Of Personal Achievement</td></tr>",
                            "<tr><td>Fever Dream (Pendergast, #10)</td></tr>",
                            "<tr><td>The Long Hard Road Out of Hell</td></tr>",
                            "<tr><td>Death With Interruptions</td></tr>",
                            "<tr><td>Britt-Marie Was Here</td></tr>",
                            "<tr><td>Kim</td></tr>",
                            "<tr><td>Critique of Pure Reason</td></tr>",
                            "<tr><td>Gnomes</td></tr>",
                            "<tr><td>Twilight and Philosophy: Vampires, Vegetarians, and the Pursuit of Immortality</td></tr>",
                            "<tr><td>La Dame aux Camélias</td></tr>",
                            "<tr><td>Fish: A Proven Way to Boost Morale and Improve Results</td></tr>",
                            "<tr><td>Stuck-Up Suit</td></tr>",
                            "<tr><td>Rapture in Death (In Death, #4)</td></tr>",
                            "<tr><td>The Elementary Particles</td></tr>",
                            "<tr><td>Dracula (Marvel Illustrated)</td></tr>",
                            "<tr><td>The Lives of the Artists</td></tr>",
                            "<tr><td>Metro 2033 (METRO, #1)</td></tr>",
                            "<tr><td>The Art Spirit: Notes, Articles, Fragments of Letters and Talks to Students, Bearing on the Concept and Technique of Picture Making, the Study of Art (Icon Editions)</td></tr>",
                            "<tr><td>The Wrath of Mulgarath (The Spiderwick Chronicles, #5)</td></tr>",
                            "<tr><td>Be Here Now</td></tr>",
                            "<tr><td>The Little Mermaid</td></tr>",
                            "<tr><td>Lifeguard</td></tr>",
                            "<tr><td>Beauty's Release (Sleeping Beauty, #3)</td></tr>",
                            "<tr><td>Execution: The Discipline of Getting Things Done</td></tr>",
                            "<tr><td>20th Century Ghosts</td></tr>",
                            "<tr><td>Half Magic (Tales of Magic, #1)</td></tr>",
                            "<tr><td>Dawn of the Dreadfuls (Pride and Prejudice and Zombies, #0.5)</td></tr>",
                            "<tr><td>Peace Is Every Step: The Path of Mindfulness in Everyday Life</td></tr>",
                            "<tr><td>Batman: A Death in the Family</td></tr>",
                            "<tr><td>Shirley</td></tr>",
                            "<tr><td>Fables, Vol. 4: March of the Wooden Soldiers</td></tr>",
                            "<tr><td>Night School</td></tr>",
                            "<tr><td>Beyond Belief: My Secret Life Inside Scientology and My Harrowing Escape</td></tr>",
                            "<tr><td>Apology</td></tr>",
                            "<tr><td>Preacher, Volume 3: Proud Americans</td></tr>",
                            "<tr><td>The Little Red Hen (Little Golden Book)</td></tr>",
                            "<tr><td>Game Change: Obama and the Clintons, McCain and Palin, and the Race of a Lifetime</td></tr>",
                            "<tr><td>Joni: An Unforgettable Story</td></tr>",
                            "<tr><td>War of the Twins (Dragonlance: Legends, #2)</td></tr>",
                            "<tr><td>Never Never: Part Three (Never Never, #3)</td></tr>",
                            "<tr><td>Katherine</td></tr>",
                            "<tr><td>Le Petit Nicolas (Le petit Nicolas, #1)</td></tr>",
                            "<tr><td>We Were Soldiers Once... and Young: Ia Drang - The Battle that Changed the War in Vietnam</td></tr>",
                            "<tr><td>Percy Jackson and the Olympians Boxed Set (Percy Jackson and the Olympians, #1-5)</td></tr>",
                            "<tr><td>The Bourne Objective (Jason Bourne, #8)</td></tr>",
                            "<tr><td>Unlucky 13 (Women’s Murder Club, #13)</td></tr>",
                            "<tr><td>Pandora Hearts 1巻</td></tr>",
                            "<tr><td>The Complete Stories</td></tr>",
                            "<tr><td>Veganomicon: The Ultimate Vegan Cookbook</td></tr>",
                            "<tr><td>Test of the Twins (Dragonlance: Legends, #3)</td></tr>",
                            "<tr><td>Stolen Innocence: My Story of Growing Up in a Polygamous Sect, Becoming a Teenage Bride, and Breaking Free of Warren Jeffs</td></tr>",
                            "<tr><td>Batman: The Man Who Laughs</td></tr>",
                            "<tr><td>The Mysterious Benedict Society and the Prisoner's Dilemma (The Mysterious Benedict Society, #3)</td></tr>",
                            "<tr><td>The Cherry Orchard</td></tr>",
                            "<tr><td>Unfinished Tales of Númenor and Middle-Earth</td></tr>",
                            "<tr><td>فوضى الحواس</td></tr>",
                            "<tr><td>Fancy Nancy</td></tr>",
                            "<tr><td>Talking to Dragons (Enchanted Forest Chronicles, #4)</td></tr>",
                            "<tr><td>Sail</td></tr>",
                            "<tr><td>The Sleeper and the Spindle</td></tr>",
                            "<tr><td>Beauty's Punishment (Sleeping Beauty, #2)</td></tr>",
                            "<tr><td>A Lion Among Men (The Wicked Years, #3)</td></tr>",
                            "<tr><td>Tartuffe</td></tr>",
                            "<tr><td>Oblomov</td></tr>",
                            "<tr><td>NurtureShock: New Thinking About Children</td></tr>",
                            "<tr><td>Daughter of the Empire (The Empire Trilogy, #1)</td></tr>",
                            "<tr><td>Theodore Boone: Kid Lawyer (Theodore Boone, #1)</td></tr>",
                            "<tr><td>Desecration (Left Behind, #9)</td></tr>",
                            "<tr><td>Chopsticks</td></tr>",
                            "<tr><td>Cockroaches (Harry Hole, #2)</td></tr>",
                            "<tr><td>City of the Beasts (Eagle and Jaguar, #1)</td></tr>",
                            "<tr><td>أولاد حارتنا</td></tr>",
                            "<tr><td>Nightfall</td></tr>",
                            "<tr><td>How I Became a Pirate</td></tr>",
                            "<tr><td>Lassie Come-Home</td></tr>",
                            "<tr><td>The China Study: The Most Comprehensive Study of Nutrition Ever Conducted And the Startling Implications for Diet, Weight Loss, And Long-term Health</td></tr>",
                            "<tr><td>The Gruffalo</td></tr>",
                            "<tr><td>Tokyo Ghoul, tome 1 (Tokyo Ghoul, #1)</td></tr>",
                            "<tr><td>Headhunters</td></tr>",
                            "<tr><td>The Man Who Was Thursday: A Nightmare</td></tr>",
                            "<tr><td>Cheaper by the Dozen</td></tr>",
                            "<tr><td>The Monster of Florence</td></tr>",
                            "<tr><td>The Last Hero (Discworld, #27; Rincewind #7)</td></tr>",
                            "<tr><td>Raymond E. Feist's Magician Master</td></tr>",
                            "<tr><td>Locke &amp; Key, Vol. 2: Head Games</td></tr>",
                            "<tr><td>Ramona and Her Father (Ramona, #4)</td></tr>",
                            "<tr><td>Hopscotch</td></tr>",
                            "<tr><td>Manuscript Found in Accra</td></tr>",
                            "<tr><td>The Ironwood Tree (The Spiderwick Chronicles, #4)</td></tr>",
                            "<tr><td>I Am Ozzy</td></tr>",
                            "<tr><td>14th Deadly Sin (Women’s Murder Club, #14)</td></tr>",
                            "<tr><td>Y: The Last Man, Vol. 4: Safeword (Y: The Last Man, #4)</td></tr>",
                            "<tr><td>Y: The Last Man, Vol. 7: Paper Dolls (Y: The Last Man, #7)</td></tr>",
                            "<tr><td>My True Love Gave to Me: Twelve Holiday Stories</td></tr>",
                            "<tr><td>Rage</td></tr>",
                            "<tr><td>Germinal (Les Rougon-Macquart, #13)</td></tr>",
                            "<tr><td>Frigid (Frigid, #1)</td></tr>",
                            "<tr><td>Of Love and Shadows</td></tr>",
                            "<tr><td>The Walking Dead, Vol. 04: The Heart's Desire</td></tr>",
                            "<tr><td>Discipline and Punish: The Birth of the Prison</td></tr>",
                            "<tr><td>Full Moon o Sagashite, Vol. 1</td></tr>",
                            "<tr><td>Magician: Apprentice  (Raymond E. Feist's Magician: Apprentice #1)</td></tr>",
                            "<tr><td>Polgara the Sorceress (Malloreon)</td></tr>",
                            "<tr><td>The Remnant (Left Behind, #10)</td></tr>",
                            "<tr><td>The Baron in the Trees</td></tr>",
                            "<tr><td>Twilight: The Graphic Novel, Vol. 2  (Twilight: The Graphic Novel, #2)</td></tr>",
                            "<tr><td>Finding Me: A Decade of Darkness, a Life Reclaimed - A Memoir of the Cleveland Kidnappings</td></tr>",
                            "<tr><td>Jesus Freaks: Stories of Those Who Stood for Jesus, the Ultimate Jesus Freaks (Jesus Freaks, #1)</td></tr>",
                            "<tr><td>Police (Harry Hole, #10)</td></tr>",
                            "<tr><td>Fushigi Yûgi: The Mysterious Play, Vol. 1: Priestess</td></tr>",
                            "<tr><td>Anne Rice's The Tale of the Body Thief (A Graphic Novel)</td></tr>",
                            "<tr><td>The Princess and the Goblin  (Princess Irene and Curdie, #1)</td></tr>",
                            "<tr><td>The Preacher (Patrik Hedström, #2)</td></tr>",
                            "<tr><td>Lord of Light</td></tr>",
                            "<tr><td>Esio Trot</td></tr>",
                            "<tr><td>Run for Your Life (Michael Bennett, #2)</td></tr>",
                            "<tr><td>Play It as It Lays</td></tr>",
                            "<tr><td>The Valkyries</td></tr>",
                            "<tr><td>Curse of the Bane (The Last Apprentice / Wardstone Chronicles, #2)</td></tr>",
                            "<tr><td>The Second Sex</td></tr>",
                            "<tr><td>Dragon Wing (The Death Gate Cycle, #1)</td></tr>",
                            "<tr><td>Y: The Last Man, Vol. 9: Motherland (Y: The Last Man, #9)</td></tr>",
                            "<tr><td>Lumberjanes, Vol. 1: Beware the Kitten Holy</td></tr>",
                            "<tr><td>Dance of Death (Pendergast, #6; Diogenes, #2)</td></tr>",
                            "<tr><td>Hunter x Hunter, Vol. 01 (Hunter x Hunter, #1)</td></tr>",
                            "<tr><td>The Gift (Witch &amp; Wizard, #2)</td></tr>",
                            "<tr><td>A Game of Thrones: Comic Book, Issue 1</td></tr>",
                            "<tr><td>Darke (Septimus Heap, #6)</td></tr>",
                            "<tr><td>Lucky Jim</td></tr>",
                            "<tr><td>Y: The Last Man, Vol. 10: Whys and Wherefores (Y: The Last Man, #10)</td></tr>",
                            "<tr><td>Memories, Dreams, Reflections</td></tr>",
                            "<tr><td>Laughable Loves</td></tr>",
                            "<tr><td>Dinosaurs Before Dark (Magic Tree House, #1)</td></tr>",
                            "<tr><td>Death in Venice</td></tr>",
                            "<tr><td>The Tibetan Book of Living and Dying</td></tr>",
                            "<tr><td>The Improbable Adventures of Sherlock Holmes</td></tr>",
                            "<tr><td>Fables, Vol. 2: Animal Farm</td></tr>",
                            "<tr><td>The Fire Next Time</td></tr>",
                            "<tr><td>We3</td></tr>",
                            "<tr><td>Percy Jackson's Greek Gods (A Percy Jackson and the Olympians Guide)</td></tr>",
                            "<tr><td>Darkness at Noon</td></tr>",
                            "<tr><td>Diane Arbus: Monograph</td></tr>",
                            "<tr><td>House</td></tr>",
                            "<tr><td>Vicious (Villains, #1)</td></tr>",
                            "<tr><td>Until You (Fall Away, #1.5)</td></tr>",
                            "<tr><td>It Starts with Food: Discover the Whole30 and Change Your Life in Unexpected Ways</td></tr>",
                            "<tr><td>Be with Me (Wait for You, #2)</td></tr>",
                            "<tr><td>The Absent One (Department Q, #2)</td></tr>",
                            "<tr><td>The Walking Dead, Vol. 05: The Best Defense</td></tr>",
                            "<tr><td>What Got You Here Won't Get You There: How Successful People Become Even More Successful</td></tr>",
                            "<tr><td>The Wicked + The Divine, Vol. 1: The Faust Act</td></tr>",
                            "<tr><td>The Law of Attraction: The Basics of the Teachings of Abraham</td></tr>",
                            "<tr><td>Lucinda's Secret (The Spiderwick Chronicles, #3)</td></tr>",
                            "<tr><td>Henry Huggins (Henry Huggins, #1)</td></tr>",
                            "<tr><td>Bedtime for Frances</td></tr>",
                            "<tr><td>Totto-chan: The Little Girl at the Window</td></tr>",
                            "<tr><td>The Postcard Killers</td></tr>",
                            "<tr><td>Kamisama Kiss, Vol. 1</td></tr>",
                            "<tr><td>All My Friends Are Dead</td></tr>",
                            "<tr><td>Cash</td></tr>",
                            "<tr><td>Out of Africa</td></tr>",
                            "<tr><td>Mariel of Redwall (Redwall, #4)</td></tr>",
                            "<tr><td>Antony and Cleopatra</td></tr>",
                            "<tr><td>And the Band Played On: Politics, People, and the AIDS Epidemic</td></tr>",
                            "<tr><td>It Chooses You</td></tr>",
                            "<tr><td>Last Exit to Brooklyn</td></tr>",
                            "<tr><td>The Feast of the Goat</td></tr>",
                            "<tr><td>Invisible</td></tr>",
                            "<tr><td>Thunderhead</td></tr>",
                            "<tr><td>The Monkey's Paw (Oxford Bookworms)</td></tr>",
                            "<tr><td>The Pursuit of Holiness</td></tr>",
                            "<tr><td>Confessions of a Murder Suspect (Confessions, #1)</td></tr>",
                            "<tr><td>Y: The Last Man, Vol. 6: Girl on Girl (Y: The Last Man, #6)</td></tr>",
                            "<tr><td>If You Give a Pig a Party</td></tr>",
                            "<tr><td>Quo Vadis</td></tr>",
                            "<tr><td>Servant of the Empire (The Empire Trilogy, #2)</td></tr>",
                            "<tr><td>Is Your Mama a Llama?</td></tr>",
                            "<tr><td>Dali: The Paintings</td></tr>",
                            "<tr><td>Cold Fire / Hideaway / The Key to Midnight</td></tr>",
                            "<tr><td>The Fifth Woman (Kurt Wallander, #6)</td></tr>",
                            "<tr><td>Bel-Ami</td></tr>",
                            "<tr><td>The Time in Between</td></tr>",
                            "<tr><td>The Dhammapada</td></tr>",
                            "<tr><td>Swimsuit</td></tr>",
                            "<tr><td>تاكسي: حواديت المشاوير</td></tr>",
                            "<tr><td>Goliath (Leviathan, #3)</td></tr>",
                            "<tr><td>Reborn! Vol. 01: Reborn Arrives! (Reborn!, #1)</td></tr>",
                            "<tr><td>Locke &amp; Key, Vol. 3: Crown of Shadows</td></tr>",
                            "<tr><td>The Garden of Rama (Rama, #3)</td></tr>",
                            "<tr><td>Batman: The Black Mirror</td></tr>",
                            "<tr><td>Kill Me If You Can</td></tr>",
                            "<tr><td>If You Take a Mouse to the Movies</td></tr>",
                            "<tr><td>A Lick of Frost (Merry Gentry, #6)</td></tr>",
                            "<tr><td>The Abyss</td></tr>",
                            "<tr><td>The Readers of Broken Wheel Recommend</td></tr>",
                            "<tr><td>The Magic of Reality: How We Know What's Really True</td></tr>",
                            "<tr><td>Remember (Redemption, #2)</td></tr>",
                            "<tr><td>Beauty and the Beast</td></tr>",
                            "<tr><td>Night of the Soul Stealer (The Last Apprentice / Wardstone Chronicles, #3)</td></tr>",
                            "<tr><td>The Blind Owl</td></tr>",
                            "<tr><td>Pete the Cat: I Love My White Shoes</td></tr>",
                            "<tr><td>The Ring of Solomon (Bartimaeus, #0.5)</td></tr>",
                            "<tr><td>Barefoot Contessa Family Style: Easy Ideas and Recipes That Make Everyone Feel Like Family</td></tr>",
                            "<tr><td>At the Mountains of Madness</td></tr>",
                            "<tr><td>Preacher, Volume 9: Alamo</td></tr>",
                            "<tr><td>Collected Fictions</td></tr>",
                            "<tr><td>Mistakes Were Made (But Not by Me): Why We Justify Foolish Beliefs, Bad Decisions, and Hurtful Acts</td></tr>",
                            "<tr><td>Roadwork</td></tr>",
                            "<tr><td>Just Me in the Tub (Mercer Mayer's Little Critter)</td></tr>",
                            "<tr><td>The Walking Dead, Vol. 06: This Sorrowful Life</td></tr>",
                            "<tr><td>Inés of My Soul</td></tr>",
                            "<tr><td>Crossing the Chasm: Marketing and Selling High-Tech Products to Mainstream Customers</td></tr>",
                            "<tr><td>Identity</td></tr>",
                            "<tr><td>The Funhouse</td></tr>",
                            "<tr><td>Why Mosquitoes Buzz in People's Ears</td></tr>",
                            "<tr><td>The Prince of Mist (Niebla, #1)</td></tr>",
                            "<tr><td>The First Four Years  (Little House, #9)</td></tr>",
                            "<tr><td>Grimm's Fairy Tales</td></tr>",
                            "<tr><td>The Definitive Book of Body Language</td></tr>",
                            "<tr><td>Tick Tock (Michael Bennett, #4)</td></tr>",
                            "<tr><td>Complete Works of Oscar Wilde</td></tr>",
                            "<tr><td>The New Best Recipe</td></tr>",
                            "<tr><td>Daytripper</td></tr>",
                            "<tr><td>The Museum of Innocence</td></tr>",
                            "<tr><td>Faust</td></tr>",
                            "<tr><td>Three Little Kittens</td></tr>",
                            "<tr><td>The Valley of Fear</td></tr>",
                            "<tr><td>Preacher, Volume 6: War in the Sun</td></tr>",
                            "<tr><td>Deep Kiss of Winter (Includes: Immortals After Dark, #8; Alien Huntress, #3.5)</td></tr>",
                            "<tr><td>Doll Bones</td></tr>",
                            "<tr><td>Welcome to Night Vale</td></tr>",
                            "<tr><td>Sleeping Beauty: a Little Golden Book (Disney Princess)</td></tr>",
                            "<tr><td>The Vagina Monologues</td></tr>",
                            "<tr><td>Daniel Deronda</td></tr>",
                            "<tr><td>Life Application Study Bible: NIV</td></tr>",
                            "<tr><td>The Wheel of Darkness (Pendergast, #8)</td></tr>",
                            "<tr><td>The Sandman: Endless Nights</td></tr>",
                            "<tr><td>Adam Bede</td></tr>",
                            "<tr><td>The Housekeeper and the Professor</td></tr>",
                            "<tr><td>Purgatorio (The Divine Comedy, #2)</td></tr>",
                            "<tr><td>By the Time You Read This, I'll Be Dead</td></tr>",
                            "<tr><td>City of Night (Dean Koontz's Frankenstein, #2)</td></tr>",
                            "<tr><td>Maya's Notebook</td></tr>",
                            "<tr><td>If You're Reading This, It's Too Late (Secret, #2)</td></tr>",
                            "<tr><td>Betrayals (Strange Angels, #2)</td></tr>",
                            "<tr><td>You've Been Warned</td></tr>",
                            "<tr><td>Chasing Vermeer (Chasing Vermeer, #1)</td></tr>",
                            "<tr><td>The Adventures of Ook and Gluk, Kung-Fu Cavemen from the Future</td></tr>",
                            "<tr><td>A Child's Garden of Verses</td></tr>",
                            "<tr><td>The Walking Dead, Vol. 12: Life Among Them</td></tr>",
                            "<tr><td>Pedagogy of the Oppressed</td></tr>",
                            "<tr><td>Identity Crisis</td></tr>",
                            "<tr><td>Rama II (Rama, #2)</td></tr>",
                            "<tr><td>Who Could That Be at This Hour? (All the Wrong Questions, #1)</td></tr>",
                            "<tr><td>Avatar: The Last Airbender: The Lost Adventures</td></tr>",
                            "<tr><td>الطنطورية</td></tr>",
                            "<tr><td>Fables, Vol. 3: Storybook Love</td></tr>",
                            "<tr><td>The Five Chinese Brothers</td></tr>",
                            "<tr><td>Disney after Dark (Kingdom Keepers, #1)</td></tr>",
                            "<tr><td>Trust in Me (Wait for You, #1.5)</td></tr>",
                            "<tr><td>Naruto, Vol. 11: Impassioned Efforts (Naruto, #11)</td></tr>",
                            "<tr><td>Capital in the Twenty-First Century</td></tr>",
                            "<tr><td>Eloise </td></tr>",
                            "<tr><td>The Day of the Locust</td></tr>",
                            "<tr><td>Alex Cross's Trial (Alex Cross, #15)</td></tr>",
                            "<tr><td>Sway: The Irresistible Pull of Irrational Behavior</td></tr>",
                            "<tr><td>King of the Wind: The Story of the Godolphin Arabian</td></tr>",
                            "<tr><td>The Solitaire Mystery: A Novel About Family and Destiny</td></tr>",
                            "<tr><td>Rat Queens, Vol. 1: Sass &amp; Sorcery</td></tr>",
                            "<tr><td>Guards! Guards!: The Play</td></tr>",
                            "<tr><td>Little Red Riding Hood</td></tr>",
                            "<tr><td>Ghost Boy</td></tr>",
                            "<tr><td>The Magic Finger (Young Puffin Developing Reader)</td></tr>",
                            "<tr><td>Meditations on First Philosophy</td></tr>",
                            "<tr><td>Cardcaptor Sakura, Vol. 1 (Cardcaptor Sakura, #1)</td></tr>",
                            "<tr><td>A Case of Need</td></tr>",
                            "<tr><td>Revealed (House of Night, #11)</td></tr>",
                            "<tr><td>The Seagull</td></tr>",
                            "<tr><td>1Q84 BOOK 3 (1Q84, #3)</td></tr>",
                            "<tr><td>New York to Dallas (In Death, #33)</td></tr>",
                            "<tr><td>Mistress of the Empire (The Empire Trilogy, #3)</td></tr>",
                            "<tr><td>The Hidden Staircase (Nancy Drew #2)</td></tr>",
                            "<tr><td>Interesting Times: The Play</td></tr>",
                            "<tr><td>Heart of Darkness and Selected Short Fiction</td></tr>",
                            "<tr><td>Why I Am Not a Christian and Other Essays on Religion and Related Subjects</td></tr>",
                            "<tr><td>عقاید یک دلقک</td></tr>",
                            "<tr><td>The I Ching or Book of Changes</td></tr>",
                            "<tr><td>American Vampire, Vol. 1</td></tr>",
                            "<tr><td>Democracy in America </td></tr>",
                            "<tr><td>The Complete Clive Barker's The Great And Secret Show</td></tr>",
                            "<tr><td>House Atreides (Prelude to Dune #1)</td></tr>",
                            "<tr><td>Amerika</td></tr>",
                            "<tr><td>30 Days of Night, Vol. 1</td></tr>",
                            "<tr><td>النبطي</td></tr>",
                            "<tr><td>The Prague Cemetery</td></tr>",
                            "<tr><td>The Portable Atheist: Essential Readings for the Nonbeliever</td></tr>",
                            "<tr><td>Utilitarianism</td></tr>",
                            "<tr><td>Killing Patton: The Strange Death of World War II's Most Audacious General</td></tr>",
                            "<tr><td>The Devotion of Suspect X</td></tr>",
                            "<tr><td>Worst Case (Michael Bennett, #3)</td></tr>",
                            "<tr><td>Pride of Baghdad</td></tr>",
                            "<tr><td>Frosty the Snow Man</td></tr>",
                            "<tr><td>Wildwood (Wildwood Chronicles, #1)</td></tr>",
                            "<tr><td>Serpent Mage (The Death Gate Cycle, #4)</td></tr>",
                            "<tr><td>Kitchen Princess, Vol. 01 (Kitchen Princess, #1)</td></tr>",
                            "<tr><td>Private Games (Private #3)</td></tr>",
                            "<tr><td>Pinkalicious</td></tr>",
                            "<tr><td>The Poetry of Pablo Neruda</td></tr>",
                            "<tr><td>Lady Susan</td></tr>",
                            "<tr><td>The Silver Palate Cookbook</td></tr>",
                            "<tr><td>Wolf Brother (Chronicles of Ancient Darkness, #1)</td></tr>",
                            "<tr><td>Bakuman, Band 1: Traum und Realität</td></tr>",
                            "<tr><td>The Anti-Christ</td></tr>",
                            "<tr><td>Shattered</td></tr>",
                            "<tr><td>Please Look After Mom</td></tr>",
                            "<tr><td>House of M</td></tr>",
                            "<tr><td>Up from Slavery</td></tr>",
                            "<tr><td>Asterix the Gaul (Asterix, #1)</td></tr>",
                            "<tr><td>Peter and the Secret of Rundoon (Peter and the Starcatchers, #3)</td></tr>",
                            "<tr><td>Boys Over Flowers: Hana Yori Dango, Vol. 1 (Boys Over Flowers, #1)</td></tr>",
                            "<tr><td>The Wallflower, Vol. 1 (The Wallflower, #1)</td></tr>",
                            "<tr><td>Rise of the Governor (The Walking Dead #1)</td></tr>",
                            "<tr><td>The Twelve Chairs</td></tr>",
                            "<tr><td>Chicken Soup for the Teenage Soul: 101 Stories of Life, Love and Learning (Chicken Soup for the Soul)</td></tr>",
                            "<tr><td>The Beatles Anthology</td></tr>",
                            "<tr><td>Sex at Dawn: The Prehistoric Origins of Modern Sexuality</td></tr>",
                            "<tr><td>Night World: The Ultimate Fan Guide</td></tr>",
                            "<tr><td>Dragonlance Chronicles (Dragonlance #1-3)</td></tr>",
                            "<tr><td>Fables, Vol. 6: Homelands</td></tr>",
                            "<tr><td>Sex Criminals, Vol. 1: One Weird Trick</td></tr>",
                            "<tr><td>The Rising: Antichrist is Born  (Before They Were Left Behind, #1)</td></tr>",
                            "<tr><td>Loving What Is: Four Questions That Can Change Your Life</td></tr>",
                            "<tr><td>The Whipping Boy</td></tr>",
                            "<tr><td>Short Stories from Hogwarts of Heroism, Hardship and Dangerous Hobbies (Pottermore Presents, #1)</td></tr>",
                            "<tr><td>Pygmalion and Three Other Plays</td></tr>",
                            "<tr><td>The Butlerian Jihad (Legends of Dune, #1)</td></tr>",
                            "<tr><td>The Complete Poetry and Prose</td></tr>",
                            "<tr><td>Death Note, Vol. 2: Confluence (Death Note, #2)</td></tr>",
                            "<tr><td>Akira, Vol. 1</td></tr>",
                            "<tr><td>Gakuen Alice, Vol. 01 (Gakuen Alice, #1)</td></tr>",
                            "<tr><td>The Strange Case of Dr. Jekyll and Mr. Hyde and Other Stories </td></tr>",
                            "<tr><td>The Umbrella Academy, Vol. 1: The Apocalypse Suite</td></tr>",
                            "<tr><td>Ms. Marvel, Vol. 2: Generation Why</td></tr>",
                            "<tr><td>Burn for Burn (Burn for Burn, #1)</td></tr>",
                            "<tr><td>The Glassblower</td></tr>",
                            "<tr><td>Big Red (Big Red, #1)</td></tr>",
                            "<tr><td>Swamp Thing, Vol. 1: Saga of the Swamp Thing</td></tr>",
                            "<tr><td>The Dogs of Riga (Kurt Wallander, #2)</td></tr>",
                            "<tr><td>The Imitation of Christ</td></tr>",
                            "<tr><td>Saga, Vol. 6 (Saga, #6)</td></tr>",
                            "<tr><td>The Enchantress Returns (The Land of Stories, #2)</td></tr>",
                            "<tr><td>Attack of the Fiend (The Last Apprentice / Wardstone Chronicles, #4)</td></tr>",
                            "<tr><td>The Jordan Rules</td></tr>",
                            "<tr><td>Willpower: Rediscovering the Greatest Human Strength</td></tr>",
                            "<tr><td>The Good Soldier</td></tr>",
                            "<tr><td>Into the Labyrinth (The Death Gate Cycle, #6)</td></tr>",
                            "<tr><td>The Berenstain Bears' Trouble at School</td></tr>",
                            "<tr><td>The Talisman (Volume 1): The Road of Trials</td></tr>",
                            "<tr><td>The League of Extraordinary Gentlemen, Vol. 2</td></tr>",
                            "<tr><td>Out</td></tr>",
                            "<tr><td>Tom's Midnight Garden</td></tr>",
                            "<tr><td>What Really Happened in Peru (The Bane Chronicles, #1)</td></tr>",
                            "<tr><td>Grain Brain: The Surprising Truth about Wheat, Carbs,  and Sugar--Your Brain's Silent Killers</td></tr>",
                            "<tr><td>Why Nations Fail: The Origins of Power, Prosperity, and Poverty</td></tr>",
                            "<tr><td>Zorro</td></tr>",
                            "<tr><td>Preacher, Volume 5: Dixie Fried</td></tr>",
                            "<tr><td>The Rainbow</td></tr>",
                            "<tr><td>Preacher, Volume 4: Ancient History</td></tr>",
                            "<tr><td>The Heavenly Man: The Remarkable True Story of Chinese Christian Brother Yun</td></tr>",
                            "<tr><td>Herzog</td></tr>",
                            "<tr><td>The Yacoubian Building</td></tr>",
                            "<tr><td>Martha Stewart's Cookies: The Very Best Treats to Bake and to Share</td></tr>",
                            "<tr><td>Twelve Angry Men</td></tr>",
                            "<tr><td>Batman: Whatever Happened to the Caped Crusader?</td></tr>",
                            "<tr><td>Locke &amp; Key, Vol. 5: Clockworks</td></tr>",
                            "<tr><td>Alice in the Country of Hearts, Vol. 01 (Alice in the Country of Hearts, #1)</td></tr>",
                            "<tr><td>Hamilton: The Revolution</td></tr>",
                            "<tr><td>Out of Oz (The Wicked Years, #4)</td></tr>",
                            "<tr><td>Selected Stories</td></tr>",
                            "<tr><td>The Taste of Home Cookbook</td></tr>",
                            "<tr><td>When Rabbit Howls</td></tr>",
                            "<tr><td>Ghost in the Wires: My Adventures as the World's Most Wanted Hacker</td></tr>",
                            "<tr><td>Cemetery Dance (Pendergast, #9)</td></tr>",
                            "<tr><td>Baudolino</td></tr>",
                            "<tr><td>15th Affair (Women's Murder Club #15)</td></tr>",
                            "<tr><td>A Fish Out of Water</td></tr>",
                            "<tr><td>Locke &amp; Key, Vol. 4: Keys to the Kingdom</td></tr>",
                            "<tr><td>The Jester</td></tr>",
                            "<tr><td>In Real Life</td></tr>",
                            "<tr><td>Jealousy (Strange Angels, #3)</td></tr>",
                            "<tr><td>The Hedge Knight (The Hedge Knight Graphic Novels, #1)</td></tr>",
                            "<tr><td>Inherit the Wind</td></tr>",
                            "<tr><td>This Book Is Not Good for You (Secret, #3)</td></tr>",
                            "<tr><td>Judgment in Death (In Death, #11)</td></tr>",
                            "<tr><td>S.</td></tr>",
                            "<tr><td>رباعيات خيام</td></tr>",
                            "<tr><td>Runaways, Vol. 1: Pride and Joy (Runaways, #1)</td></tr>",
                            "<tr><td>Anne Frank : The Biography</td></tr>",
                            "<tr><td>Sidetracked (Kurt Wallander, #5)</td></tr>",
                            "<tr><td>America's First Daughter</td></tr>",
                            "<tr><td>The Unwritten, Vol. 1: Tommy Taylor and the Bogus Identity</td></tr>",
                            "<tr><td>The History of Sexuality, Volume 1: An Introduction</td></tr>",
                            "<tr><td>Armageddon: The Cosmic Battle of the Ages (Left Behind, #11)</td></tr>",
                            "<tr><td>Van Gogh: The Life</td></tr>",
                            "<tr><td>The Three Little Pigs</td></tr>",
                            "<tr><td>Twenty Years After (The D'Artagnan Romances, #2)</td></tr>",
                            "<tr><td>The Seventh Gate (The Death Gate Cycle, #7)</td></tr>",
                            "<tr><td>The Day Jimmy's Boa Ate the Wash</td></tr>",
                            "<tr><td>White Fire (Pendergast, #13)</td></tr>",
                            "<tr><td>Wir Kinder vom Bahnhof Zoo</td></tr>",
                            "<tr><td>March: Book One (March, #1)</td></tr>",
                            "<tr><td>Everything That Rises Must Converge: Stories</td></tr>",
                            "<tr><td>Malgudi Days</td></tr>",
                            "<tr><td>The Dark Monk (The Hangman's Daughter, #2)</td></tr>",
                            "<tr><td>Artisan Bread in Five Minutes a Day: The Discovery That Revolutionizes Home Baking</td></tr>",
                            "<tr><td>Second Treatise of Government</td></tr>",
                            "<tr><td>The Autobiography of Martin Luther King, Jr.</td></tr>",
                            "<tr><td>Geisha, a Life</td></tr>",
                            "<tr><td>Day Watch (Watch #2)</td></tr>",
                            "<tr><td>Batman, Volume 2: The City of Owls</td></tr>",
                            "<tr><td>SEAL Team Six: Memoirs of an Elite Navy SEAL Sniper</td></tr>",
                            "<tr><td>Five Dialogues: Euthyphro, Apology, Crito, Meno, Phaedo</td></tr>",
                            "<tr><td>Notorious RBG: The Life and Times of Ruth Bader Ginsburg</td></tr>",
                            "<tr><td>The Chase (Fox and O'Hare, #2)</td></tr>",
                            "<tr><td>The Orange Girl</td></tr>",
                            "<tr><td>The House of Thunder</td></tr>",
                            "<tr><td>Witness in Death (In Death, #10)</td></tr>",
                            "<tr><td>Avatar: The Last Airbender (The Rift, #1)</td></tr>",
                            "<tr><td>Superman: Earth One, Volume 1</td></tr>",
                            "<tr><td>Foxe's Book of Martyrs</td></tr>",
                            "<tr><td>Soccernomics: Why England Loses, Why Germany and Brazil Win, and Why the U.S., Japan, Australia, Turkey--and Even Iraq--Are Destined to Become the Kings of the World's Most Popular Sport</td></tr>",
                            "<tr><td>The Feminine Mystique</td></tr>",
                            "<tr><td>Brighton Rock</td></tr>",
                            "<tr><td>Stones Into Schools: Promoting Peace With Books, Not Bombs, in Afghanistan and Pakistan</td></tr>",
                            "<tr><td>Private #1 Suspect (Private, #2)</td></tr>",
                            "<tr><td>The Walking Dead, Vol. 07: The Calm Before</td></tr>",
                            "<tr><td>Preacher, Volume 8: All Hell's a-Coming</td></tr>",
                            "<tr><td>The Little Sisters of Eluria (The Dark Tower, #0.5)</td></tr>",
                            "<tr><td>Inside, Outside, Upside Down (Berenstain Bears Bright and Early Board Book)</td></tr>",
                            "<tr><td>Ignorance</td></tr>",
                            "<tr><td>The Difference Engine </td></tr>",
                            "<tr><td>Preacher, Volume 7: Salvation</td></tr>",
                            "<tr><td>How Will You Measure Your Life?</td></tr>",
                            "<tr><td>The Brothers Lionheart</td></tr>",
                            "<tr><td>Loyalty in Death (In Death, #9)</td></tr>",
                            "<tr><td>نادي السيارات</td></tr>",
                            "<tr><td>The Story of Tracy Beaker</td></tr>",
                            "<tr><td>The Servants of Twilight</td></tr>",
                            "<tr><td>Martin Eden</td></tr>",
                            "<tr><td>Wonder Woman, Volume 1: Blood</td></tr>",
                            "<tr><td>King Henry IV, Part 1 (Wars of the Roses, #2)</td></tr>",
                            "<tr><td>Deadman Wonderland, Volume 1 (Deadman Wonderland, #1)</td></tr>",
                            "<tr><td>Icebound</td></tr>",
                            "<tr><td>Snowmen at Night</td></tr>",
                            "<tr><td>Common Sense, The Rights of Man and Other Essential Writings</td></tr>",
                            "<tr><td>Welcome to Shadowhunter Academy (Tales from the Shadowhunter Academy, #1)</td></tr>",
                            "<tr><td>Going Solo</td></tr>",
                            "<tr><td>Clementine (Clementine, #1)</td></tr>",
                            "<tr><td>Old Possum's Book of Practical Cats</td></tr>",
                            "<tr><td>The Man Who Smiled (Kurt Wallander, #4)</td></tr>",
                            "<tr><td>عابر سرير</td></tr>",
                            "<tr><td>The Complete Phantom of the Opera</td></tr>",
                            "<tr><td>The Unusual Suspects (The Sisters Grimm, #2)</td></tr>",
                            "<tr><td>The Dark Forest (Remembrance of Earth’s Past, #2)</td></tr>",
                            "<tr><td>Cold Vengeance (Pendergast, #11)</td></tr>",
                            "<tr><td>The Eyes of Darkness</td></tr>",
                            "<tr><td>Treachery in Death (In Death, #32)</td></tr>",
                            "<tr><td>The Adventures of Augie March</td></tr>",
                            "<tr><td>Middle School: The Worst Years of My Life (Midde School, #1)</td></tr>",
                            "<tr><td>Every Man Dies Alone</td></tr>",
                            "<tr><td>Betrayal in Death (In Death, #12)</td></tr>",
                            "<tr><td>Man and His Symbols</td></tr>",
                            "<tr><td>Tempt Me at Twilight (The Hathaways, #3)</td></tr>",
                            "<tr><td>The Ice Limit (Ice Limit #1)</td></tr>",
                            "<tr><td>Pnin</td></tr>",
                            "<tr><td>Musashi</td></tr>",
                            "<tr><td>Jar City (Inspector Erlendur, #3)</td></tr>",
                            "<tr><td>Fresh Wind, Fresh Fire: What Happens When God's Spirit Invades the Heart of His People</td></tr>",
                            "<tr><td>Second Honeymoon (Honeymoon, #2)</td></tr>",
                            "<tr><td>Last Chance to See</td></tr>",
                            "<tr><td>Existentialism Is a Humanism</td></tr>",
                            "<tr><td>The Little Match Girl</td></tr>",
                            "<tr><td>Death Note, Vol. 3: Hard Run (Death Note, #3)</td></tr>",
                            "<tr><td>How to Talk So Kids Will Listen &amp; Listen So Kids Will Talk</td></tr>",
                            "<tr><td>Fiddler on the Roof</td></tr>",
                            "<tr><td>Full House (Full #1)</td></tr>",
                            "<tr><td>The Broken Wings</td></tr>",
                            "<tr><td>Two Graves (Pendergast, #12)</td></tr>",
                            "<tr><td>I Am Nujood, Age 10 and Divorced</td></tr>",
                            "<tr><td>The Past Through Tomorrow (Future History, #1-21)</td></tr>",
                            "<tr><td>The Death of Superman</td></tr>",
                            "<tr><td>Fire Sea (The Death Gate Cycle, #3)</td></tr>",
                            "<tr><td>Junie B. Jones and the  Stupid Smelly Bus (Junie B. Jones, #1)</td></tr>",
                            "<tr><td>The Autumn of the Patriarch</td></tr>",
                            "<tr><td>Betsy-Tacy (Betsy-Tacy, #1)</td></tr>",
                            "<tr><td>محال</td></tr>",
                            "<tr><td>Rikki-Tikki-Tavi</td></tr>",
                            "<tr><td>All-Star Superman, Vol. 2</td></tr>",
                            "<tr><td>The World of Ice &amp; Fire: The Untold History of Westeros and the Game of Thrones</td></tr>",
                            "<tr><td>Miracle in the Andes</td></tr>",
                            "<tr><td>The War that Saved My Life (The War That Saved My Life #1)</td></tr>",
                            "<tr><td>Death in Venice and Other Tales</td></tr>",
                            "<tr><td>Cardcaptor Sakura: Master of the Clow, Vol. 1 (Cardcaptor Sakura, #7)</td></tr>",
                            "<tr><td>Samarkand</td></tr>",
                            "<tr><td>All My Sons</td></tr>",
                            "<tr><td>The Littles</td></tr>",
                            "<tr><td>Amelia Bedelia and the Surprise Shower</td></tr>",
                            "<tr><td>The Hand of Chaos (The Death Gate Cycle, #5)</td></tr>",
                            "<tr><td>Measure for Measure</td></tr>",
                            "<tr><td>The Mask</td></tr>",
                            "<tr><td>Tempting the Best Man (Gamble Brothers, #1)</td></tr>",
                            "<tr><td>Transmetropolitan, Vol. 2: Lust for Life (Transmetropolitan, #2)</td></tr>",
                            "<tr><td>Giada's Family Dinners</td></tr>",
                            "<tr><td>Fear and Trembling</td></tr>",
                            "<tr><td>Come Back, Amelia Bedelia</td></tr>",
                            "<tr><td>Relativity: The Special and the General Theory</td></tr>",
                            "<tr><td>The Meaning of Marriage: Facing the Complexities of Commitment with the Wisdom of God</td></tr>",
                            "<tr><td>Batman &amp; Robin: Batman Reborn</td></tr>",
                            "<tr><td>The Flanders Panel</td></tr>",
                            "<tr><td>The Princess and the Pea</td></tr>",
                            "<tr><td>The Short Stories</td></tr>",
                            "<tr><td>Rome (Marked Men, #3)</td></tr>",
                            "<tr><td>The Life and Opinions of Tristram Shandy, Gentleman</td></tr>",
                            "<tr><td>Giraffes Can't Dance</td></tr>",
                            "<tr><td>Tokyo Mew Mew, Vol. 1 (Tokyo Mew Mew, #1)</td></tr>",
                            "<tr><td>Coraline (Illustrated/Graphic Novel Edition)</td></tr>",
                            "<tr><td>Two Treatises of Government</td></tr>",
                            "<tr><td>100 Love Sonnets</td></tr>",
                            "<tr><td>Short Stories from Hogwarts of Power, Politics and Pesky Poltergeists (Pottermore Presents, #2)</td></tr>",
                            "<tr><td>Phenomenology of Spirit</td></tr>",
                            "<tr><td>The Dresden Files:  Storm Front, Volume 1-  The Gathering Storm</td></tr>",
                            "<tr><td>The Long Patrol (Redwall, #10)</td></tr>",
                            "<tr><td>When We Were Very Young (Winnie-the-Pooh, #3)</td></tr>",
                            "<tr><td>سینوهه</td></tr>",
                            "<tr><td>Odd and the Frost Giants</td></tr>",
                            "<tr><td>Season of Migration to the North</td></tr>",
                            "<tr><td>Pacific Vortex! (Dirk Pitt, #1)</td></tr>",
                            "<tr><td>Marching Powder: A True Story of Friendship, Cocaine, and South America's Strangest Jail</td></tr>",
                            "<tr><td>Crisis on Infinite Earths</td></tr>",
                            "<tr><td>Ronia, the Robber's Daughter</td></tr>",
                            "<tr><td>Blood on Snow (Blood on Snow, #1)</td></tr>",
                            "<tr><td>The Magic Thief (Magic Thief, #1)</td></tr>",
                            "<tr><td>Bone: Quest for the Spark, Vol. 1</td></tr>",
                            "<tr><td>Choosing to SEE</td></tr>",
                            "<tr><td>The Unabridged Journals of Sylvia Plath</td></tr>",
                            "<tr><td>Defiance (Strange Angels, #4)</td></tr>",
                            "<tr><td>Batman: Hush, Vol. 2</td></tr>",
                            "<tr><td>Dragon's Oath (House of Night Novellas, #1)</td></tr>",
                            "<tr><td>Ethan Frome and Other Short Fiction</td></tr>",
                            "<tr><td>On the Genealogy of Morals/Ecce Homo</td></tr>",
                            "<tr><td>Onward: How Starbucks Fought for Its Life without Losing Its Soul</td></tr>",
                            "<tr><td>Born in Death (In Death, #23)</td></tr>",
                            "<tr><td>Of Course I Love You...! Till I Find Someone Better...</td></tr>",
                            "<tr><td>درخت زیبای من</td></tr>",
                            "<tr><td>Rebel Spring (Falling Kingdoms, #2)</td></tr>",
                            "<tr><td>NYPD Red 2 (NYPD Red, #2)</td></tr>",
                            "<tr><td>Shakespeare's Romeo and Juliet</td></tr>",
                            "<tr><td>All the Names</td></tr>",
                            "<tr><td>Return (Redemption, #3)</td></tr>",
                            "<tr><td>Fables, Vol. 5: The Mean Seasons</td></tr>",
                            "<tr><td>The Illuminatus! Trilogy</td></tr>",
                            "<tr><td>The Final Solution</td></tr>",
                            "<tr><td>Chew, Vol. 2: International Flavor</td></tr>",
                            "<tr><td>Baking: From My Home to Yours</td></tr>",
                            "<tr><td>Love★Com, Vol. 1</td></tr>",
                            "<tr><td>What to Expect the First Year (What to Expect)</td></tr>",
                            "<tr><td>Finding Nemo</td></tr>",
                            "<tr><td>Calling Doctor Amelia Bedelia</td></tr>",
                            "<tr><td>How Google Works</td></tr>",
                            "<tr><td>Now We Are Six (Winnie-the-Pooh, #4)</td></tr>",
                            "<tr><td>Os Maias</td></tr>",
                            "<tr><td>Fahrenheit 451: The Authorized Adaptation</td></tr>",
                            "<tr><td>All You Need Is Kill</td></tr>",
                            "<tr><td>Mistress</td></tr>",
                            "<tr><td>Discourse on Method</td></tr>",
                            "<tr><td>A Sick Day for Amos McGee</td></tr>",
                            "<tr><td>Tobacco Road (Brown Thrasher Books)</td></tr>",
                            "<tr><td>Stay with Me (Wait for You, #3)</td></tr>",
                            "<tr><td>When the Game Was Ours</td></tr>",
                            "<tr><td>The General in His Labyrinth</td></tr>",
                            "<tr><td>The Pale King</td></tr>",
                            "<tr><td>The Analects</td></tr>",
                            "<tr><td>I'm with the Band: Confessions of a Groupie</td></tr>",
                            "<tr><td>The Walking Dead, Vol. 09: Here We Remain</td></tr>",
                            "<tr><td>The Leopard</td></tr>",
                            "<tr><td>Wolverine: Origin</td></tr>",
                            "<tr><td>On the Prowl (Alpha &amp; Omega, #0.5)</td></tr>",
                            "<tr><td>The Dirty Girls Social Club (Dirty Girls, #1)</td></tr>",
                            "<tr><td>Black Butler, Vol. 2 (Black Butler, #2)</td></tr>",
                            "<tr><td>Addicted to You (Addicted, #1)</td></tr>",
                            "<tr><td>The Fire (Witch &amp; Wizard, #3)</td></tr>",
                            "<tr><td>Sadako and the Thousand Paper Cranes</td></tr>",
                            "<tr><td>Death Note, Vol. 4: Love (Death Note, #4)</td></tr>",
                            "<tr><td>Slowness</td></tr>",
                            "<tr><td>The Walking Dead, Vol. 11: Fear the Hunters</td></tr>",
                            "<tr><td>Twilight Watch (Watch #3)</td></tr>",
                            "<tr><td>Low Pressure</td></tr>",
                            "<tr><td>Riptide</td></tr>",
                            "<tr><td>King Arthur and His Knights: Selected Tales</td></tr>",
                            "<tr><td>رباعيات صلاح جاهين</td></tr>",
                            "<tr><td>The Wings of the Dove</td></tr>",
                            "<tr><td>The Hidden Messages in Water</td></tr>",
                            "<tr><td>Seeing</td></tr>",
                            "<tr><td>Gifted Hands: The Ben Carson Story</td></tr>",
                            "<tr><td>The Little Old Lady Who Was Not Afraid of Anything</td></tr>",
                            "<tr><td>Sheep in a Jeep</td></tr>",
                            "<tr><td>The Kreutzer Sonata</td></tr>",
                            "<tr><td>The Magic Mirror of M.C. Escher</td></tr>",
                            "<tr><td>Vampire Knight, Vol. 9</td></tr>",
                            "<tr><td>The Walking Dead, Compendium 2</td></tr>",
                            "<tr><td>The 22 Immutable Laws of Marketing: Violate Them at Your Own Risk</td></tr>",
                            "<tr><td>The One Thing: The Surprisingly Simple Truth Behind Extraordinary Results</td></tr>",
                            "<tr><td>Double Act</td></tr>",
                            "<tr><td>The Sandman: King of Dreams</td></tr>",
                            "<tr><td>Stephen King's N.</td></tr>",
                            "<tr><td>The Light of the Fireflies</td></tr>",
                            "<tr><td>The Long War (The Long Earth, #2)</td></tr>",
                            "<tr><td>The America's Test Kitchen Family Cookbook</td></tr>",
                            "<tr><td>The Boy Who Harnessed the Wind: Creating Currents of Electricity and Hope</td></tr>",
                            "<tr><td>Mr. Kiss and Tell (Veronica Mars, #2)</td></tr>",
                            "<tr><td>A Higher Call: An Incredible True Story of Combat and Chivalry in the War-Torn Skies of World War II</td></tr>",
                            "<tr><td>The Sandman: The Dream Hunters</td></tr>",
                            "<tr><td>Phantoms in the Brain: Probing the Mysteries of the Human Mind</td></tr>",
                            "<tr><td>Live from New York: An Uncensored History of Saturday Night Live</td></tr>",
                            "<tr><td>Great by Choice: Uncertainty, Chaos, and Luck--Why Some Thrive Despite Them All</td></tr>",
                            "<tr><td>Vampire Academy: The Graphic Novel (Vampire Academy: The Graphic Novel, #1)</td></tr>",
                            "<tr><td>Time for Bed</td></tr>",
                            "<tr><td>Very Good Lives: The Fringe Benefits of Failure and the Importance of Imagination</td></tr>",
                            "<tr><td>I, Michael Bennett (Michael Bennett, #5)</td></tr>",
                            "<tr><td>Vegan Cupcakes Take Over the World: 75 Dairy-Free Recipes for Cupcakes that Rule</td></tr>",
                            "<tr><td>Ender's Game, Volume 2: Command School</td></tr>",
                            "<tr><td>ESV Study Bible</td></tr>",
                            "<tr><td>Auschwitz: A Doctor's Eyewitness Account</td></tr>",
                            "<tr><td>The Saggy Baggy Elephant (A Little Golden Book)</td></tr>",
                            "<tr><td>Sentimental Education</td></tr>",
                            "<tr><td>Happy, Happy, Happy</td></tr>",
                            "<tr><td>Priestess of Avalon (Avalon, #4)</td></tr>",
                            "<tr><td>Fruits Basket, Vol. 7</td></tr>",
                            "<tr><td>What Every Body is Saying: An Ex-FBI Agent's Guide to Speed-Reading People</td></tr>",
                            "<tr><td>Sweeney Todd: The Demon Barber of Fleet Street</td></tr>",
                            "<tr><td>Silence</td></tr>",
                            "<tr><td>The Five Love Languages of Children</td></tr>",
                            "<tr><td>Washington Square</td></tr>",
                            "<tr><td>On Becoming a Person: A Therapist's View of Psychotherapy</td></tr>",
                            "<tr><td>Kare Kano: His and Her Circumstances, Vol. 1</td></tr>",
                            "<tr><td>NYPD Red 3 (NYPD Red, #3)</td></tr>",
                            "<tr><td>Paper Girls, Vol. 1 (Paper Girls, #1)</td></tr>",
                            "<tr><td>The Wretched of the Earth</td></tr>",
                            "<tr><td>Secrets of the Vine: Breaking Through to Abundance</td></tr>",
                            "<tr><td>Anne Frank's Tales from the Secret Annex</td></tr>",
                            "<tr><td>Girls' Night In</td></tr>",
                            "<tr><td>The Gift of Therapy: An Open Letter to a New Generation of Therapists and Their Patients</td></tr>",
                            "<tr><td>House Harkonnen (Prelude to Dune #2)</td></tr>",
                            "<tr><td>FRUiTS</td></tr>",
                            "<tr><td>1Q84 #1-2 (1Q84, #1-2)</td></tr>",
                            "<tr><td>Absent In The Spring</td></tr>",
                            "<tr><td>The Smartest Guys in the Room: The Amazing Rise and Scandalous Fall of Enron</td></tr>",
                            "<tr><td>Mount Dragon</td></tr>",
                            "<tr><td>The Face of Fear</td></tr>",
                            "<tr><td>Gone (Michael Bennett, #6)</td></tr>",
                            "<tr><td>Fables, Vol. 8: Wolves</td></tr>",
                            "<tr><td>The Walking Dead, Vol. 14: No Way Out</td></tr>",
                            "<tr><td>The Walking Dead, Book Two (The Walking Dead #13-24)</td></tr>",
                            "<tr><td>Cosmicomics</td></tr>",
                            "<tr><td>Nothing</td></tr>",
                            "<tr><td>Sleeping Beauty Box Set</td></tr>",
                            "<tr><td>100 Bullets, Vol. 1: First Shot, Last Call</td></tr>",
                            "<tr><td>The Tail of Emily Windsnap (Emily Windsnap, #1)</td></tr>",
                            "<tr><td>The Absolute Sandman, Volume One</td></tr>",
                            "<tr><td>The Walking Dead, Book Three (The Walking Dead #25-36)</td></tr>",
                            "<tr><td>The Woman in the Dunes</td></tr>",
                            "<tr><td>Aunt Julia and the Scriptwriter</td></tr>",
                            "<tr><td>Transmetropolitan, Vol. 3: Year of the Bastard (Transmetropolitan, #3)</td></tr>",
                            "<tr><td>A Severe Mercy: A Story of Faith, Tragedy and Triumph</td></tr>",
                            "<tr><td>The Forest House (Avalon, #2)</td></tr>",
                            "<tr><td>This Star Won't Go Out: The Life and Words of Esther Grace Earl</td></tr>",
                            "<tr><td>Story of O (Story of O #1)</td></tr>",
                            "<tr><td>Pygmalion &amp; My Fair Lady</td></tr>",
                            "<tr><td>Wanted</td></tr>",
                            "<tr><td>Death Note, Vol. 8: Target (Death Note, #8)</td></tr>",
                            "<tr><td>X-Men: The Dark Phoenix Saga</td></tr>",
                            "<tr><td>Manufacturing Consent: The Political Economy of the Mass Media</td></tr>",
                            "<tr><td>Pippi in the South Seas</td></tr>",
                            "<tr><td>The Complete Poems</td></tr>",
                            "<tr><td>The Problem Child (The Sisters Grimm, #3)</td></tr>",
                            "<tr><td>Desert Flower</td></tr>",
                            "<tr><td>In Search of Excellence: Lessons from America's Best-Run Companies</td></tr>",
                            "<tr><td>First Love</td></tr>",
                            "<tr><td>The Batman Chronicles, Vol. 1</td></tr>",
                            "<tr><td>The Last Question</td></tr>",
                            "<tr><td>Henderson the Rain King</td></tr>",
                            "<tr><td>Red Riding Hood</td></tr>",
                            "<tr><td>The Giraffe and the Pelly and Me</td></tr>",
                            "<tr><td>I Wrote This For You</td></tr>",
                            "<tr><td>Barefoot in Paris</td></tr>",
                            "<tr><td>The Little Mermaid</td></tr>",
                            "<tr><td>The Tale of Three Trees</td></tr>",
                            "<tr><td>The Sacred Romance Drawing Closer To The Heart Of God</td></tr>",
                            "<tr><td>Selected Poems</td></tr>",
                            "<tr><td>The Woodlanders</td></tr>",
                            "<tr><td>The Book of Disquiet</td></tr>",
                            "<tr><td>Batman: Earth One, Volume 1</td></tr>",
                            "<tr><td>Some Assembly Required: A Journal of My Son's First Son</td></tr>",
                            "<tr><td>Blue Labyrinth (Pendergast, #14)</td></tr>",
                            "<tr><td>Once Upon a Crime (The Sisters Grimm, #4)</td></tr>",
                            "<tr><td>Fables, Vol. 9: Sons of Empire</td></tr>",
                            "<tr><td>The Fannie Farmer Cookbook: Anniversary</td></tr>",
                            "<tr><td>Tintin in the Land of the Soviets (Tintin #1)</td></tr>",
                            "<tr><td>Graffiti World: Street Art from Five Continents</td></tr>",
                            "<tr><td>Bloodlust (The Vampire Diaries: Stefan's Diaries, #2)</td></tr>",
                            "<tr><td>Exit to Eden</td></tr>",
                            "<tr><td>Percy Jackson &amp; the Olympians:  The Ultimate Guide</td></tr>",
                            "<tr><td>The Complete Guide to Middle-Earth</td></tr>",
                            "<tr><td>The Awakening and Selected Stories</td></tr>",
                            "<tr><td>One Step Behind  (Kurt Wallander, #7)</td></tr>",
                            "<tr><td>Batman and Son</td></tr>",
                            "<tr><td>Magic and Other Misdemeanors (The Sisters Grimm, #5)</td></tr>",
                            "<tr><td>Run Baby Run</td></tr>",
                            "<tr><td>The Talent Code: Unlocking the Secret of Skill in Sports, Art, Music, Math, and Just About Everything Else</td></tr>",
                            "<tr><td>Dragons of Summer Flame (Dragonlance: The Second Generation, #2)</td></tr>",
                            "<tr><td>Death Note, Vol. 5: Whiteout (Death Note, #5)</td></tr>",
                            "<tr><td>Mrs. Mike (Mrs. Mike, #1)</td></tr>",
                            "<tr><td>The Secret Race: Inside the Hidden World of the Tour de France: Doping, Cover-ups, and Winning at All Costs</td></tr>",
                            "<tr><td>Ripper</td></tr>",
                            "<tr><td>Hello, Cupcake</td></tr>",
                            "<tr><td>The New Bedside, Bathtub and Armchair Companion to Agatha Christie</td></tr>",
                            "<tr><td>A Night to Remember</td></tr>",
                            "<tr><td>That Old Cape Magic</td></tr>",
                            "<tr><td>The Second Assistant: A Tale from the Bottom of the Hollywood Ladder</td></tr>",
                            "<tr><td>Martin Chuzzlewit</td></tr>",
                            "<tr><td>Embroideries</td></tr>",
                            "<tr><td>Harry, a History: The True Story of a Boy Wizard, His Fans, and Life Inside the Harry Potter Phenomenon</td></tr>",
                            "<tr><td>A Wrinkle in Time: The Graphic Novel</td></tr>",
                            "<tr><td>The White Lioness (Kurt Wallander, #3)</td></tr>",
                            "<tr><td>Elven Star (The Death Gate Cycle, #2)</td></tr>",
                            "<tr><td>Philosophical Investigations</td></tr>",
                            "<tr><td>Our Dumb Century: The Onion Presents 100 Years of Headlines from America's Finest News Source</td></tr>",
                            "<tr><td>The Survivor (Mitch Rapp, #14)</td></tr>",
                            "<tr><td>Yotsuba&amp;!, Vol. 01 (Yotsuba&amp;! #1)</td></tr>",
                            "<tr><td>Black Elk Speaks: Being the Life Story of a Holy Man of the Oglala Sioux</td></tr>",
                            "<tr><td>Batman: Hush, Vol. 1</td></tr>",
                            "<tr><td>Courageous</td></tr>",
                            "<tr><td>The Magician's Elephant</td></tr>",
                            "<tr><td>قمر على سمرقند</td></tr>",
                            "<tr><td>Jack: Straight from the Gut</td></tr>",
                            "<tr><td>Life is Elsewhere</td></tr>",
                            "<tr><td>Glorious Appearing: The End of Days (Left Behind, #12)</td></tr>",
                            "<tr><td>Metaphysics</td></tr>",
                            "<tr><td>The Relatives Came</td></tr>",
                            "<tr><td>The Element: How Finding Your Passion Changes Everything</td></tr>",
                            "<tr><td>Agnes and the Hitman</td></tr>",
                            "<tr><td>Logicomix: An epic search for truth</td></tr>",
                            "<tr><td>Buddenbrooks: The Decline of a Family</td></tr>",
                            "<tr><td>The Christmas Wedding</td></tr>",
                            "<tr><td>The Sea, the Sea</td></tr>",
                            "<tr><td>The House of God</td></tr>",
                            "<tr><td>Last Train to Istanbul</td></tr>",
                            "<tr><td>The Gulag Archipelago 1918-1956</td></tr>",
                            "<tr><td>Baltasar and Blimunda</td></tr>",
                            "<tr><td>The Cake Bible</td></tr>",
                            "<tr><td>A New Hope  (Star Wars: Novelizations #4)</td></tr>",
                            "<tr><td>The Invisible Gorilla: And Other Ways Our Intuitions Deceive Us</td></tr>",
                            "<tr><td>Rejoice (Redemption, #4)</td></tr>",
                            "<tr><td>Tintin in Tibet (Tintin, #20)</td></tr>",
                            "<tr><td>Firewall (Wallander, #8)</td></tr>",
                            "<tr><td>Tales From the Hood (The Sisters Grimm, #6)</td></tr>",
                            "<tr><td>Mutiny on the Bounty (The Bounty Trilogy, #1)</td></tr>",
                            "<tr><td>What the Bleep Do We Know!?: Discovering the Endless Possibilities for Altering Your Everyday Reality</td></tr>",
                            "<tr><td>Mary Barton</td></tr>",
                            "<tr><td>Death Note, Vol. 7: Zero (Death Note, #7)</td></tr>",
                            "<tr><td>Eugénie Grandet</td></tr>",
                            "<tr><td>Essentials of Classic Italian Cooking</td></tr>",
                            "<tr><td>Silence of the Grave (Inspector Erlendur #4)</td></tr>",
                            "<tr><td>Killing Reagan: The Violent Assault That Changed a Presidency</td></tr>",
                            "<tr><td>The Girl Who Was on Fire: Your Favorite Authors on Suzanne Collins' Hunger Games Trilogy</td></tr>",
                            "<tr><td>A Bargain for Frances</td></tr>",
                            "<tr><td>Gonzo: The Life of Hunter S. Thompson</td></tr>",
                            "<tr><td>Vampire Knight, Vol. 4 (Vampire Knight, #4)</td></tr>",
                            "<tr><td>Train Dreams</td></tr>",
                            "<tr><td>Art in Theory 1900 - 2000: An Anthology of Changing Ideas</td></tr>",
                            "<tr><td>Press Here</td></tr>",
                            "<tr><td>The Lady of Shalott</td></tr>",
                            "<tr><td>On the Genealogy of Morals</td></tr>",
                            "<tr><td>Hellblazer: Original Sins</td></tr>",
                            "<tr><td>Happy Accidents: A Memoir</td></tr>",
                            "<tr><td>The 13½ Lives of Captain Bluebear (Zamonia, #1)</td></tr>",
                            "<tr><td>Billions &amp; Billions: Thoughts on Life and Death at the Brink of the Millennium</td></tr>",
                            "<tr><td>The Twelve Caesars</td></tr>",
                            "<tr><td>حوجن [Ḥawjan]</td></tr>",
                            "<tr><td>Rival (Fall Away, #2)</td></tr>",
                            "<tr><td>Private London (Private #4)</td></tr>",
                            "<tr><td>I Love You Through and Through</td></tr>",
                            "<tr><td>Justice, Volume 1</td></tr>",
                            "<tr><td>The Wind Singer (Wind on Fire, #1)</td></tr>",
                            "<tr><td>Gentlemen of the Road</td></tr>",
                            "<tr><td>Those Guys Have All the Fun: Inside the World of ESPN</td></tr>",
                            "<tr><td>Through My Eyes</td></tr>",
                            "<tr><td>Locke &amp; Key, Vol. 6: Alpha &amp; Omega</td></tr>",
                            "<tr><td>The Country Mouse and the City Mouse; The Fox and the Crow; The Dog and His Bone</td></tr>",
                            "<tr><td>If You Give a Cat a Cupcake</td></tr>",
                            "<tr><td>The Rainbow Comes and Goes: A Mother and Son On Life, Love, and Loss</td></tr>",
                            "<tr><td>Having Our Say: The Delany Sisters' First 100 Years</td></tr>",
                            "<tr><td>Reunion (Redemption, #5)</td></tr>",
                            "<tr><td>Thérèse Raquin</td></tr>",
                            "<tr><td>The King in Yellow and Other Horror Stories</td></tr>",
                            "<tr><td>The Virtue of Selfishness: A New Concept of Egoism</td></tr>",
                            "<tr><td>Resurrection</td></tr>",
                            "<tr><td>The Job (Fox and O'Hare, #3)</td></tr>",
                            "<tr><td>Night Train to Lisbon</td></tr>",
                            "<tr><td>Waiter Rant: Thanks for the Tip-Confessions of a Cynical Waiter</td></tr>",
                            "<tr><td>Dead or Alive (Jack Ryan Universe, #13)</td></tr>",
                            "<tr><td>Lies Women Believe: And the Truth that Sets Them Free</td></tr>",
                            "<tr><td>Palestine</td></tr>",
                            "<tr><td>Dear Theo</td></tr>",
                            "<tr><td>Star Wars - Episode I: The Phantom Menace</td></tr>",
                            "<tr><td>Avatar: The Last Airbender (The Promise, #2)</td></tr>",
                            "<tr><td>Little Bear's Friend</td></tr>",
                            "<tr><td>رأيت رام الله</td></tr>",
                            "<tr><td>Lady of Avalon (Avalon, #3)</td></tr>",
                            "<tr><td>Threat Vector (Jack Ryan Universe, #15)</td></tr>",
                            "<tr><td>Miles: The Autobiography</td></tr>",
                            "<tr><td>Full Tilt (Full #2)</td></tr>",
                            "<tr><td>The Machine Crusade (Legends of Dune, #2)</td></tr>",
                            "<tr><td>The Annotated Sherlock Holmes: The Four Novels and the Fifty-Six Short Stories Complete (2 Volume Set)</td></tr>",
                            "<tr><td>Cocky Bastard</td></tr>",
                            "<tr><td>The Dangerous Days of Daniel X (Daniel X, #1)</td></tr>",
                            "<tr><td>The Hidden Child (Patrik Hedström, #5)</td></tr>",
                            "<tr><td>Snow Country</td></tr>",
                            "<tr><td>The House of the Dead</td></tr>",
                            "<tr><td>Story of the Eye</td></tr>",
                            "<tr><td>The Selected Poetry of Rainer Maria Rilke</td></tr>",
                            "<tr><td>The Story of a Shipwrecked Sailor</td></tr>",
                            "<tr><td>Planetary, Volume 1: All Over the World and Other Stories</td></tr>",
                            "<tr><td>Assata: An Autobiography</td></tr>",
                            "<tr><td>The Three Billy Goats Gruff</td></tr>",
                            "<tr><td>The Moonlit Garden</td></tr>",
                            "<tr><td>Passing</td></tr>",
                            "<tr><td>InterWorld (InterWorld, #1)</td></tr>",
                            "<tr><td>Last Words</td></tr>",
                            "<tr><td>Mrs. Piggle-Wiggle's Magic (Mrs. Piggle Wiggle, #2)</td></tr>",
                            "<tr><td>Revolting Rhymes</td></tr>",
                            "<tr><td>The Great Brain (Great Brain #1)</td></tr>",
                            "<tr><td>The Lady &amp; Sons Savannah Country Cookbook</td></tr>",
                            "<tr><td>No One Writes to the Colonel and Other Stories</td></tr>",
                            "<tr><td>Transmetropolitan, Vol. 5: Lonely City (Transmetropolitan, #5)</td></tr>",
                            "<tr><td>The Climb: Tragic Ambitions on Everest</td></tr>",
                            "<tr><td>Fruits Basket, Vol. 2</td></tr>",
                            "<tr><td>The Paris Vendetta (Cotton Malone, #5)</td></tr>",
                            "<tr><td>Richard II</td></tr>",
                            "<tr><td>Selected Poems</td></tr>",
                            "<tr><td>Hunting and Gathering</td></tr>",
                            "<tr><td>One Up On Wall Street: How To Use What You Already Know To Make Money In The Market</td></tr>",
                            "<tr><td>Mother Courage and Her Children</td></tr>",
                            "<tr><td>Extra Yarn (E. B. White Read-Aloud Award. Picture Books)</td></tr>",
                            "<tr><td>The Faerie Queene </td></tr>",
                            "<tr><td>Each Peach Pear Plum</td></tr>",
                            "<tr><td>The Phoenix Project: A Novel About IT, DevOps, and Helping Your Business Win</td></tr>",
                            "<tr><td>The Chronicles of Harris Burdick: 14 Amazing Authors Tell the Tales</td></tr>",
                            "<tr><td>The Freedom Writers Diary</td></tr>",
                            "<tr><td>The Ladies of Grace Adieu and Other Stories</td></tr>",
                            "<tr><td>Lady Cottington's Pressed Fairy Book</td></tr>",
                            "<tr><td>Paradiso (The Divine Comedy, #3)</td></tr>",
                            "<tr><td>Take This Regret (Take This Regret, #1)</td></tr>",
                            "<tr><td>Footfall</td></tr>",
                            "<tr><td>Four Great Tragedies: Hamlet / Othello / King Lear / Macbeth</td></tr>",
                            "<tr><td>I've Got You Under My Skin (Under Suspicion, #1)</td></tr>",
                            "<tr><td>Fables, Vol. 10: The Good Prince</td></tr>",
                            "<tr><td>Red Phoenix (Red Phoenix #1)</td></tr>",
                            "<tr><td>Shadow Fires</td></tr>",
                            "<tr><td>The Blood Gospel (The Order of the Sanguines, #1)</td></tr>",
                            "<tr><td>The Troubled Man (Kurt Wallander, #10)</td></tr>",
                            "<tr><td>The Work of Art in the Age of Its Technological Reproducibility, and Other Writings on Media</td></tr>",
                            "<tr><td>Going Rogue: An American Life</td></tr>",
                            "<tr><td>The Cake Mix Doctor</td></tr>",
                            "<tr><td>My Life with the Walter Boys (My Life with the Walter Boys #1)</td></tr>",
                            "<tr><td>Positioning: The Battle for Your Mind: How to Be Seen and Heard in the Overcrowded Marketplace</td></tr>",
                            "<tr><td>Lost</td></tr>",
                            "<tr><td>A Grimm Warning (The Land of Stories, #3)</td></tr>",
                            "<tr><td>The Pragmatic Programmer: From Journeyman to Master</td></tr>",
                            "<tr><td>Drop City</td></tr>",
                            "<tr><td>Y: The Last Man - The Deluxe Edition Book One</td></tr>",
                            "<tr><td>Alert (Michael Bennett, #8)</td></tr>",
                            "<tr><td>Vampire Chronicles: Interview with the Vampire, The Vampire Lestat, The Queen of the Damned (Anne Rice)</td></tr>",
                            "<tr><td>The Berenstain Bears Forget Their Manners</td></tr>",
                            "<tr><td>The Infernal Devices: Clockwork Angel (The Infernal Devices: Manga, #1)</td></tr>",
                            "<tr><td>The Lord of the Rings Sketchbook</td></tr>",
                            "<tr><td>Don't Blink</td></tr>",
                            "<tr><td>Shadows over Innsmouth</td></tr>",
                            "<tr><td>Flat Stanley (Flat Stanley, #1)</td></tr>",
                            "<tr><td>The Knight at Dawn (Magic Tree House, #2)</td></tr>",
                            "<tr><td>Death Note, Vol. 6: Give-and-Take (Death Note, #6)</td></tr>",
                            "<tr><td>The Lightning Thief: The Graphic Novel (Percy Jackson and the Olympians, #1)</td></tr>",
                            "<tr><td>Mrs. Kennedy and Me: An Intimate Memoir</td></tr>",
                            "<tr><td>The Bad Seed</td></tr>",
                            "<tr><td>Gideon's Sword (Gideon Crew, #1)</td></tr>",
                            "<tr><td>George Washington's Secret Six: The Spy Ring That Saved the American Revolution</td></tr>",
                            "<tr><td>Pinocchio</td></tr>",
                            "<tr><td>The Complete Short Novels</td></tr>",
                            "<tr><td>The Berenstain Bears Go to School</td></tr>",
                            "<tr><td>Superman for All Seasons</td></tr>",
                            "<tr><td>La casa de Bernarda Alba</td></tr>",
                            "<tr><td>Streams in the Desert</td></tr>",
                            "<tr><td>The Shadowhunter's Codex</td></tr>",
                            "<tr><td>How to Make Love Like a Porn Star: A Cautionary Tale</td></tr>",
                            "<tr><td>Lyra's Oxford (His Dark Materials, #3.5)</td></tr>",
                            "<tr><td>Private Berlin (Private #5)</td></tr>",
                            "<tr><td>Amazing Grace</td></tr>",
                            "<tr><td>The Redemption of Althalus</td></tr>",
                            "<tr><td>Skin Deep (Legion, #2)</td></tr>",
                            "<tr><td>Hector and the Search for Happiness</td></tr>",
                            "<tr><td>Underground: The Tokyo Gas Attack and the Japanese Psyche</td></tr>",
                            "<tr><td>The Voice of the Night</td></tr>",
                            "<tr><td>The Double</td></tr>",
                            "<tr><td>Batman: No Man's Land, Vol. 1</td></tr>",
                            "<tr><td>The End of Poverty</td></tr>",
                            "<tr><td>Fables, Vol. 7: Arabian Nights [and Days] (Fables, #7)</td></tr>",
                            "<tr><td>Bone: Tall Tales</td></tr>",
                            "<tr><td>The Fourteenth Goldfish</td></tr>",
                            "<tr><td>Tawny Scrawny Lion</td></tr>",
                            "<tr><td>Superman: Birthright</td></tr>",
                            "<tr><td>Curious George Visits the Library</td></tr>",
                            "<tr><td>A Little History of the World</td></tr>",
                            "<tr><td>Fruits Basket, Vol. 4</td></tr>",
                            "<tr><td>Palace Walk (The Cairo Trilogy #1)</td></tr>",
                            "<tr><td>Wicked - Piano/Vocal Arrangement</td></tr>",
                            "<tr><td>Too Busy Not to Pray: Slowing Down to Be With God</td></tr>",
                            "<tr><td>See You at the Top</td></tr>",
                            "<tr><td>Agamemnon (Oresteia, #1)</td></tr>",
                            "<tr><td>Harry Potter and Philosophy: If Aristotle Ran Hogwarts</td></tr>",
                            "<tr><td>Redeemed (House of Night, #12)</td></tr>",
                            "<tr><td>Batman: The Dark Knight Strikes Again (The Dark Knight Saga, #2)</td></tr>",
                            "<tr><td>The Drama of the Gifted Child: The Search for the True Self</td></tr>",
                            "<tr><td>Mythologies</td></tr>",
                            "<tr><td>Poetics</td></tr>",
                            "<tr><td>Groundwork of the Metaphysics of Morals</td></tr>",
                            "<tr><td>Crimson Shore (Pendergast, #15)</td></tr>",
                            "<tr><td>Burn (Michael Bennett, #7)</td></tr>",
                            "<tr><td>Naïve. Super</td></tr>",
                            "<tr><td>キスよりも早く1 [Kisu Yorimo Hayaku 1] (Faster than a Kiss #1)</td></tr>",
                            "<tr><td>Lenobia's Vow (House of Night Novellas, #2)</td></tr>",
                            "<tr><td>Diary ng Panget</td></tr>",
                            "<tr><td>Si-cology 1: Tales and Wisdom from Duck Dynasty’s Favorite Uncle</td></tr>",
                            "<tr><td>My Brother Sam Is Dead</td></tr>",
                            "<tr><td>Belinda</td></tr>",
                            "<tr><td>Babe: The Gallant Pig</td></tr>",
                            "<tr><td>Influencer: The Power to Change Anything</td></tr>",
                            "<tr><td>The Dragonslayer (Bone, #4)</td></tr>",
                            "<tr><td>Meet Samantha: An American Girl (American Girls: Samantha, #1)</td></tr>",
                            "<tr><td>Batwoman: Elegy</td></tr>",
                            "<tr><td>Avatar Volume 1: The Last Airbender (Avatar #1)</td></tr>",
                            "<tr><td>Rogues</td></tr>",
                            "<tr><td>The Boy Who Came Back from Heaven: A Remarkable Account of Miracles, Angels, and Life beyond This World</td></tr>",
                            "<tr><td>The Sound of Things Falling</td></tr>",
                            "<tr><td>Johnny Mnemonic</td></tr>",
                            "<tr><td>Amusing Ourselves to Death: Public Discourse in the Age of Show Business</td></tr>",
                            "<tr><td>Wonderful Tonight</td></tr>",
                            "<tr><td>Tunnels (Tunnels, #1)</td></tr>",
                            "<tr><td>The Incredible Hulk: Planet Hulk</td></tr>",
                            "<tr><td>Rama Revealed (Rama, #4)</td></tr>",
                            "<tr><td>The Old Curiosity Shop</td></tr>",
                            "<tr><td>Fruits Basket, Vol. 14</td></tr>",
                            "<tr><td>Hawkeye, Volume 2: Little Hits</td></tr>",
                            "<tr><td>Hands Of Light</td></tr>",
                            "<tr><td>A Series of Unfortunate Events Box: The Complete Wreck (Books 1-13)</td></tr>",
                            "<tr><td>Ultimate Spider-Man, Volume 1: Power and Responsibility</td></tr>",
                            "<tr><td>One, Two, Buckle My Shoe (Hercule Poirot, #22)</td></tr>",
                            "<tr><td>Gemina (The Illuminae Files, #2)</td></tr>",
                            "<tr><td>Lorna Doone</td></tr>",
                            "<tr><td>The Clocks (Hercule Poirot, #34)</td></tr>",
                            "<tr><td>Manga Classics: Les Misérables</td></tr>",
                            "<tr><td>The Beggar King (The Hangman's Daughter, #3)</td></tr>",
                            "<tr><td>The Nightmare (Joona Linna, #2)</td></tr>",
                            "<tr><td>The Secret Art of Dr. Seuss</td></tr>",
                            "<tr><td>Among the Mad (Maisie Dobbs, #6)</td></tr>",
                            "<tr><td>In the Miso Soup</td></tr>",
                            "<tr><td>Beyond Band of Brothers: The War Memoirs of Major Dick Winters</td></tr>",
                            "<tr><td>The Marvelous Land of Oz (Oz, #2)</td></tr>",
                            "<tr><td>Fruits Basket, Vol. 15</td></tr>",
                            "<tr><td>The Wave</td></tr>",
                            "<tr><td>The Cinderella Murder (Under Suspicion, #2)</td></tr>",
                            "<tr><td>Gargantua and Pantagruel</td></tr>",
                            "<tr><td>Attack on Titan: No Regrets, Volume 01</td></tr>",
                            "<tr><td>The Carrot Seed</td></tr>",
                            "<tr><td>Riding the Bullet</td></tr>",
                            "<tr><td>The Nose</td></tr>",
                            "<tr><td>The Society of the Spectacle</td></tr>",
                            "<tr><td>The Medium is the Massage</td></tr>",
                            "<tr><td>Berserk, Vol. 1 (Berserk, #1)</td></tr>",
                            "<tr><td>The Seven Storey Mountain</td></tr>",
                            "<tr><td>Gathering Darkness (Falling Kingdoms, #3)</td></tr>",
                            "<tr><td>The Force Awakens (Star Wars)</td></tr>",
                            "<tr><td>Superman: Whatever Happened to the Man of Tomorrow?</td></tr>",
                            "<tr><td>Essays and Poems</td></tr>",
                            "<tr><td>Innocent Erendira and Other Stories</td></tr>",
                            "<tr><td>The Charterhouse of Parma</td></tr>",
                            "<tr><td>Snowflake Bentley</td></tr>",
                            "<tr><td>Cradle to Cradle: Remaking the Way We Make Things</td></tr>",
                            "<tr><td>Transmetropolitan, Vol. 4: The New Scum (Transmetropolitan, #4)</td></tr>",
                            "<tr><td>The Man Who Listens to Horses</td></tr>",
                            "<tr><td>Holy Blood, Holy Grail</td></tr>",
                            "<tr><td>Falling Man</td></tr>",
                            "<tr><td>The Calling (Endgame, #1)</td></tr>",
                            "<tr><td>The Man from Beijing</td></tr>",
                            "<tr><td>Against All Enemies (Max Moore, #1)</td></tr>",
                            "<tr><td>My Lady Jane (The Lady Janies, #1)</td></tr>",
                            "<tr><td>Ethics</td></tr>",
                            "<tr><td>The Elvenbane (Halfblood Chronicles, #1)</td></tr>",
                            "<tr><td>The Midnight Palace (Niebla, #2)</td></tr>",
                            "<tr><td>DC: The New Frontier, Volume 1</td></tr>",
                            "<tr><td>Hello, Mrs. Piggle-Wiggle (Mrs. Piggle Wiggle, #4)</td></tr>",
                            "<tr><td>Judy Moody (Judy Moody, # 1)</td></tr>",
                            "<tr><td>The Gay Science</td></tr>",
                            "<tr><td>Trump: The Art of the Deal</td></tr>",
                            "<tr><td>Fruits Basket, Vol. 3</td></tr>",
                            "<tr><td>House Corrino (Prelude to Dune #3)</td></tr>",
                            "<tr><td>Tempting the Player (Gamble Brothers, #2)</td></tr>",
                            "<tr><td>The Upanishads: Translations from the Sanskrit</td></tr>",
                            "<tr><td>Happier at Home: Kiss More, Jump More, Abandon a Project, Read Samuel Johnson, and My Other Experiments in the Practice of Everyday Life</td></tr>",
                            "<tr><td>The Invention of Morel</td></tr>",
                            "<tr><td>The Walking Dead, Vol. 13: Too Far Gone</td></tr>",
                            "<tr><td>Little House on Rocky Ridge (Little House: The Rocky Ridge Years, #1)</td></tr>",
                            "<tr><td>In a People House</td></tr>",
                            "<tr><td>Hunters of Dune (Dune Chronicles #7)</td></tr>",
                            "<tr><td>The Story of Ruby Bridges</td></tr>",
                            "<tr><td>Stand Tall, Molly Lou Melon</td></tr>",
                            "<tr><td>Rich Dad's Guide to Investing: What the Rich Invest in That the Poor and Middle Class Do Not!</td></tr>",
                            "<tr><td>The Power of Full Engagement: Managing Energy, Not Time, Is the Key to High Performance and Personal Renewal</td></tr>",
                            "<tr><td>The Decline and Fall of the Roman Empire</td></tr>",
                            "<tr><td>Ox-Cart Man (Picture Puffin)</td></tr>",
                            "<tr><td>The Voyages of Doctor Dolittle (Doctor Dolittle, #2)</td></tr>",
                            "<tr><td>Sweet Tooth, Volume 1: Out of the Deep Woods</td></tr>",
                            "<tr><td>Iron Man: Extremis</td></tr>",
                            "<tr><td>Necronomicon: The Best Weird Tales</td></tr>",
                            "<tr><td>Batman, Volume 3: Death of the Family</td></tr>",
                            "<tr><td>Selected Poems</td></tr>",
                            "<tr><td>Hope: A Memoir of Survival in Cleveland</td></tr>",
                            "<tr><td>The Knockoff</td></tr>",
                            "<tr><td>A Kiss for Little Bear (An I Can Read Book) by Minarik, Else Holmelund [1984]</td></tr>",
                            "<tr><td>Command Authority (Jack Ryan Universe, #16)</td></tr>",
                            "<tr><td>Cinderella</td></tr>",
                            "<tr><td>The Berenstain Bears and Too Much TV</td></tr>",
                            "<tr><td>Corrupt (Devil's Night, #1)</td></tr>",
                            "<tr><td>The Bite Before Christmas (Argeneau, #15.5; Night Huntress, #6.5)</td></tr>",
                            "<tr><td>The Art of Amy Brown</td></tr>",
                            "<tr><td>Owl Babies</td></tr>",
                            "<tr><td>Animal-Speak: The Spiritual &amp; Magical Powers of Creatures Great &amp; Small</td></tr>",
                            "<tr><td>The Chronicles of Narnia - The Lion, the Witch, and the Wardrobe Official Illustrated Movie Companion</td></tr>",
                            "<tr><td>The Wolves of Willoughby Chase (The Wolves Chronicles, #1)</td></tr>",
                            "<tr><td>Vampire Knight, Vol. 3 (Vampire Knight, #3)</td></tr>",
                            "<tr><td>Mummies in the Morning (Magic Tree House, #3)</td></tr>",
                            "<tr><td>Desolation Angels</td></tr>",
                            "<tr><td>Austerlitz</td></tr>",
                            "<tr><td>Money, and the Law of Attraction: Learning to Attract Wealth, Health, and Happiness</td></tr>",
                            "<tr><td>Locked On (Jack Ryan Universe, #14)</td></tr>",
                            "<tr><td>The Illustrated Mum</td></tr>",
                            "<tr><td>Горе от ума</td></tr>",
                            "<tr><td>My Lobotomy</td></tr>",
                            "<tr><td>Henry's Freedom Box: A True Story from the Underground Railroad</td></tr>",
                            "<tr><td>Dream Dark (Caster Chronicles, #2.5)</td></tr>",
                            "<tr><td>Dangerous Girls</td></tr>",
                            "<tr><td>Sherlock Holmes and the Case of the Hound of the Baskervilles (Illustrated Classic Editions)</td></tr>",
                            "<tr><td>Vampire Knight, Vol. 2 (Vampire Knight, #2)</td></tr>",
                            "<tr><td>Horrorstör</td></tr>",
                            "<tr><td>Astonishing X-Men, Volume 2: Dangerous</td></tr>",
                            "<tr><td>Cunt: A Declaration of Independence</td></tr>",
                            "<tr><td>الحرافيش</td></tr>",
                            "<tr><td>Gut: The Inside Story of Our Body’s Most Underrated Organ</td></tr>",
                            "<tr><td>The Seven Principles for Making Marriage Work: A Practical Guide from the Country's Foremost Relationship Expert</td></tr>",
                            "<tr><td>The Sailor Who Fell from Grace with the Sea</td></tr>",
                            "<tr><td>Breaking Point (Tom Clancy's Net Force, #4)</td></tr>",
                            "<tr><td>The Everafter War (The Sisters Grimm, #7)</td></tr>",
                            "</table>"
                        ]
                    }
                }
            ],
            "execution_count": 1
        },
        {
            "cell_type": "markdown",
            "source": [
                "## QUESTION 2: Ira\n",
                "\n",
                "Ira was asked by a customer for titles that have been tagged \"Meditation\".  As you create a query for Ira, think about how the tables in BooksDB are organized as you write your query."
            ],
            "metadata": {
                "azdata_cell_guid": "06f2a08a-a54e-484e-8053-c74594da9db2"
            },
            "attachments": {}
        },
        {
            "cell_type": "code",
            "source": [
                "SELECT bk.title AS meditation_books\n",
                "FROM BooksDB.dbo.books AS bk \n",
                "WHERE bk.best_book_id IN \n",
                "    (SELECT bt.goodreads_book_id\n",
                "    FROM BooksDB.dbo.book_tags AS bt \n",
                "    WHERE bt.tag_id IN \n",
                "        (SELECT t.tag_id\n",
                "        FROM BooksDB.dbo.tags as t \n",
                "        WHERE t.tag_name LIKE '%meditation%'))"
            ],
            "metadata": {
                "azdata_cell_guid": "552924f9-a1cc-4979-8f53-15ba959550c2",
                "tags": [],
                "language": "sql"
            },
            "outputs": [
                {
                    "output_type": "display_data",
                    "data": {
                        "text/html": "Commands completed successfully."
                    },
                    "metadata": {}
                },
                {
                    "output_type": "display_data",
                    "data": {
                        "text/html": "Total execution time: 00:00:00.049"
                    },
                    "metadata": {}
                }
            ],
            "execution_count": 2
        },
        {
            "cell_type": "markdown",
            "source": [
                "## QUESTION 3:  Alyce\n",
                "\n",
                "Alyce wants to create a display of books with an average rating of 4.2 or higher, but she only wants books that share both title and original title.  Write a query that displays both the original title and title for Alyce, in descending order by rating.  Make sure that none of the original titles contain NULL values either."
            ],
            "metadata": {
                "azdata_cell_guid": "1d758d74-b4f0-4836-bdfe-d7280b5b4592"
            },
            "attachments": {}
        },
        {
            "cell_type": "code",
            "source": [
                "SELECT title, original_title, average_rating\n",
                "FROM BooksDB.dbo.books\n",
                "WHERE title = original_title AND original_title IS NOT NULL\n",
                "INTERSECT\n",
                "SELECT title, original_title, average_rating\n",
                "FROM BooksDB.dbo.books\n",
                "WHERE average_rating >= 4.2 \n",
                "ORDER BY average_rating DESC"
            ],
            "metadata": {
                "azdata_cell_guid": "2c693b4e-6987-4c49-ba55-61094e677608",
                "tags": [],
                "language": "sql"
            },
            "outputs": [
                {
                    "output_type": "display_data",
                    "data": {
                        "text/html": "Commands completed successfully."
                    },
                    "metadata": {}
                },
                {
                    "output_type": "display_data",
                    "data": {
                        "text/html": "Total execution time: 00:00:00.048"
                    },
                    "metadata": {}
                }
            ],
            "execution_count": 3
        },
        {
            "cell_type": "markdown",
            "source": [
                "## QUESTION 4:  Thisbe\n",
                "\n",
                "Thisbe is planning to make a long-term display of popular books that she will update monthly, reflecting different time periods.  She wants to make it reader-centric by including titles that readers have averagely rated higher than the book's actual average rating. \n",
                "\n",
                "**Part A:**   Write a query that compares the publication time with average reader ratings.\n",
                "\n",
                "**Part B:**  She wants the list ordered by year, then the book title"
            ],
            "metadata": {
                "azdata_cell_guid": "c3cb4fa8-802c-4130-8740-2adf20ec6a15"
            },
            "attachments": {}
        },
        {
            "cell_type": "code",
            "source": [
                "/*\n",
                "SELECT original_publication_year, title\n",
                "FROM BooksDB.dbo.books \n",
                "WHERE average_rating < \n",
                "    (SELECT \n",
                "    FROM )\n",
                "*/\n",
                "\n",
                "SELECT bk.original_publication_year, bk.title\n",
                "FROM BooksDB.dbo.books AS bk \n",
                "WHERE bk.best_book_id IN \n",
                "\n",
                "(SELECT rt.book_id\n",
                "FROM BooksDB.dbo.ratings AS rt\n",
                "GROUP BY book_id\n",
                "HAVING AVG(rt.rating) >\n",
                "    (SELECT bk.average_rating\n",
                "    FROM BooksDB.dbo.books AS bk \n",
                "    WHERE bk.best_book_id = rt.book_id))\n",
                "ORDER BY bk.original_publication_year, bk.title"
            ],
            "metadata": {
                "azdata_cell_guid": "164e0a22-349f-45ed-afe8-0753d5a8c6fc",
                "tags": [],
                "language": "sql"
            },
            "outputs": [
                {
                    "output_type": "display_data",
                    "data": {
                        "text/html": "(177 rows affected)"
                    },
                    "metadata": {}
                },
                {
                    "output_type": "display_data",
                    "data": {
                        "text/html": "Total execution time: 00:00:02.178"
                    },
                    "metadata": {}
                },
                {
                    "output_type": "execute_result",
                    "metadata": {},
                    "execution_count": 2,
                    "data": {
                        "application/vnd.dataresource+json": {
                            "schema": {
                                "fields": [
                                    {
                                        "name": "original_publication_year"
                                    },
                                    {
                                        "name": "title"
                                    }
                                ]
                            },
                            "data": [
                                {
                                    "0": "-750",
                                    "1": "The Iliad"
                                },
                                {
                                    "0": "-458",
                                    "1": "The Oresteia  (Ορέστεια, #1-3)"
                                },
                                {
                                    "0": "-441",
                                    "1": "Antigone (The Theban Plays, #3)"
                                },
                                {
                                    "0": "-430",
                                    "1": "Oedipus Rex  (The Theban Plays, #1)"
                                },
                                {
                                    "0": "-411",
                                    "1": "Lysistrata"
                                },
                                {
                                    "0": "1390",
                                    "1": "The Canterbury Tales"
                                },
                                {
                                    "0": "1605",
                                    "1": "Don Quixote"
                                },
                                {
                                    "0": "1606",
                                    "1": "Macbeth"
                                },
                                {
                                    "0": "1726",
                                    "1": "Gulliver's Travels"
                                },
                                {
                                    "0": "1847",
                                    "1": "Wuthering Heights"
                                },
                                {
                                    "0": "1848",
                                    "1": "La Dame aux Camélias"
                                },
                                {
                                    "0": "1854",
                                    "1": "Hard Times"
                                },
                                {
                                    "0": "1856",
                                    "1": "Madame Bovary"
                                },
                                {
                                    "0": "1860",
                                    "1": "Great Expectations"
                                },
                                {
                                    "0": "1880",
                                    "1": "Heidi"
                                },
                                {
                                    "0": "1882",
                                    "1": "Treasure Island"
                                },
                                {
                                    "0": "1884",
                                    "1": "The Adventures of Huckleberry Finn"
                                },
                                {
                                    "0": "1889",
                                    "1": "Three Men in a Boat (Three Men, #1)"
                                },
                                {
                                    "0": "1895",
                                    "1": "The Time Machine"
                                },
                                {
                                    "0": "1897",
                                    "1": "The War of the Worlds"
                                },
                                {
                                    "0": "1908",
                                    "1": "The Wind in the Willows"
                                },
                                {
                                    "0": "1912",
                                    "1": "Pygmalion"
                                },
                                {
                                    "0": "1912",
                                    "1": "The Broken Wings"
                                },
                                {
                                    "0": "1920",
                                    "1": "Women in Love (Brangwen Family, #2)"
                                },
                                {
                                    "0": "1922",
                                    "1": "The Beautiful and Damned"
                                },
                                {
                                    "0": "1932",
                                    "1": "Brave New World"
                                },
                                {
                                    "0": "1933",
                                    "1": "Lost Horizon"
                                },
                                {
                                    "0": "1933",
                                    "1": "The Red Pony"
                                },
                                {
                                    "0": "1934",
                                    "1": "Burmese Days"
                                },
                                {
                                    "0": "1937",
                                    "1": "Of Mice and Men"
                                },
                                {
                                    "0": "1938",
                                    "1": "Tropic of Capricorn"
                                },
                                {
                                    "0": "1940",
                                    "1": "The Power and the Glory"
                                },
                                {
                                    "0": "1945",
                                    "1": "Animal Farm"
                                },
                                {
                                    "0": "1948",
                                    "1": "The Heart of the Matter"
                                },
                                {
                                    "0": "1952",
                                    "1": "Player Piano"
                                },
                                {
                                    "0": "1953",
                                    "1": "Fahrenheit 451"
                                },
                                {
                                    "0": "1953",
                                    "1": "The First Four Years  (Little House, #9)"
                                },
                                {
                                    "0": "1955",
                                    "1": "The Quiet American"
                                },
                                {
                                    "0": "1957",
                                    "1": "Atlas Shrugged"
                                },
                                {
                                    "0": "1958",
                                    "1": "Brave New World Revisited "
                                },
                                {
                                    "0": "1959",
                                    "1": "Goldfinger (James Bond, #7)"
                                },
                                {
                                    "0": "1961",
                                    "1": "A House for Mr Biswas"
                                },
                                {
                                    "0": "1961",
                                    "1": "Franny and Zooey"
                                },
                                {
                                    "0": "1961",
                                    "1": "James and the Giant Peach"
                                },
                                {
                                    "0": "1961",
                                    "1": "The Virtue of Selfishness: A New Concept of Egoism"
                                },
                                {
                                    "0": "1961",
                                    "1": "The Winter of Our Discontent"
                                },
                                {
                                    "0": "1962",
                                    "1": "The Woman in the Dunes"
                                },
                                {
                                    "0": "1963",
                                    "1": "The Bell Jar"
                                },
                                {
                                    "0": "1966",
                                    "1": "The Crying of Lot 49"
                                },
                                {
                                    "0": "1971",
                                    "1": "Another Roadside Attraction"
                                },
                                {
                                    "0": "1972",
                                    "1": "The Terminal Man"
                                },
                                {
                                    "0": "1974",
                                    "1": "The 158-Pound Marriage"
                                },
                                {
                                    "0": "1975",
                                    "1": "A History of God: The 4,000-Year Quest of Judaism, Christianity, and Islam"
                                },
                                {
                                    "0": "1976",
                                    "1": "Children of Dune (Dune Chronicles #3)"
                                },
                                {
                                    "0": "1980",
                                    "1": "Congo"
                                },
                                {
                                    "0": "1982",
                                    "1": "Deadeye Dick"
                                },
                                {
                                    "0": "1983",
                                    "1": "Life and Times of Michael K"
                                },
                                {
                                    "0": "1984",
                                    "1": "Heretics of Dune (Dune Chronicles #5)"
                                },
                                {
                                    "0": "1985",
                                    "1": "City of Glass (The New York Trilogy, #1)"
                                },
                                {
                                    "0": "1985",
                                    "1": "Love in the Time of Cholera"
                                },
                                {
                                    "0": "1986",
                                    "1": "Hatchet (Brian's Saga, #1)"
                                },
                                {
                                    "0": "1987",
                                    "1": "Beloved"
                                },
                                {
                                    "0": "1987",
                                    "1": "Dirk Gently's Holistic Detective Agency (Dirk Gently #1)"
                                },
                                {
                                    "0": "1987",
                                    "1": "In the Skin of a Lion"
                                },
                                {
                                    "0": "1987",
                                    "1": "The Pilgrimage"
                                },
                                {
                                    "0": "1987",
                                    "1": "The Rules of Attraction"
                                },
                                {
                                    "0": "1988",
                                    "1": "The Book of Ruth"
                                },
                                {
                                    "0": "1988",
                                    "1": "The Valkyries"
                                },
                                {
                                    "0": "1989",
                                    "1": "What to Expect the First Year (What to Expect)"
                                },
                                {
                                    "0": "1990",
                                    "1": "Hocus Pocus"
                                },
                                {
                                    "0": "1990",
                                    "1": "The Mother Tongue: English and How It Got That Way"
                                },
                                {
                                    "0": "1991",
                                    "1": "Generation X: Tales for an Accelerated Culture"
                                },
                                {
                                    "0": "1991",
                                    "1": "Jewel"
                                },
                                {
                                    "0": "1991",
                                    "1": "Mariel of Redwall (Redwall, #4)"
                                },
                                {
                                    "0": "1991",
                                    "1": "Neither Here nor There: Travels in Europe"
                                },
                                {
                                    "0": "1991",
                                    "1": "Night Over Water"
                                },
                                {
                                    "0": "1991",
                                    "1": "Xenocide (Ender's Saga, #3)"
                                },
                                {
                                    "0": "1992",
                                    "1": "A Map of the World"
                                },
                                {
                                    "0": "1992",
                                    "1": "Leviathan"
                                },
                                {
                                    "0": "1992",
                                    "1": "Little Altars Everywhere"
                                },
                                {
                                    "0": "1992",
                                    "1": "Prophet"
                                },
                                {
                                    "0": "1993",
                                    "1": "Deerskin"
                                },
                                {
                                    "0": "1993",
                                    "1": "The Client"
                                },
                                {
                                    "0": "1994",
                                    "1": "A Son of the Circus"
                                },
                                {
                                    "0": "1994",
                                    "1": "Built to Last: Successful Habits of Visionary Companies"
                                },
                                {
                                    "0": "1994",
                                    "1": "In the Lake of the Woods"
                                },
                                {
                                    "0": "1994",
                                    "1": "The Bellmaker (Redwall, #7)"
                                },
                                {
                                    "0": "1995",
                                    "1": "Longitude: The True Story of a Lone Genius Who Solved the Greatest Scientific Problem of His Time"
                                },
                                {
                                    "0": "1995",
                                    "1": "Reservation Blues"
                                },
                                {
                                    "0": "1995",
                                    "1": "Songs in Ordinary Time"
                                },
                                {
                                    "0": "1995",
                                    "1": "The Lost World (Jurassic Park, #2)"
                                },
                                {
                                    "0": "1995",
                                    "1": "The Moor's Last Sigh"
                                },
                                {
                                    "0": "1995",
                                    "1": "The Rapture of Canaan"
                                },
                                {
                                    "0": "1996",
                                    "1": "Cause of Death (Kay Scarpetta, #7)"
                                },
                                {
                                    "0": "1996",
                                    "1": "Last Orders"
                                },
                                {
                                    "0": "1996",
                                    "1": "Lucy Sullivan Is Getting Married"
                                },
                                {
                                    "0": "1996",
                                    "1": "Sex and the City"
                                },
                                {
                                    "0": "1996",
                                    "1": "We Were the Mulvaneys"
                                },
                                {
                                    "0": "1997",
                                    "1": "Here on Earth"
                                },
                                {
                                    "0": "1997",
                                    "1": "Rachel's Holiday (Walsh Family, #2)"
                                },
                                {
                                    "0": "1997",
                                    "1": "Rose Daughter"
                                },
                                {
                                    "0": "1998",
                                    "1": "About a Boy"
                                },
                                {
                                    "0": "1998",
                                    "1": "Amsterdam"
                                },
                                {
                                    "0": "1998",
                                    "1": "Girlfriend in a Coma"
                                },
                                {
                                    "0": "1998",
                                    "1": "Glamorama"
                                },
                                {
                                    "0": "1998",
                                    "1": "I'm a Stranger Here Myself: Notes on Returning to America after Twenty Years Away"
                                },
                                {
                                    "0": "1998",
                                    "1": "Marlfox (Redwall, #11)"
                                },
                                {
                                    "0": "1998",
                                    "1": "Men Are from Mars, Women Are from Venus"
                                },
                                {
                                    "0": "1998",
                                    "1": "Message in a Bottle"
                                },
                                {
                                    "0": "1998",
                                    "1": "The No. 1 Ladies' Detective Agency  (No. 1 Ladies' Detective Agency, #1)"
                                },
                                {
                                    "0": "1998",
                                    "1": "The Street Lawyer"
                                },
                                {
                                    "0": "1998",
                                    "1": "Who Moved My Cheese?"
                                },
                                {
                                    "0": "1999",
                                    "1": "Bagombo Snuff Box"
                                },
                                {
                                    "0": "1999",
                                    "1": "Girl with a Pearl Earring"
                                },
                                {
                                    "0": "1999",
                                    "1": "Last Chance Saloon"
                                },
                                {
                                    "0": "1999",
                                    "1": "Sputnik Sweetheart"
                                },
                                {
                                    "0": "1999",
                                    "1": "The Legend of Luke (Redwall, #12)"
                                },
                                {
                                    "0": "1999",
                                    "1": "Timeline"
                                },
                                {
                                    "0": "2000",
                                    "1": "A Heartbreaking Work of Staggering Genius"
                                },
                                {
                                    "0": "2000",
                                    "1": "Angels & Demons  (Robert Langdon, #1)"
                                },
                                {
                                    "0": "2000",
                                    "1": "Code to Zero"
                                },
                                {
                                    "0": "2000",
                                    "1": "Dreamland"
                                },
                                {
                                    "0": "2000",
                                    "1": "Drowning Ruth"
                                },
                                {
                                    "0": "2000",
                                    "1": "Four Blondes"
                                },
                                {
                                    "0": "2000",
                                    "1": "Shadow of the Hegemon (Ender's Shadow, #2)"
                                },
                                {
                                    "0": "2000",
                                    "1": "Tears of the Giraffe (No. 1 Ladies' Detective Agency, #2)"
                                },
                                {
                                    "0": "2000",
                                    "1": "The Brethren"
                                },
                                {
                                    "0": "2001",
                                    "1": "A Painted House"
                                },
                                {
                                    "0": "2001",
                                    "1": "Atonement"
                                },
                                {
                                    "0": "2001",
                                    "1": "Deception Point"
                                },
                                {
                                    "0": "2001",
                                    "1": "Falling Angels"
                                },
                                {
                                    "0": "2001",
                                    "1": "Morality for Beautiful Girls (No. 1 Ladies' Detective Agency, #3)"
                                },
                                {
                                    "0": "2001",
                                    "1": "Nickel and Dimed: On (Not) Getting By in America"
                                },
                                {
                                    "0": "2001",
                                    "1": "number9dream"
                                },
                                {
                                    "0": "2001",
                                    "1": "Them: Adventures with Extremists"
                                },
                                {
                                    "0": "2002",
                                    "1": "Holy Cow: An Indian Adventure"
                                },
                                {
                                    "0": "2002",
                                    "1": "The Autograph Man"
                                },
                                {
                                    "0": "2002",
                                    "1": "The Beach House"
                                },
                                {
                                    "0": "2002",
                                    "1": "The Bookseller of Kabul"
                                },
                                {
                                    "0": "2002",
                                    "1": "The Salmon of Doubt (Dirk Gently, #3)"
                                },
                                {
                                    "0": "2002",
                                    "1": "The Summons"
                                },
                                {
                                    "0": "2003",
                                    "1": "Bleachers"
                                },
                                {
                                    "0": "2003",
                                    "1": "Hey Nostradamus!"
                                },
                                {
                                    "0": "2003",
                                    "1": "Sickened: The Memoir of a Munchausen by Proxy Childhood"
                                },
                                {
                                    "0": "2003",
                                    "1": "Songbook"
                                },
                                {
                                    "0": "2003",
                                    "1": "The Amber Room"
                                },
                                {
                                    "0": "2003",
                                    "1": "The Curious Incident of the Dog in the Night-Time"
                                },
                                {
                                    "0": "2003",
                                    "1": "The King of Torts"
                                },
                                {
                                    "0": "2003",
                                    "1": "The Second Summer of the Sisterhood (Sisterhood, #2)"
                                },
                                {
                                    "0": "2003",
                                    "1": "Villa Incognito"
                                },
                                {
                                    "0": "2004",
                                    "1": "Blue Ocean Strategy: How To Create Uncontested Market Space And Make The Competition Irrelevant"
                                },
                                {
                                    "0": "2004",
                                    "1": "Confessions of an Economic Hit Man"
                                },
                                {
                                    "0": "2004",
                                    "1": "His Excellency: George Washington"
                                },
                                {
                                    "0": "2004",
                                    "1": "Maximum City: Bombay Lost and Found"
                                },
                                {
                                    "0": "2004",
                                    "1": "Memories of My Melancholy Whores"
                                },
                                {
                                    "0": "2004",
                                    "1": "Shopaholic and Sister (Shopaholic, #4)"
                                },
                                {
                                    "0": "2004",
                                    "1": "Song of Susannah (The Dark Tower, #6)"
                                },
                                {
                                    "0": "2004",
                                    "1": "The Last Juror"
                                },
                                {
                                    "0": "2005",
                                    "1": "Assassination Vacation"
                                },
                                {
                                    "0": "2005",
                                    "1": "Everyday Italian: 125 Simple and Delicious Recipes"
                                },
                                {
                                    "0": "2005",
                                    "1": "Lipstick Jungle"
                                },
                                {
                                    "0": "2005",
                                    "1": "Olympos (Ilium, #2)"
                                },
                                {
                                    "0": "2005",
                                    "1": "On Beauty"
                                },
                                {
                                    "0": "2005",
                                    "1": "Saturday"
                                },
                                {
                                    "0": "2005",
                                    "1": "Shadow of the Giant (Ender's Shadow, #4)"
                                },
                                {
                                    "0": "2005",
                                    "1": "The Brooklyn Follies"
                                },
                                {
                                    "0": "2005",
                                    "1": "The Game: Penetrating the Secret Society of Pickup Artists"
                                },
                                {
                                    "0": "2006",
                                    "1": "I Hope They Serve Beer in Hell (Tucker Max, #1)"
                                },
                                {
                                    "0": "2006",
                                    "1": "Motor Mouth (Alex Barnaby #2)"
                                },
                                {
                                    "0": "2006",
                                    "1": "Next"
                                },
                                {
                                    "0": "2006",
                                    "1": "Special Topics in Calamity Physics"
                                },
                                {
                                    "0": "2006",
                                    "1": "The Android's Dream"
                                },
                                {
                                    "0": "2006",
                                    "1": "The Emperor's Children"
                                },
                                {
                                    "0": "2007",
                                    "1": "Forever in Blue: The Fourth Summer of the Sisterhood (Sisterhood, #4)"
                                },
                                {
                                    "0": "2007",
                                    "1": "Plum Lovin' (Stephanie Plum, #12.5)"
                                },
                                {
                                    "0": "2007",
                                    "1": "Shopaholic & Baby (Shopaholic, #5)"
                                },
                                {
                                    "0": "2009",
                                    "1": "Execution: The Discipline of Getting Things Done"
                                }
                            ]
                        },
                        "text/html": [
                            "<table>",
                            "<tr><th>original_publication_year</th><th>title</th></tr>",
                            "<tr><td>-750</td><td>The Iliad</td></tr>",
                            "<tr><td>-458</td><td>The Oresteia  (Ορέστεια, #1-3)</td></tr>",
                            "<tr><td>-441</td><td>Antigone (The Theban Plays, #3)</td></tr>",
                            "<tr><td>-430</td><td>Oedipus Rex  (The Theban Plays, #1)</td></tr>",
                            "<tr><td>-411</td><td>Lysistrata</td></tr>",
                            "<tr><td>1390</td><td>The Canterbury Tales</td></tr>",
                            "<tr><td>1605</td><td>Don Quixote</td></tr>",
                            "<tr><td>1606</td><td>Macbeth</td></tr>",
                            "<tr><td>1726</td><td>Gulliver's Travels</td></tr>",
                            "<tr><td>1847</td><td>Wuthering Heights</td></tr>",
                            "<tr><td>1848</td><td>La Dame aux Camélias</td></tr>",
                            "<tr><td>1854</td><td>Hard Times</td></tr>",
                            "<tr><td>1856</td><td>Madame Bovary</td></tr>",
                            "<tr><td>1860</td><td>Great Expectations</td></tr>",
                            "<tr><td>1880</td><td>Heidi</td></tr>",
                            "<tr><td>1882</td><td>Treasure Island</td></tr>",
                            "<tr><td>1884</td><td>The Adventures of Huckleberry Finn</td></tr>",
                            "<tr><td>1889</td><td>Three Men in a Boat (Three Men, #1)</td></tr>",
                            "<tr><td>1895</td><td>The Time Machine</td></tr>",
                            "<tr><td>1897</td><td>The War of the Worlds</td></tr>",
                            "<tr><td>1908</td><td>The Wind in the Willows</td></tr>",
                            "<tr><td>1912</td><td>Pygmalion</td></tr>",
                            "<tr><td>1912</td><td>The Broken Wings</td></tr>",
                            "<tr><td>1920</td><td>Women in Love (Brangwen Family, #2)</td></tr>",
                            "<tr><td>1922</td><td>The Beautiful and Damned</td></tr>",
                            "<tr><td>1932</td><td>Brave New World</td></tr>",
                            "<tr><td>1933</td><td>Lost Horizon</td></tr>",
                            "<tr><td>1933</td><td>The Red Pony</td></tr>",
                            "<tr><td>1934</td><td>Burmese Days</td></tr>",
                            "<tr><td>1937</td><td>Of Mice and Men</td></tr>",
                            "<tr><td>1938</td><td>Tropic of Capricorn</td></tr>",
                            "<tr><td>1940</td><td>The Power and the Glory</td></tr>",
                            "<tr><td>1945</td><td>Animal Farm</td></tr>",
                            "<tr><td>1948</td><td>The Heart of the Matter</td></tr>",
                            "<tr><td>1952</td><td>Player Piano</td></tr>",
                            "<tr><td>1953</td><td>Fahrenheit 451</td></tr>",
                            "<tr><td>1953</td><td>The First Four Years  (Little House, #9)</td></tr>",
                            "<tr><td>1955</td><td>The Quiet American</td></tr>",
                            "<tr><td>1957</td><td>Atlas Shrugged</td></tr>",
                            "<tr><td>1958</td><td>Brave New World Revisited </td></tr>",
                            "<tr><td>1959</td><td>Goldfinger (James Bond, #7)</td></tr>",
                            "<tr><td>1961</td><td>A House for Mr Biswas</td></tr>",
                            "<tr><td>1961</td><td>Franny and Zooey</td></tr>",
                            "<tr><td>1961</td><td>James and the Giant Peach</td></tr>",
                            "<tr><td>1961</td><td>The Virtue of Selfishness: A New Concept of Egoism</td></tr>",
                            "<tr><td>1961</td><td>The Winter of Our Discontent</td></tr>",
                            "<tr><td>1962</td><td>The Woman in the Dunes</td></tr>",
                            "<tr><td>1963</td><td>The Bell Jar</td></tr>",
                            "<tr><td>1966</td><td>The Crying of Lot 49</td></tr>",
                            "<tr><td>1971</td><td>Another Roadside Attraction</td></tr>",
                            "<tr><td>1972</td><td>The Terminal Man</td></tr>",
                            "<tr><td>1974</td><td>The 158-Pound Marriage</td></tr>",
                            "<tr><td>1975</td><td>A History of God: The 4,000-Year Quest of Judaism, Christianity, and Islam</td></tr>",
                            "<tr><td>1976</td><td>Children of Dune (Dune Chronicles #3)</td></tr>",
                            "<tr><td>1980</td><td>Congo</td></tr>",
                            "<tr><td>1982</td><td>Deadeye Dick</td></tr>",
                            "<tr><td>1983</td><td>Life and Times of Michael K</td></tr>",
                            "<tr><td>1984</td><td>Heretics of Dune (Dune Chronicles #5)</td></tr>",
                            "<tr><td>1985</td><td>City of Glass (The New York Trilogy, #1)</td></tr>",
                            "<tr><td>1985</td><td>Love in the Time of Cholera</td></tr>",
                            "<tr><td>1986</td><td>Hatchet (Brian's Saga, #1)</td></tr>",
                            "<tr><td>1987</td><td>Beloved</td></tr>",
                            "<tr><td>1987</td><td>Dirk Gently's Holistic Detective Agency (Dirk Gently #1)</td></tr>",
                            "<tr><td>1987</td><td>In the Skin of a Lion</td></tr>",
                            "<tr><td>1987</td><td>The Pilgrimage</td></tr>",
                            "<tr><td>1987</td><td>The Rules of Attraction</td></tr>",
                            "<tr><td>1988</td><td>The Book of Ruth</td></tr>",
                            "<tr><td>1988</td><td>The Valkyries</td></tr>",
                            "<tr><td>1989</td><td>What to Expect the First Year (What to Expect)</td></tr>",
                            "<tr><td>1990</td><td>Hocus Pocus</td></tr>",
                            "<tr><td>1990</td><td>The Mother Tongue: English and How It Got That Way</td></tr>",
                            "<tr><td>1991</td><td>Generation X: Tales for an Accelerated Culture</td></tr>",
                            "<tr><td>1991</td><td>Jewel</td></tr>",
                            "<tr><td>1991</td><td>Mariel of Redwall (Redwall, #4)</td></tr>",
                            "<tr><td>1991</td><td>Neither Here nor There: Travels in Europe</td></tr>",
                            "<tr><td>1991</td><td>Night Over Water</td></tr>",
                            "<tr><td>1991</td><td>Xenocide (Ender's Saga, #3)</td></tr>",
                            "<tr><td>1992</td><td>A Map of the World</td></tr>",
                            "<tr><td>1992</td><td>Leviathan</td></tr>",
                            "<tr><td>1992</td><td>Little Altars Everywhere</td></tr>",
                            "<tr><td>1992</td><td>Prophet</td></tr>",
                            "<tr><td>1993</td><td>Deerskin</td></tr>",
                            "<tr><td>1993</td><td>The Client</td></tr>",
                            "<tr><td>1994</td><td>A Son of the Circus</td></tr>",
                            "<tr><td>1994</td><td>Built to Last: Successful Habits of Visionary Companies</td></tr>",
                            "<tr><td>1994</td><td>In the Lake of the Woods</td></tr>",
                            "<tr><td>1994</td><td>The Bellmaker (Redwall, #7)</td></tr>",
                            "<tr><td>1995</td><td>Longitude: The True Story of a Lone Genius Who Solved the Greatest Scientific Problem of His Time</td></tr>",
                            "<tr><td>1995</td><td>Reservation Blues</td></tr>",
                            "<tr><td>1995</td><td>Songs in Ordinary Time</td></tr>",
                            "<tr><td>1995</td><td>The Lost World (Jurassic Park, #2)</td></tr>",
                            "<tr><td>1995</td><td>The Moor's Last Sigh</td></tr>",
                            "<tr><td>1995</td><td>The Rapture of Canaan</td></tr>",
                            "<tr><td>1996</td><td>Cause of Death (Kay Scarpetta, #7)</td></tr>",
                            "<tr><td>1996</td><td>Last Orders</td></tr>",
                            "<tr><td>1996</td><td>Lucy Sullivan Is Getting Married</td></tr>",
                            "<tr><td>1996</td><td>Sex and the City</td></tr>",
                            "<tr><td>1996</td><td>We Were the Mulvaneys</td></tr>",
                            "<tr><td>1997</td><td>Here on Earth</td></tr>",
                            "<tr><td>1997</td><td>Rachel's Holiday (Walsh Family, #2)</td></tr>",
                            "<tr><td>1997</td><td>Rose Daughter</td></tr>",
                            "<tr><td>1998</td><td>About a Boy</td></tr>",
                            "<tr><td>1998</td><td>Amsterdam</td></tr>",
                            "<tr><td>1998</td><td>Girlfriend in a Coma</td></tr>",
                            "<tr><td>1998</td><td>Glamorama</td></tr>",
                            "<tr><td>1998</td><td>I'm a Stranger Here Myself: Notes on Returning to America after Twenty Years Away</td></tr>",
                            "<tr><td>1998</td><td>Marlfox (Redwall, #11)</td></tr>",
                            "<tr><td>1998</td><td>Men Are from Mars, Women Are from Venus</td></tr>",
                            "<tr><td>1998</td><td>Message in a Bottle</td></tr>",
                            "<tr><td>1998</td><td>The No. 1 Ladies' Detective Agency  (No. 1 Ladies' Detective Agency, #1)</td></tr>",
                            "<tr><td>1998</td><td>The Street Lawyer</td></tr>",
                            "<tr><td>1998</td><td>Who Moved My Cheese?</td></tr>",
                            "<tr><td>1999</td><td>Bagombo Snuff Box</td></tr>",
                            "<tr><td>1999</td><td>Girl with a Pearl Earring</td></tr>",
                            "<tr><td>1999</td><td>Last Chance Saloon</td></tr>",
                            "<tr><td>1999</td><td>Sputnik Sweetheart</td></tr>",
                            "<tr><td>1999</td><td>The Legend of Luke (Redwall, #12)</td></tr>",
                            "<tr><td>1999</td><td>Timeline</td></tr>",
                            "<tr><td>2000</td><td>A Heartbreaking Work of Staggering Genius</td></tr>",
                            "<tr><td>2000</td><td>Angels &amp; Demons  (Robert Langdon, #1)</td></tr>",
                            "<tr><td>2000</td><td>Code to Zero</td></tr>",
                            "<tr><td>2000</td><td>Dreamland</td></tr>",
                            "<tr><td>2000</td><td>Drowning Ruth</td></tr>",
                            "<tr><td>2000</td><td>Four Blondes</td></tr>",
                            "<tr><td>2000</td><td>Shadow of the Hegemon (Ender's Shadow, #2)</td></tr>",
                            "<tr><td>2000</td><td>Tears of the Giraffe (No. 1 Ladies' Detective Agency, #2)</td></tr>",
                            "<tr><td>2000</td><td>The Brethren</td></tr>",
                            "<tr><td>2001</td><td>A Painted House</td></tr>",
                            "<tr><td>2001</td><td>Atonement</td></tr>",
                            "<tr><td>2001</td><td>Deception Point</td></tr>",
                            "<tr><td>2001</td><td>Falling Angels</td></tr>",
                            "<tr><td>2001</td><td>Morality for Beautiful Girls (No. 1 Ladies' Detective Agency, #3)</td></tr>",
                            "<tr><td>2001</td><td>Nickel and Dimed: On (Not) Getting By in America</td></tr>",
                            "<tr><td>2001</td><td>number9dream</td></tr>",
                            "<tr><td>2001</td><td>Them: Adventures with Extremists</td></tr>",
                            "<tr><td>2002</td><td>Holy Cow: An Indian Adventure</td></tr>",
                            "<tr><td>2002</td><td>The Autograph Man</td></tr>",
                            "<tr><td>2002</td><td>The Beach House</td></tr>",
                            "<tr><td>2002</td><td>The Bookseller of Kabul</td></tr>",
                            "<tr><td>2002</td><td>The Salmon of Doubt (Dirk Gently, #3)</td></tr>",
                            "<tr><td>2002</td><td>The Summons</td></tr>",
                            "<tr><td>2003</td><td>Bleachers</td></tr>",
                            "<tr><td>2003</td><td>Hey Nostradamus!</td></tr>",
                            "<tr><td>2003</td><td>Sickened: The Memoir of a Munchausen by Proxy Childhood</td></tr>",
                            "<tr><td>2003</td><td>Songbook</td></tr>",
                            "<tr><td>2003</td><td>The Amber Room</td></tr>",
                            "<tr><td>2003</td><td>The Curious Incident of the Dog in the Night-Time</td></tr>",
                            "<tr><td>2003</td><td>The King of Torts</td></tr>",
                            "<tr><td>2003</td><td>The Second Summer of the Sisterhood (Sisterhood, #2)</td></tr>",
                            "<tr><td>2003</td><td>Villa Incognito</td></tr>",
                            "<tr><td>2004</td><td>Blue Ocean Strategy: How To Create Uncontested Market Space And Make The Competition Irrelevant</td></tr>",
                            "<tr><td>2004</td><td>Confessions of an Economic Hit Man</td></tr>",
                            "<tr><td>2004</td><td>His Excellency: George Washington</td></tr>",
                            "<tr><td>2004</td><td>Maximum City: Bombay Lost and Found</td></tr>",
                            "<tr><td>2004</td><td>Memories of My Melancholy Whores</td></tr>",
                            "<tr><td>2004</td><td>Shopaholic and Sister (Shopaholic, #4)</td></tr>",
                            "<tr><td>2004</td><td>Song of Susannah (The Dark Tower, #6)</td></tr>",
                            "<tr><td>2004</td><td>The Last Juror</td></tr>",
                            "<tr><td>2005</td><td>Assassination Vacation</td></tr>",
                            "<tr><td>2005</td><td>Everyday Italian: 125 Simple and Delicious Recipes</td></tr>",
                            "<tr><td>2005</td><td>Lipstick Jungle</td></tr>",
                            "<tr><td>2005</td><td>Olympos (Ilium, #2)</td></tr>",
                            "<tr><td>2005</td><td>On Beauty</td></tr>",
                            "<tr><td>2005</td><td>Saturday</td></tr>",
                            "<tr><td>2005</td><td>Shadow of the Giant (Ender's Shadow, #4)</td></tr>",
                            "<tr><td>2005</td><td>The Brooklyn Follies</td></tr>",
                            "<tr><td>2005</td><td>The Game: Penetrating the Secret Society of Pickup Artists</td></tr>",
                            "<tr><td>2006</td><td>I Hope They Serve Beer in Hell (Tucker Max, #1)</td></tr>",
                            "<tr><td>2006</td><td>Motor Mouth (Alex Barnaby #2)</td></tr>",
                            "<tr><td>2006</td><td>Next</td></tr>",
                            "<tr><td>2006</td><td>Special Topics in Calamity Physics</td></tr>",
                            "<tr><td>2006</td><td>The Android's Dream</td></tr>",
                            "<tr><td>2006</td><td>The Emperor's Children</td></tr>",
                            "<tr><td>2007</td><td>Forever in Blue: The Fourth Summer of the Sisterhood (Sisterhood, #4)</td></tr>",
                            "<tr><td>2007</td><td>Plum Lovin' (Stephanie Plum, #12.5)</td></tr>",
                            "<tr><td>2007</td><td>Shopaholic &amp; Baby (Shopaholic, #5)</td></tr>",
                            "<tr><td>2009</td><td>Execution: The Discipline of Getting Things Done</td></tr>",
                            "</table>"
                        ]
                    }
                }
            ],
            "execution_count": 2
        }
    ]
}